{
  "nbformat": 4,
  "nbformat_minor": 0,
  "metadata": {
    "colab": {
      "provenance": [],
      "collapsed_sections": [
        "vjUhqVPB36OD",
        "beuZLpWB_-cl",
        "TQauY1KNCi_z",
        "8ZLXotOYCmn4"
      ],
      "gpuType": "T4",
      "authorship_tag": "ABX9TyNrrAJy7p1nt7YHhXKe3xNN",
      "include_colab_link": true
    },
    "kernelspec": {
      "name": "python3",
      "display_name": "Python 3"
    },
    "language_info": {
      "name": "python"
    },
    "accelerator": "GPU"
  },
  "cells": [
    {
      "cell_type": "markdown",
      "metadata": {
        "id": "view-in-github",
        "colab_type": "text"
      },
      "source": [
        "<a href=\"https://colab.research.google.com/github/R-Damanhuri/Sentiment-Analysis-Twitter-App-Review-IndoBERT/blob/main/SmSA_Twitter_Application_Score_Based_Label.ipynb\" target=\"_parent\"><img src=\"https://colab.research.google.com/assets/colab-badge.svg\" alt=\"Open In Colab\"/></a>"
      ]
    },
    {
      "cell_type": "markdown",
      "source": [
        "# Data Collecting"
      ],
      "metadata": {
        "id": "qPKwCWxWGoJZ"
      }
    },
    {
      "cell_type": "code",
      "execution_count": 1,
      "metadata": {
        "colab": {
          "base_uri": "https://localhost:8080/"
        },
        "id": "7FnOFIleGd8g",
        "outputId": "e26d5701-98a0-41fd-f32e-1b40ef4cc86a"
      },
      "outputs": [
        {
          "output_type": "stream",
          "name": "stdout",
          "text": [
            "Collecting google-play-scraper\n",
            "  Downloading google_play_scraper-1.2.4-py3-none-any.whl (28 kB)\n",
            "Installing collected packages: google-play-scraper\n",
            "Successfully installed google-play-scraper-1.2.4\n"
          ]
        }
      ],
      "source": [
        "!pip install google-play-scraper"
      ]
    },
    {
      "cell_type": "code",
      "source": [
        "from google_play_scraper import app\n",
        "from google_play_scraper import Sort, reviews"
      ],
      "metadata": {
        "id": "djcHbs-pRWOc"
      },
      "execution_count": null,
      "outputs": []
    },
    {
      "cell_type": "code",
      "source": [
        "import pandas as pd\n",
        "import numpy as np"
      ],
      "metadata": {
        "id": "UtfKxy4nGwWb"
      },
      "execution_count": 3,
      "outputs": []
    },
    {
      "cell_type": "code",
      "source": [
        "reviews, continuation_token = reviews(\n",
        "    'com.twitter.android',\n",
        "    lang='id',\n",
        "    country='id',\n",
        "    sort=Sort.NEWEST,\n",
        "    count = 100000\n",
        ")"
      ],
      "metadata": {
        "id": "N69CfXOzGzro"
      },
      "execution_count": 3,
      "outputs": []
    },
    {
      "cell_type": "code",
      "source": [
        "df = pd.DataFrame(np.array(reviews),columns=['review'])\n",
        "df = df.join(pd.DataFrame(df.pop('review').tolist()))"
      ],
      "metadata": {
        "id": "pUglyo2OHdh3"
      },
      "execution_count": 4,
      "outputs": []
    },
    {
      "cell_type": "code",
      "source": [
        "df.head()"
      ],
      "metadata": {
        "colab": {
          "base_uri": "https://localhost:8080/",
          "height": 441
        },
        "id": "XzIcmfarHhNm",
        "outputId": "92df6a93-2a05-4f6e-f016-5e61657d975c"
      },
      "execution_count": 5,
      "outputs": [
        {
          "output_type": "execute_result",
          "data": {
            "text/plain": [
              "                               reviewId         userName  \\\n",
              "0  2d00906e-94bc-4aa3-980a-dd4aa566a15b      Piscessielf   \n",
              "1  86d6ed45-904d-4643-8f90-4ca450d6b893  AN26 pro Chanel   \n",
              "2  1e6733b7-f1c2-48af-8e27-1fe091ebc5d6        Rici Rici   \n",
              "3  863de400-0bdd-4fa9-962b-1e58857479b3      cici pinter   \n",
              "4  9fc8cfd1-bb3e-4040-b7ac-cda8d7541ff3     Sofyan Fauzi   \n",
              "\n",
              "                                           userImage  \\\n",
              "0  https://play-lh.googleusercontent.com/a-/AD_cM...   \n",
              "1  https://play-lh.googleusercontent.com/a-/AD_cM...   \n",
              "2  https://play-lh.googleusercontent.com/a/AAcHTt...   \n",
              "3  https://play-lh.googleusercontent.com/a/AAcHTt...   \n",
              "4  https://play-lh.googleusercontent.com/a-/AD_cM...   \n",
              "\n",
              "                                  content  score  thumbsUpCount  \\\n",
              "0                    Hate X, love Twitter      1             49   \n",
              "1                       Good good good 😘😘      5              0   \n",
              "2  Apk tolol ngk jelas login aja ngk bisa      1              0   \n",
              "3                                   JELEK      1              0   \n",
              "4                         Gabud ikut ikut      1              0   \n",
              "\n",
              "  reviewCreatedVersion                  at replyContent repliedAt  \\\n",
              "0     9.98.0-release.0 2023-07-31 07:58:04         None      None   \n",
              "1     10.0.0-release.0 2023-07-31 07:56:13         None      None   \n",
              "2     10.0.0-release.0 2023-07-31 07:48:32         None      None   \n",
              "3                 None 2023-07-31 07:45:51         None      None   \n",
              "4                 None 2023-07-31 07:45:36         None      None   \n",
              "\n",
              "         appVersion  \n",
              "0  9.98.0-release.0  \n",
              "1  10.0.0-release.0  \n",
              "2  10.0.0-release.0  \n",
              "3              None  \n",
              "4              None  "
            ],
            "text/html": [
              "\n",
              "\n",
              "  <div id=\"df-f6ffe920-90f1-49e5-96dc-37bb2f378912\">\n",
              "    <div class=\"colab-df-container\">\n",
              "      <div>\n",
              "<style scoped>\n",
              "    .dataframe tbody tr th:only-of-type {\n",
              "        vertical-align: middle;\n",
              "    }\n",
              "\n",
              "    .dataframe tbody tr th {\n",
              "        vertical-align: top;\n",
              "    }\n",
              "\n",
              "    .dataframe thead th {\n",
              "        text-align: right;\n",
              "    }\n",
              "</style>\n",
              "<table border=\"1\" class=\"dataframe\">\n",
              "  <thead>\n",
              "    <tr style=\"text-align: right;\">\n",
              "      <th></th>\n",
              "      <th>reviewId</th>\n",
              "      <th>userName</th>\n",
              "      <th>userImage</th>\n",
              "      <th>content</th>\n",
              "      <th>score</th>\n",
              "      <th>thumbsUpCount</th>\n",
              "      <th>reviewCreatedVersion</th>\n",
              "      <th>at</th>\n",
              "      <th>replyContent</th>\n",
              "      <th>repliedAt</th>\n",
              "      <th>appVersion</th>\n",
              "    </tr>\n",
              "  </thead>\n",
              "  <tbody>\n",
              "    <tr>\n",
              "      <th>0</th>\n",
              "      <td>2d00906e-94bc-4aa3-980a-dd4aa566a15b</td>\n",
              "      <td>Piscessielf</td>\n",
              "      <td>https://play-lh.googleusercontent.com/a-/AD_cM...</td>\n",
              "      <td>Hate X, love Twitter</td>\n",
              "      <td>1</td>\n",
              "      <td>49</td>\n",
              "      <td>9.98.0-release.0</td>\n",
              "      <td>2023-07-31 07:58:04</td>\n",
              "      <td>None</td>\n",
              "      <td>None</td>\n",
              "      <td>9.98.0-release.0</td>\n",
              "    </tr>\n",
              "    <tr>\n",
              "      <th>1</th>\n",
              "      <td>86d6ed45-904d-4643-8f90-4ca450d6b893</td>\n",
              "      <td>AN26 pro Chanel</td>\n",
              "      <td>https://play-lh.googleusercontent.com/a-/AD_cM...</td>\n",
              "      <td>Good good good 😘😘</td>\n",
              "      <td>5</td>\n",
              "      <td>0</td>\n",
              "      <td>10.0.0-release.0</td>\n",
              "      <td>2023-07-31 07:56:13</td>\n",
              "      <td>None</td>\n",
              "      <td>None</td>\n",
              "      <td>10.0.0-release.0</td>\n",
              "    </tr>\n",
              "    <tr>\n",
              "      <th>2</th>\n",
              "      <td>1e6733b7-f1c2-48af-8e27-1fe091ebc5d6</td>\n",
              "      <td>Rici Rici</td>\n",
              "      <td>https://play-lh.googleusercontent.com/a/AAcHTt...</td>\n",
              "      <td>Apk tolol ngk jelas login aja ngk bisa</td>\n",
              "      <td>1</td>\n",
              "      <td>0</td>\n",
              "      <td>10.0.0-release.0</td>\n",
              "      <td>2023-07-31 07:48:32</td>\n",
              "      <td>None</td>\n",
              "      <td>None</td>\n",
              "      <td>10.0.0-release.0</td>\n",
              "    </tr>\n",
              "    <tr>\n",
              "      <th>3</th>\n",
              "      <td>863de400-0bdd-4fa9-962b-1e58857479b3</td>\n",
              "      <td>cici pinter</td>\n",
              "      <td>https://play-lh.googleusercontent.com/a/AAcHTt...</td>\n",
              "      <td>JELEK</td>\n",
              "      <td>1</td>\n",
              "      <td>0</td>\n",
              "      <td>None</td>\n",
              "      <td>2023-07-31 07:45:51</td>\n",
              "      <td>None</td>\n",
              "      <td>None</td>\n",
              "      <td>None</td>\n",
              "    </tr>\n",
              "    <tr>\n",
              "      <th>4</th>\n",
              "      <td>9fc8cfd1-bb3e-4040-b7ac-cda8d7541ff3</td>\n",
              "      <td>Sofyan Fauzi</td>\n",
              "      <td>https://play-lh.googleusercontent.com/a-/AD_cM...</td>\n",
              "      <td>Gabud ikut ikut</td>\n",
              "      <td>1</td>\n",
              "      <td>0</td>\n",
              "      <td>None</td>\n",
              "      <td>2023-07-31 07:45:36</td>\n",
              "      <td>None</td>\n",
              "      <td>None</td>\n",
              "      <td>None</td>\n",
              "    </tr>\n",
              "  </tbody>\n",
              "</table>\n",
              "</div>\n",
              "      <button class=\"colab-df-convert\" onclick=\"convertToInteractive('df-f6ffe920-90f1-49e5-96dc-37bb2f378912')\"\n",
              "              title=\"Convert this dataframe to an interactive table.\"\n",
              "              style=\"display:none;\">\n",
              "\n",
              "  <svg xmlns=\"http://www.w3.org/2000/svg\" height=\"24px\"viewBox=\"0 0 24 24\"\n",
              "       width=\"24px\">\n",
              "    <path d=\"M0 0h24v24H0V0z\" fill=\"none\"/>\n",
              "    <path d=\"M18.56 5.44l.94 2.06.94-2.06 2.06-.94-2.06-.94-.94-2.06-.94 2.06-2.06.94zm-11 1L8.5 8.5l.94-2.06 2.06-.94-2.06-.94L8.5 2.5l-.94 2.06-2.06.94zm10 10l.94 2.06.94-2.06 2.06-.94-2.06-.94-.94-2.06-.94 2.06-2.06.94z\"/><path d=\"M17.41 7.96l-1.37-1.37c-.4-.4-.92-.59-1.43-.59-.52 0-1.04.2-1.43.59L10.3 9.45l-7.72 7.72c-.78.78-.78 2.05 0 2.83L4 21.41c.39.39.9.59 1.41.59.51 0 1.02-.2 1.41-.59l7.78-7.78 2.81-2.81c.8-.78.8-2.07 0-2.86zM5.41 20L4 18.59l7.72-7.72 1.47 1.35L5.41 20z\"/>\n",
              "  </svg>\n",
              "      </button>\n",
              "\n",
              "\n",
              "\n",
              "    <div id=\"df-0f275ae4-fdf7-4a5c-a4b7-ea1a9caf3149\">\n",
              "      <button class=\"colab-df-quickchart\" onclick=\"quickchart('df-0f275ae4-fdf7-4a5c-a4b7-ea1a9caf3149')\"\n",
              "              title=\"Suggest charts.\"\n",
              "              style=\"display:none;\">\n",
              "\n",
              "<svg xmlns=\"http://www.w3.org/2000/svg\" height=\"24px\"viewBox=\"0 0 24 24\"\n",
              "     width=\"24px\">\n",
              "    <g>\n",
              "        <path d=\"M19 3H5c-1.1 0-2 .9-2 2v14c0 1.1.9 2 2 2h14c1.1 0 2-.9 2-2V5c0-1.1-.9-2-2-2zM9 17H7v-7h2v7zm4 0h-2V7h2v10zm4 0h-2v-4h2v4z\"/>\n",
              "    </g>\n",
              "</svg>\n",
              "      </button>\n",
              "    </div>\n",
              "\n",
              "<style>\n",
              "  .colab-df-quickchart {\n",
              "    background-color: #E8F0FE;\n",
              "    border: none;\n",
              "    border-radius: 50%;\n",
              "    cursor: pointer;\n",
              "    display: none;\n",
              "    fill: #1967D2;\n",
              "    height: 32px;\n",
              "    padding: 0 0 0 0;\n",
              "    width: 32px;\n",
              "  }\n",
              "\n",
              "  .colab-df-quickchart:hover {\n",
              "    background-color: #E2EBFA;\n",
              "    box-shadow: 0px 1px 2px rgba(60, 64, 67, 0.3), 0px 1px 3px 1px rgba(60, 64, 67, 0.15);\n",
              "    fill: #174EA6;\n",
              "  }\n",
              "\n",
              "  [theme=dark] .colab-df-quickchart {\n",
              "    background-color: #3B4455;\n",
              "    fill: #D2E3FC;\n",
              "  }\n",
              "\n",
              "  [theme=dark] .colab-df-quickchart:hover {\n",
              "    background-color: #434B5C;\n",
              "    box-shadow: 0px 1px 3px 1px rgba(0, 0, 0, 0.15);\n",
              "    filter: drop-shadow(0px 1px 2px rgba(0, 0, 0, 0.3));\n",
              "    fill: #FFFFFF;\n",
              "  }\n",
              "</style>\n",
              "\n",
              "    <script>\n",
              "      async function quickchart(key) {\n",
              "        const containerElement = document.querySelector('#' + key);\n",
              "        const charts = await google.colab.kernel.invokeFunction(\n",
              "            'suggestCharts', [key], {});\n",
              "      }\n",
              "    </script>\n",
              "\n",
              "      <script>\n",
              "\n",
              "function displayQuickchartButton(domScope) {\n",
              "  let quickchartButtonEl =\n",
              "    domScope.querySelector('#df-0f275ae4-fdf7-4a5c-a4b7-ea1a9caf3149 button.colab-df-quickchart');\n",
              "  quickchartButtonEl.style.display =\n",
              "    google.colab.kernel.accessAllowed ? 'block' : 'none';\n",
              "}\n",
              "\n",
              "        displayQuickchartButton(document);\n",
              "      </script>\n",
              "      <style>\n",
              "    .colab-df-container {\n",
              "      display:flex;\n",
              "      flex-wrap:wrap;\n",
              "      gap: 12px;\n",
              "    }\n",
              "\n",
              "    .colab-df-convert {\n",
              "      background-color: #E8F0FE;\n",
              "      border: none;\n",
              "      border-radius: 50%;\n",
              "      cursor: pointer;\n",
              "      display: none;\n",
              "      fill: #1967D2;\n",
              "      height: 32px;\n",
              "      padding: 0 0 0 0;\n",
              "      width: 32px;\n",
              "    }\n",
              "\n",
              "    .colab-df-convert:hover {\n",
              "      background-color: #E2EBFA;\n",
              "      box-shadow: 0px 1px 2px rgba(60, 64, 67, 0.3), 0px 1px 3px 1px rgba(60, 64, 67, 0.15);\n",
              "      fill: #174EA6;\n",
              "    }\n",
              "\n",
              "    [theme=dark] .colab-df-convert {\n",
              "      background-color: #3B4455;\n",
              "      fill: #D2E3FC;\n",
              "    }\n",
              "\n",
              "    [theme=dark] .colab-df-convert:hover {\n",
              "      background-color: #434B5C;\n",
              "      box-shadow: 0px 1px 3px 1px rgba(0, 0, 0, 0.15);\n",
              "      filter: drop-shadow(0px 1px 2px rgba(0, 0, 0, 0.3));\n",
              "      fill: #FFFFFF;\n",
              "    }\n",
              "  </style>\n",
              "\n",
              "      <script>\n",
              "        const buttonEl =\n",
              "          document.querySelector('#df-f6ffe920-90f1-49e5-96dc-37bb2f378912 button.colab-df-convert');\n",
              "        buttonEl.style.display =\n",
              "          google.colab.kernel.accessAllowed ? 'block' : 'none';\n",
              "\n",
              "        async function convertToInteractive(key) {\n",
              "          const element = document.querySelector('#df-f6ffe920-90f1-49e5-96dc-37bb2f378912');\n",
              "          const dataTable =\n",
              "            await google.colab.kernel.invokeFunction('convertToInteractive',\n",
              "                                                     [key], {});\n",
              "          if (!dataTable) return;\n",
              "\n",
              "          const docLinkHtml = 'Like what you see? Visit the ' +\n",
              "            '<a target=\"_blank\" href=https://colab.research.google.com/notebooks/data_table.ipynb>data table notebook</a>'\n",
              "            + ' to learn more about interactive tables.';\n",
              "          element.innerHTML = '';\n",
              "          dataTable['output_type'] = 'display_data';\n",
              "          await google.colab.output.renderOutput(dataTable, element);\n",
              "          const docLink = document.createElement('div');\n",
              "          docLink.innerHTML = docLinkHtml;\n",
              "          element.appendChild(docLink);\n",
              "        }\n",
              "      </script>\n",
              "    </div>\n",
              "  </div>\n"
            ]
          },
          "metadata": {},
          "execution_count": 5
        }
      ]
    },
    {
      "cell_type": "code",
      "source": [
        "df.shape"
      ],
      "metadata": {
        "colab": {
          "base_uri": "https://localhost:8080/"
        },
        "id": "Qycv3i0DpMc5",
        "outputId": "6633cb0a-40df-45ad-b190-b573116b760f"
      },
      "execution_count": 6,
      "outputs": [
        {
          "output_type": "execute_result",
          "data": {
            "text/plain": [
              "(100000, 11)"
            ]
          },
          "metadata": {},
          "execution_count": 6
        }
      ]
    },
    {
      "cell_type": "code",
      "source": [
        "df.to_csv('twitter_reviews_raw.csv', index=False, encoding=\"\", na_rep=\"\")"
      ],
      "metadata": {
        "id": "1WMqu_cCIEMo"
      },
      "execution_count": 7,
      "outputs": []
    },
    {
      "cell_type": "markdown",
      "source": [
        "# Data Preparation"
      ],
      "metadata": {
        "id": "47EIZ8SjIYVp"
      }
    },
    {
      "cell_type": "markdown",
      "source": [
        "## Data Labeling"
      ],
      "metadata": {
        "id": "vjUhqVPB36OD"
      }
    },
    {
      "cell_type": "code",
      "source": [
        "df_raw = pd.read_csv('twitter_reviews_raw.csv')"
      ],
      "metadata": {
        "id": "JKmkxNOA6acS"
      },
      "execution_count": 8,
      "outputs": []
    },
    {
      "cell_type": "code",
      "source": [
        "df_raw.head()"
      ],
      "metadata": {
        "colab": {
          "base_uri": "https://localhost:8080/",
          "height": 441
        },
        "id": "xH-mi7-v6k3j",
        "outputId": "9e176fb7-e96a-409f-c3ce-549b2555c562"
      },
      "execution_count": 9,
      "outputs": [
        {
          "output_type": "execute_result",
          "data": {
            "text/plain": [
              "                               reviewId         userName  \\\n",
              "0  2d00906e-94bc-4aa3-980a-dd4aa566a15b      Piscessielf   \n",
              "1  86d6ed45-904d-4643-8f90-4ca450d6b893  AN26 pro Chanel   \n",
              "2  1e6733b7-f1c2-48af-8e27-1fe091ebc5d6        Rici Rici   \n",
              "3  863de400-0bdd-4fa9-962b-1e58857479b3      cici pinter   \n",
              "4  9fc8cfd1-bb3e-4040-b7ac-cda8d7541ff3     Sofyan Fauzi   \n",
              "\n",
              "                                           userImage  \\\n",
              "0  https://play-lh.googleusercontent.com/a-/AD_cM...   \n",
              "1  https://play-lh.googleusercontent.com/a-/AD_cM...   \n",
              "2  https://play-lh.googleusercontent.com/a/AAcHTt...   \n",
              "3  https://play-lh.googleusercontent.com/a/AAcHTt...   \n",
              "4  https://play-lh.googleusercontent.com/a-/AD_cM...   \n",
              "\n",
              "                                  content  score  thumbsUpCount  \\\n",
              "0                    Hate X, love Twitter      1             49   \n",
              "1                       Good good good 😘😘      5              0   \n",
              "2  Apk tolol ngk jelas login aja ngk bisa      1              0   \n",
              "3                                   JELEK      1              0   \n",
              "4                         Gabud ikut ikut      1              0   \n",
              "\n",
              "  reviewCreatedVersion                   at  replyContent  repliedAt  \\\n",
              "0     9.98.0-release.0  2023-07-31 07:58:04           NaN        NaN   \n",
              "1     10.0.0-release.0  2023-07-31 07:56:13           NaN        NaN   \n",
              "2     10.0.0-release.0  2023-07-31 07:48:32           NaN        NaN   \n",
              "3                  NaN  2023-07-31 07:45:51           NaN        NaN   \n",
              "4                  NaN  2023-07-31 07:45:36           NaN        NaN   \n",
              "\n",
              "         appVersion  \n",
              "0  9.98.0-release.0  \n",
              "1  10.0.0-release.0  \n",
              "2  10.0.0-release.0  \n",
              "3               NaN  \n",
              "4               NaN  "
            ],
            "text/html": [
              "\n",
              "\n",
              "  <div id=\"df-f680defd-ee54-4b8c-be3c-41f6719d0443\">\n",
              "    <div class=\"colab-df-container\">\n",
              "      <div>\n",
              "<style scoped>\n",
              "    .dataframe tbody tr th:only-of-type {\n",
              "        vertical-align: middle;\n",
              "    }\n",
              "\n",
              "    .dataframe tbody tr th {\n",
              "        vertical-align: top;\n",
              "    }\n",
              "\n",
              "    .dataframe thead th {\n",
              "        text-align: right;\n",
              "    }\n",
              "</style>\n",
              "<table border=\"1\" class=\"dataframe\">\n",
              "  <thead>\n",
              "    <tr style=\"text-align: right;\">\n",
              "      <th></th>\n",
              "      <th>reviewId</th>\n",
              "      <th>userName</th>\n",
              "      <th>userImage</th>\n",
              "      <th>content</th>\n",
              "      <th>score</th>\n",
              "      <th>thumbsUpCount</th>\n",
              "      <th>reviewCreatedVersion</th>\n",
              "      <th>at</th>\n",
              "      <th>replyContent</th>\n",
              "      <th>repliedAt</th>\n",
              "      <th>appVersion</th>\n",
              "    </tr>\n",
              "  </thead>\n",
              "  <tbody>\n",
              "    <tr>\n",
              "      <th>0</th>\n",
              "      <td>2d00906e-94bc-4aa3-980a-dd4aa566a15b</td>\n",
              "      <td>Piscessielf</td>\n",
              "      <td>https://play-lh.googleusercontent.com/a-/AD_cM...</td>\n",
              "      <td>Hate X, love Twitter</td>\n",
              "      <td>1</td>\n",
              "      <td>49</td>\n",
              "      <td>9.98.0-release.0</td>\n",
              "      <td>2023-07-31 07:58:04</td>\n",
              "      <td>NaN</td>\n",
              "      <td>NaN</td>\n",
              "      <td>9.98.0-release.0</td>\n",
              "    </tr>\n",
              "    <tr>\n",
              "      <th>1</th>\n",
              "      <td>86d6ed45-904d-4643-8f90-4ca450d6b893</td>\n",
              "      <td>AN26 pro Chanel</td>\n",
              "      <td>https://play-lh.googleusercontent.com/a-/AD_cM...</td>\n",
              "      <td>Good good good 😘😘</td>\n",
              "      <td>5</td>\n",
              "      <td>0</td>\n",
              "      <td>10.0.0-release.0</td>\n",
              "      <td>2023-07-31 07:56:13</td>\n",
              "      <td>NaN</td>\n",
              "      <td>NaN</td>\n",
              "      <td>10.0.0-release.0</td>\n",
              "    </tr>\n",
              "    <tr>\n",
              "      <th>2</th>\n",
              "      <td>1e6733b7-f1c2-48af-8e27-1fe091ebc5d6</td>\n",
              "      <td>Rici Rici</td>\n",
              "      <td>https://play-lh.googleusercontent.com/a/AAcHTt...</td>\n",
              "      <td>Apk tolol ngk jelas login aja ngk bisa</td>\n",
              "      <td>1</td>\n",
              "      <td>0</td>\n",
              "      <td>10.0.0-release.0</td>\n",
              "      <td>2023-07-31 07:48:32</td>\n",
              "      <td>NaN</td>\n",
              "      <td>NaN</td>\n",
              "      <td>10.0.0-release.0</td>\n",
              "    </tr>\n",
              "    <tr>\n",
              "      <th>3</th>\n",
              "      <td>863de400-0bdd-4fa9-962b-1e58857479b3</td>\n",
              "      <td>cici pinter</td>\n",
              "      <td>https://play-lh.googleusercontent.com/a/AAcHTt...</td>\n",
              "      <td>JELEK</td>\n",
              "      <td>1</td>\n",
              "      <td>0</td>\n",
              "      <td>NaN</td>\n",
              "      <td>2023-07-31 07:45:51</td>\n",
              "      <td>NaN</td>\n",
              "      <td>NaN</td>\n",
              "      <td>NaN</td>\n",
              "    </tr>\n",
              "    <tr>\n",
              "      <th>4</th>\n",
              "      <td>9fc8cfd1-bb3e-4040-b7ac-cda8d7541ff3</td>\n",
              "      <td>Sofyan Fauzi</td>\n",
              "      <td>https://play-lh.googleusercontent.com/a-/AD_cM...</td>\n",
              "      <td>Gabud ikut ikut</td>\n",
              "      <td>1</td>\n",
              "      <td>0</td>\n",
              "      <td>NaN</td>\n",
              "      <td>2023-07-31 07:45:36</td>\n",
              "      <td>NaN</td>\n",
              "      <td>NaN</td>\n",
              "      <td>NaN</td>\n",
              "    </tr>\n",
              "  </tbody>\n",
              "</table>\n",
              "</div>\n",
              "      <button class=\"colab-df-convert\" onclick=\"convertToInteractive('df-f680defd-ee54-4b8c-be3c-41f6719d0443')\"\n",
              "              title=\"Convert this dataframe to an interactive table.\"\n",
              "              style=\"display:none;\">\n",
              "\n",
              "  <svg xmlns=\"http://www.w3.org/2000/svg\" height=\"24px\"viewBox=\"0 0 24 24\"\n",
              "       width=\"24px\">\n",
              "    <path d=\"M0 0h24v24H0V0z\" fill=\"none\"/>\n",
              "    <path d=\"M18.56 5.44l.94 2.06.94-2.06 2.06-.94-2.06-.94-.94-2.06-.94 2.06-2.06.94zm-11 1L8.5 8.5l.94-2.06 2.06-.94-2.06-.94L8.5 2.5l-.94 2.06-2.06.94zm10 10l.94 2.06.94-2.06 2.06-.94-2.06-.94-.94-2.06-.94 2.06-2.06.94z\"/><path d=\"M17.41 7.96l-1.37-1.37c-.4-.4-.92-.59-1.43-.59-.52 0-1.04.2-1.43.59L10.3 9.45l-7.72 7.72c-.78.78-.78 2.05 0 2.83L4 21.41c.39.39.9.59 1.41.59.51 0 1.02-.2 1.41-.59l7.78-7.78 2.81-2.81c.8-.78.8-2.07 0-2.86zM5.41 20L4 18.59l7.72-7.72 1.47 1.35L5.41 20z\"/>\n",
              "  </svg>\n",
              "      </button>\n",
              "\n",
              "\n",
              "\n",
              "    <div id=\"df-38d9ec90-fc2e-4f30-99c4-2bb1fff6c63d\">\n",
              "      <button class=\"colab-df-quickchart\" onclick=\"quickchart('df-38d9ec90-fc2e-4f30-99c4-2bb1fff6c63d')\"\n",
              "              title=\"Suggest charts.\"\n",
              "              style=\"display:none;\">\n",
              "\n",
              "<svg xmlns=\"http://www.w3.org/2000/svg\" height=\"24px\"viewBox=\"0 0 24 24\"\n",
              "     width=\"24px\">\n",
              "    <g>\n",
              "        <path d=\"M19 3H5c-1.1 0-2 .9-2 2v14c0 1.1.9 2 2 2h14c1.1 0 2-.9 2-2V5c0-1.1-.9-2-2-2zM9 17H7v-7h2v7zm4 0h-2V7h2v10zm4 0h-2v-4h2v4z\"/>\n",
              "    </g>\n",
              "</svg>\n",
              "      </button>\n",
              "    </div>\n",
              "\n",
              "<style>\n",
              "  .colab-df-quickchart {\n",
              "    background-color: #E8F0FE;\n",
              "    border: none;\n",
              "    border-radius: 50%;\n",
              "    cursor: pointer;\n",
              "    display: none;\n",
              "    fill: #1967D2;\n",
              "    height: 32px;\n",
              "    padding: 0 0 0 0;\n",
              "    width: 32px;\n",
              "  }\n",
              "\n",
              "  .colab-df-quickchart:hover {\n",
              "    background-color: #E2EBFA;\n",
              "    box-shadow: 0px 1px 2px rgba(60, 64, 67, 0.3), 0px 1px 3px 1px rgba(60, 64, 67, 0.15);\n",
              "    fill: #174EA6;\n",
              "  }\n",
              "\n",
              "  [theme=dark] .colab-df-quickchart {\n",
              "    background-color: #3B4455;\n",
              "    fill: #D2E3FC;\n",
              "  }\n",
              "\n",
              "  [theme=dark] .colab-df-quickchart:hover {\n",
              "    background-color: #434B5C;\n",
              "    box-shadow: 0px 1px 3px 1px rgba(0, 0, 0, 0.15);\n",
              "    filter: drop-shadow(0px 1px 2px rgba(0, 0, 0, 0.3));\n",
              "    fill: #FFFFFF;\n",
              "  }\n",
              "</style>\n",
              "\n",
              "    <script>\n",
              "      async function quickchart(key) {\n",
              "        const containerElement = document.querySelector('#' + key);\n",
              "        const charts = await google.colab.kernel.invokeFunction(\n",
              "            'suggestCharts', [key], {});\n",
              "      }\n",
              "    </script>\n",
              "\n",
              "      <script>\n",
              "\n",
              "function displayQuickchartButton(domScope) {\n",
              "  let quickchartButtonEl =\n",
              "    domScope.querySelector('#df-38d9ec90-fc2e-4f30-99c4-2bb1fff6c63d button.colab-df-quickchart');\n",
              "  quickchartButtonEl.style.display =\n",
              "    google.colab.kernel.accessAllowed ? 'block' : 'none';\n",
              "}\n",
              "\n",
              "        displayQuickchartButton(document);\n",
              "      </script>\n",
              "      <style>\n",
              "    .colab-df-container {\n",
              "      display:flex;\n",
              "      flex-wrap:wrap;\n",
              "      gap: 12px;\n",
              "    }\n",
              "\n",
              "    .colab-df-convert {\n",
              "      background-color: #E8F0FE;\n",
              "      border: none;\n",
              "      border-radius: 50%;\n",
              "      cursor: pointer;\n",
              "      display: none;\n",
              "      fill: #1967D2;\n",
              "      height: 32px;\n",
              "      padding: 0 0 0 0;\n",
              "      width: 32px;\n",
              "    }\n",
              "\n",
              "    .colab-df-convert:hover {\n",
              "      background-color: #E2EBFA;\n",
              "      box-shadow: 0px 1px 2px rgba(60, 64, 67, 0.3), 0px 1px 3px 1px rgba(60, 64, 67, 0.15);\n",
              "      fill: #174EA6;\n",
              "    }\n",
              "\n",
              "    [theme=dark] .colab-df-convert {\n",
              "      background-color: #3B4455;\n",
              "      fill: #D2E3FC;\n",
              "    }\n",
              "\n",
              "    [theme=dark] .colab-df-convert:hover {\n",
              "      background-color: #434B5C;\n",
              "      box-shadow: 0px 1px 3px 1px rgba(0, 0, 0, 0.15);\n",
              "      filter: drop-shadow(0px 1px 2px rgba(0, 0, 0, 0.3));\n",
              "      fill: #FFFFFF;\n",
              "    }\n",
              "  </style>\n",
              "\n",
              "      <script>\n",
              "        const buttonEl =\n",
              "          document.querySelector('#df-f680defd-ee54-4b8c-be3c-41f6719d0443 button.colab-df-convert');\n",
              "        buttonEl.style.display =\n",
              "          google.colab.kernel.accessAllowed ? 'block' : 'none';\n",
              "\n",
              "        async function convertToInteractive(key) {\n",
              "          const element = document.querySelector('#df-f680defd-ee54-4b8c-be3c-41f6719d0443');\n",
              "          const dataTable =\n",
              "            await google.colab.kernel.invokeFunction('convertToInteractive',\n",
              "                                                     [key], {});\n",
              "          if (!dataTable) return;\n",
              "\n",
              "          const docLinkHtml = 'Like what you see? Visit the ' +\n",
              "            '<a target=\"_blank\" href=https://colab.research.google.com/notebooks/data_table.ipynb>data table notebook</a>'\n",
              "            + ' to learn more about interactive tables.';\n",
              "          element.innerHTML = '';\n",
              "          dataTable['output_type'] = 'display_data';\n",
              "          await google.colab.output.renderOutput(dataTable, element);\n",
              "          const docLink = document.createElement('div');\n",
              "          docLink.innerHTML = docLinkHtml;\n",
              "          element.appendChild(docLink);\n",
              "        }\n",
              "      </script>\n",
              "    </div>\n",
              "  </div>\n"
            ]
          },
          "metadata": {},
          "execution_count": 9
        }
      ]
    },
    {
      "cell_type": "code",
      "source": [
        "df_raw.info()"
      ],
      "metadata": {
        "colab": {
          "base_uri": "https://localhost:8080/"
        },
        "id": "iqvIs29I6o4A",
        "outputId": "a3b94239-dfc2-4689-e684-83916c407cee"
      },
      "execution_count": 10,
      "outputs": [
        {
          "output_type": "stream",
          "name": "stdout",
          "text": [
            "<class 'pandas.core.frame.DataFrame'>\n",
            "RangeIndex: 100000 entries, 0 to 99999\n",
            "Data columns (total 11 columns):\n",
            " #   Column                Non-Null Count   Dtype  \n",
            "---  ------                --------------   -----  \n",
            " 0   reviewId              100000 non-null  object \n",
            " 1   userName              100000 non-null  object \n",
            " 2   userImage             100000 non-null  object \n",
            " 3   content               100000 non-null  object \n",
            " 4   score                 100000 non-null  int64  \n",
            " 5   thumbsUpCount         100000 non-null  int64  \n",
            " 6   reviewCreatedVersion  63587 non-null   object \n",
            " 7   at                    100000 non-null  object \n",
            " 8   replyContent          0 non-null       float64\n",
            " 9   repliedAt             0 non-null       float64\n",
            " 10  appVersion            63587 non-null   object \n",
            "dtypes: float64(2), int64(2), object(7)\n",
            "memory usage: 8.4+ MB\n"
          ]
        }
      ]
    },
    {
      "cell_type": "code",
      "source": [
        "df_selected = df_raw[['content','score']].copy()"
      ],
      "metadata": {
        "id": "mTu5l47t6qYV"
      },
      "execution_count": 11,
      "outputs": []
    },
    {
      "cell_type": "code",
      "source": [
        "df_selected.head()"
      ],
      "metadata": {
        "colab": {
          "base_uri": "https://localhost:8080/",
          "height": 206
        },
        "id": "1aa_YxjY7EkC",
        "outputId": "9325de4c-fdb4-4cc6-b804-70eff6b6c4c4"
      },
      "execution_count": 12,
      "outputs": [
        {
          "output_type": "execute_result",
          "data": {
            "text/plain": [
              "                                  content  score\n",
              "0                    Hate X, love Twitter      1\n",
              "1                       Good good good 😘😘      5\n",
              "2  Apk tolol ngk jelas login aja ngk bisa      1\n",
              "3                                   JELEK      1\n",
              "4                         Gabud ikut ikut      1"
            ],
            "text/html": [
              "\n",
              "\n",
              "  <div id=\"df-4775a7ef-4bb4-46bf-b60c-f3c11021ec42\">\n",
              "    <div class=\"colab-df-container\">\n",
              "      <div>\n",
              "<style scoped>\n",
              "    .dataframe tbody tr th:only-of-type {\n",
              "        vertical-align: middle;\n",
              "    }\n",
              "\n",
              "    .dataframe tbody tr th {\n",
              "        vertical-align: top;\n",
              "    }\n",
              "\n",
              "    .dataframe thead th {\n",
              "        text-align: right;\n",
              "    }\n",
              "</style>\n",
              "<table border=\"1\" class=\"dataframe\">\n",
              "  <thead>\n",
              "    <tr style=\"text-align: right;\">\n",
              "      <th></th>\n",
              "      <th>content</th>\n",
              "      <th>score</th>\n",
              "    </tr>\n",
              "  </thead>\n",
              "  <tbody>\n",
              "    <tr>\n",
              "      <th>0</th>\n",
              "      <td>Hate X, love Twitter</td>\n",
              "      <td>1</td>\n",
              "    </tr>\n",
              "    <tr>\n",
              "      <th>1</th>\n",
              "      <td>Good good good 😘😘</td>\n",
              "      <td>5</td>\n",
              "    </tr>\n",
              "    <tr>\n",
              "      <th>2</th>\n",
              "      <td>Apk tolol ngk jelas login aja ngk bisa</td>\n",
              "      <td>1</td>\n",
              "    </tr>\n",
              "    <tr>\n",
              "      <th>3</th>\n",
              "      <td>JELEK</td>\n",
              "      <td>1</td>\n",
              "    </tr>\n",
              "    <tr>\n",
              "      <th>4</th>\n",
              "      <td>Gabud ikut ikut</td>\n",
              "      <td>1</td>\n",
              "    </tr>\n",
              "  </tbody>\n",
              "</table>\n",
              "</div>\n",
              "      <button class=\"colab-df-convert\" onclick=\"convertToInteractive('df-4775a7ef-4bb4-46bf-b60c-f3c11021ec42')\"\n",
              "              title=\"Convert this dataframe to an interactive table.\"\n",
              "              style=\"display:none;\">\n",
              "\n",
              "  <svg xmlns=\"http://www.w3.org/2000/svg\" height=\"24px\"viewBox=\"0 0 24 24\"\n",
              "       width=\"24px\">\n",
              "    <path d=\"M0 0h24v24H0V0z\" fill=\"none\"/>\n",
              "    <path d=\"M18.56 5.44l.94 2.06.94-2.06 2.06-.94-2.06-.94-.94-2.06-.94 2.06-2.06.94zm-11 1L8.5 8.5l.94-2.06 2.06-.94-2.06-.94L8.5 2.5l-.94 2.06-2.06.94zm10 10l.94 2.06.94-2.06 2.06-.94-2.06-.94-.94-2.06-.94 2.06-2.06.94z\"/><path d=\"M17.41 7.96l-1.37-1.37c-.4-.4-.92-.59-1.43-.59-.52 0-1.04.2-1.43.59L10.3 9.45l-7.72 7.72c-.78.78-.78 2.05 0 2.83L4 21.41c.39.39.9.59 1.41.59.51 0 1.02-.2 1.41-.59l7.78-7.78 2.81-2.81c.8-.78.8-2.07 0-2.86zM5.41 20L4 18.59l7.72-7.72 1.47 1.35L5.41 20z\"/>\n",
              "  </svg>\n",
              "      </button>\n",
              "\n",
              "\n",
              "\n",
              "    <div id=\"df-58fc8326-5c08-4a73-a71b-2dabf9354c97\">\n",
              "      <button class=\"colab-df-quickchart\" onclick=\"quickchart('df-58fc8326-5c08-4a73-a71b-2dabf9354c97')\"\n",
              "              title=\"Suggest charts.\"\n",
              "              style=\"display:none;\">\n",
              "\n",
              "<svg xmlns=\"http://www.w3.org/2000/svg\" height=\"24px\"viewBox=\"0 0 24 24\"\n",
              "     width=\"24px\">\n",
              "    <g>\n",
              "        <path d=\"M19 3H5c-1.1 0-2 .9-2 2v14c0 1.1.9 2 2 2h14c1.1 0 2-.9 2-2V5c0-1.1-.9-2-2-2zM9 17H7v-7h2v7zm4 0h-2V7h2v10zm4 0h-2v-4h2v4z\"/>\n",
              "    </g>\n",
              "</svg>\n",
              "      </button>\n",
              "    </div>\n",
              "\n",
              "<style>\n",
              "  .colab-df-quickchart {\n",
              "    background-color: #E8F0FE;\n",
              "    border: none;\n",
              "    border-radius: 50%;\n",
              "    cursor: pointer;\n",
              "    display: none;\n",
              "    fill: #1967D2;\n",
              "    height: 32px;\n",
              "    padding: 0 0 0 0;\n",
              "    width: 32px;\n",
              "  }\n",
              "\n",
              "  .colab-df-quickchart:hover {\n",
              "    background-color: #E2EBFA;\n",
              "    box-shadow: 0px 1px 2px rgba(60, 64, 67, 0.3), 0px 1px 3px 1px rgba(60, 64, 67, 0.15);\n",
              "    fill: #174EA6;\n",
              "  }\n",
              "\n",
              "  [theme=dark] .colab-df-quickchart {\n",
              "    background-color: #3B4455;\n",
              "    fill: #D2E3FC;\n",
              "  }\n",
              "\n",
              "  [theme=dark] .colab-df-quickchart:hover {\n",
              "    background-color: #434B5C;\n",
              "    box-shadow: 0px 1px 3px 1px rgba(0, 0, 0, 0.15);\n",
              "    filter: drop-shadow(0px 1px 2px rgba(0, 0, 0, 0.3));\n",
              "    fill: #FFFFFF;\n",
              "  }\n",
              "</style>\n",
              "\n",
              "    <script>\n",
              "      async function quickchart(key) {\n",
              "        const containerElement = document.querySelector('#' + key);\n",
              "        const charts = await google.colab.kernel.invokeFunction(\n",
              "            'suggestCharts', [key], {});\n",
              "      }\n",
              "    </script>\n",
              "\n",
              "      <script>\n",
              "\n",
              "function displayQuickchartButton(domScope) {\n",
              "  let quickchartButtonEl =\n",
              "    domScope.querySelector('#df-58fc8326-5c08-4a73-a71b-2dabf9354c97 button.colab-df-quickchart');\n",
              "  quickchartButtonEl.style.display =\n",
              "    google.colab.kernel.accessAllowed ? 'block' : 'none';\n",
              "}\n",
              "\n",
              "        displayQuickchartButton(document);\n",
              "      </script>\n",
              "      <style>\n",
              "    .colab-df-container {\n",
              "      display:flex;\n",
              "      flex-wrap:wrap;\n",
              "      gap: 12px;\n",
              "    }\n",
              "\n",
              "    .colab-df-convert {\n",
              "      background-color: #E8F0FE;\n",
              "      border: none;\n",
              "      border-radius: 50%;\n",
              "      cursor: pointer;\n",
              "      display: none;\n",
              "      fill: #1967D2;\n",
              "      height: 32px;\n",
              "      padding: 0 0 0 0;\n",
              "      width: 32px;\n",
              "    }\n",
              "\n",
              "    .colab-df-convert:hover {\n",
              "      background-color: #E2EBFA;\n",
              "      box-shadow: 0px 1px 2px rgba(60, 64, 67, 0.3), 0px 1px 3px 1px rgba(60, 64, 67, 0.15);\n",
              "      fill: #174EA6;\n",
              "    }\n",
              "\n",
              "    [theme=dark] .colab-df-convert {\n",
              "      background-color: #3B4455;\n",
              "      fill: #D2E3FC;\n",
              "    }\n",
              "\n",
              "    [theme=dark] .colab-df-convert:hover {\n",
              "      background-color: #434B5C;\n",
              "      box-shadow: 0px 1px 3px 1px rgba(0, 0, 0, 0.15);\n",
              "      filter: drop-shadow(0px 1px 2px rgba(0, 0, 0, 0.3));\n",
              "      fill: #FFFFFF;\n",
              "    }\n",
              "  </style>\n",
              "\n",
              "      <script>\n",
              "        const buttonEl =\n",
              "          document.querySelector('#df-4775a7ef-4bb4-46bf-b60c-f3c11021ec42 button.colab-df-convert');\n",
              "        buttonEl.style.display =\n",
              "          google.colab.kernel.accessAllowed ? 'block' : 'none';\n",
              "\n",
              "        async function convertToInteractive(key) {\n",
              "          const element = document.querySelector('#df-4775a7ef-4bb4-46bf-b60c-f3c11021ec42');\n",
              "          const dataTable =\n",
              "            await google.colab.kernel.invokeFunction('convertToInteractive',\n",
              "                                                     [key], {});\n",
              "          if (!dataTable) return;\n",
              "\n",
              "          const docLinkHtml = 'Like what you see? Visit the ' +\n",
              "            '<a target=\"_blank\" href=https://colab.research.google.com/notebooks/data_table.ipynb>data table notebook</a>'\n",
              "            + ' to learn more about interactive tables.';\n",
              "          element.innerHTML = '';\n",
              "          dataTable['output_type'] = 'display_data';\n",
              "          await google.colab.output.renderOutput(dataTable, element);\n",
              "          const docLink = document.createElement('div');\n",
              "          docLink.innerHTML = docLinkHtml;\n",
              "          element.appendChild(docLink);\n",
              "        }\n",
              "      </script>\n",
              "    </div>\n",
              "  </div>\n"
            ]
          },
          "metadata": {},
          "execution_count": 12
        }
      ]
    },
    {
      "cell_type": "code",
      "source": [
        "df_selected.shape"
      ],
      "metadata": {
        "colab": {
          "base_uri": "https://localhost:8080/"
        },
        "id": "I5SHVYGJ7zix",
        "outputId": "9af27adf-6a2a-4d36-e403-b3f2ef43447c"
      },
      "execution_count": 13,
      "outputs": [
        {
          "output_type": "execute_result",
          "data": {
            "text/plain": [
              "(100000, 2)"
            ]
          },
          "metadata": {},
          "execution_count": 13
        }
      ]
    },
    {
      "cell_type": "code",
      "source": [
        "df_selected.to_csv('twitter_reviews_selected.csv', index=False, encoding=\"\", na_rep=\"\")"
      ],
      "metadata": {
        "id": "NppZEsxlIsy3"
      },
      "execution_count": 14,
      "outputs": []
    },
    {
      "cell_type": "code",
      "source": [
        "df_labeled = df_selected.copy()"
      ],
      "metadata": {
        "id": "ohDg3isO787h"
      },
      "execution_count": 15,
      "outputs": []
    },
    {
      "cell_type": "code",
      "source": [
        "mapper = {\n",
        "    5: 'positive',\n",
        "    4: 'positive',\n",
        "    3: 'neutral',\n",
        "    2: 'negative',\n",
        "    1: 'negative'\n",
        "}\n",
        "\n",
        "df_labeled['sentiment'] = df_labeled['score'].map(mapper)"
      ],
      "metadata": {
        "id": "JFjt2yvq_sCu"
      },
      "execution_count": 16,
      "outputs": []
    },
    {
      "cell_type": "code",
      "source": [
        "df_labeled"
      ],
      "metadata": {
        "colab": {
          "base_uri": "https://localhost:8080/",
          "height": 423
        },
        "id": "EvPiE2gmABO6",
        "outputId": "2ee8045c-3804-43fe-a233-e6204608b13a"
      },
      "execution_count": 17,
      "outputs": [
        {
          "output_type": "execute_result",
          "data": {
            "text/plain": [
              "                                      content  score sentiment\n",
              "0                        Hate X, love Twitter      1  negative\n",
              "1                           Good good good 😘😘      5  positive\n",
              "2      Apk tolol ngk jelas login aja ngk bisa      1  negative\n",
              "3                                       JELEK      1  negative\n",
              "4                             Gabud ikut ikut      1  negative\n",
              "...                                       ...    ...       ...\n",
              "99995                                  mantap      5  positive\n",
              "99996                                      Ok      1  negative\n",
              "99997                            Aplikasi eek      1  negative\n",
              "99998                                   Mntap      5  positive\n",
              "99999                         Bad app ever!!!      1  negative\n",
              "\n",
              "[100000 rows x 3 columns]"
            ],
            "text/html": [
              "\n",
              "\n",
              "  <div id=\"df-7bad4e37-3190-4687-bada-fc4cf7f88e5e\">\n",
              "    <div class=\"colab-df-container\">\n",
              "      <div>\n",
              "<style scoped>\n",
              "    .dataframe tbody tr th:only-of-type {\n",
              "        vertical-align: middle;\n",
              "    }\n",
              "\n",
              "    .dataframe tbody tr th {\n",
              "        vertical-align: top;\n",
              "    }\n",
              "\n",
              "    .dataframe thead th {\n",
              "        text-align: right;\n",
              "    }\n",
              "</style>\n",
              "<table border=\"1\" class=\"dataframe\">\n",
              "  <thead>\n",
              "    <tr style=\"text-align: right;\">\n",
              "      <th></th>\n",
              "      <th>content</th>\n",
              "      <th>score</th>\n",
              "      <th>sentiment</th>\n",
              "    </tr>\n",
              "  </thead>\n",
              "  <tbody>\n",
              "    <tr>\n",
              "      <th>0</th>\n",
              "      <td>Hate X, love Twitter</td>\n",
              "      <td>1</td>\n",
              "      <td>negative</td>\n",
              "    </tr>\n",
              "    <tr>\n",
              "      <th>1</th>\n",
              "      <td>Good good good 😘😘</td>\n",
              "      <td>5</td>\n",
              "      <td>positive</td>\n",
              "    </tr>\n",
              "    <tr>\n",
              "      <th>2</th>\n",
              "      <td>Apk tolol ngk jelas login aja ngk bisa</td>\n",
              "      <td>1</td>\n",
              "      <td>negative</td>\n",
              "    </tr>\n",
              "    <tr>\n",
              "      <th>3</th>\n",
              "      <td>JELEK</td>\n",
              "      <td>1</td>\n",
              "      <td>negative</td>\n",
              "    </tr>\n",
              "    <tr>\n",
              "      <th>4</th>\n",
              "      <td>Gabud ikut ikut</td>\n",
              "      <td>1</td>\n",
              "      <td>negative</td>\n",
              "    </tr>\n",
              "    <tr>\n",
              "      <th>...</th>\n",
              "      <td>...</td>\n",
              "      <td>...</td>\n",
              "      <td>...</td>\n",
              "    </tr>\n",
              "    <tr>\n",
              "      <th>99995</th>\n",
              "      <td>mantap</td>\n",
              "      <td>5</td>\n",
              "      <td>positive</td>\n",
              "    </tr>\n",
              "    <tr>\n",
              "      <th>99996</th>\n",
              "      <td>Ok</td>\n",
              "      <td>1</td>\n",
              "      <td>negative</td>\n",
              "    </tr>\n",
              "    <tr>\n",
              "      <th>99997</th>\n",
              "      <td>Aplikasi eek</td>\n",
              "      <td>1</td>\n",
              "      <td>negative</td>\n",
              "    </tr>\n",
              "    <tr>\n",
              "      <th>99998</th>\n",
              "      <td>Mntap</td>\n",
              "      <td>5</td>\n",
              "      <td>positive</td>\n",
              "    </tr>\n",
              "    <tr>\n",
              "      <th>99999</th>\n",
              "      <td>Bad app ever!!!</td>\n",
              "      <td>1</td>\n",
              "      <td>negative</td>\n",
              "    </tr>\n",
              "  </tbody>\n",
              "</table>\n",
              "<p>100000 rows × 3 columns</p>\n",
              "</div>\n",
              "      <button class=\"colab-df-convert\" onclick=\"convertToInteractive('df-7bad4e37-3190-4687-bada-fc4cf7f88e5e')\"\n",
              "              title=\"Convert this dataframe to an interactive table.\"\n",
              "              style=\"display:none;\">\n",
              "\n",
              "  <svg xmlns=\"http://www.w3.org/2000/svg\" height=\"24px\"viewBox=\"0 0 24 24\"\n",
              "       width=\"24px\">\n",
              "    <path d=\"M0 0h24v24H0V0z\" fill=\"none\"/>\n",
              "    <path d=\"M18.56 5.44l.94 2.06.94-2.06 2.06-.94-2.06-.94-.94-2.06-.94 2.06-2.06.94zm-11 1L8.5 8.5l.94-2.06 2.06-.94-2.06-.94L8.5 2.5l-.94 2.06-2.06.94zm10 10l.94 2.06.94-2.06 2.06-.94-2.06-.94-.94-2.06-.94 2.06-2.06.94z\"/><path d=\"M17.41 7.96l-1.37-1.37c-.4-.4-.92-.59-1.43-.59-.52 0-1.04.2-1.43.59L10.3 9.45l-7.72 7.72c-.78.78-.78 2.05 0 2.83L4 21.41c.39.39.9.59 1.41.59.51 0 1.02-.2 1.41-.59l7.78-7.78 2.81-2.81c.8-.78.8-2.07 0-2.86zM5.41 20L4 18.59l7.72-7.72 1.47 1.35L5.41 20z\"/>\n",
              "  </svg>\n",
              "      </button>\n",
              "\n",
              "\n",
              "\n",
              "    <div id=\"df-e3519eef-4cc1-457a-913e-11c3cb1c3a12\">\n",
              "      <button class=\"colab-df-quickchart\" onclick=\"quickchart('df-e3519eef-4cc1-457a-913e-11c3cb1c3a12')\"\n",
              "              title=\"Suggest charts.\"\n",
              "              style=\"display:none;\">\n",
              "\n",
              "<svg xmlns=\"http://www.w3.org/2000/svg\" height=\"24px\"viewBox=\"0 0 24 24\"\n",
              "     width=\"24px\">\n",
              "    <g>\n",
              "        <path d=\"M19 3H5c-1.1 0-2 .9-2 2v14c0 1.1.9 2 2 2h14c1.1 0 2-.9 2-2V5c0-1.1-.9-2-2-2zM9 17H7v-7h2v7zm4 0h-2V7h2v10zm4 0h-2v-4h2v4z\"/>\n",
              "    </g>\n",
              "</svg>\n",
              "      </button>\n",
              "    </div>\n",
              "\n",
              "<style>\n",
              "  .colab-df-quickchart {\n",
              "    background-color: #E8F0FE;\n",
              "    border: none;\n",
              "    border-radius: 50%;\n",
              "    cursor: pointer;\n",
              "    display: none;\n",
              "    fill: #1967D2;\n",
              "    height: 32px;\n",
              "    padding: 0 0 0 0;\n",
              "    width: 32px;\n",
              "  }\n",
              "\n",
              "  .colab-df-quickchart:hover {\n",
              "    background-color: #E2EBFA;\n",
              "    box-shadow: 0px 1px 2px rgba(60, 64, 67, 0.3), 0px 1px 3px 1px rgba(60, 64, 67, 0.15);\n",
              "    fill: #174EA6;\n",
              "  }\n",
              "\n",
              "  [theme=dark] .colab-df-quickchart {\n",
              "    background-color: #3B4455;\n",
              "    fill: #D2E3FC;\n",
              "  }\n",
              "\n",
              "  [theme=dark] .colab-df-quickchart:hover {\n",
              "    background-color: #434B5C;\n",
              "    box-shadow: 0px 1px 3px 1px rgba(0, 0, 0, 0.15);\n",
              "    filter: drop-shadow(0px 1px 2px rgba(0, 0, 0, 0.3));\n",
              "    fill: #FFFFFF;\n",
              "  }\n",
              "</style>\n",
              "\n",
              "    <script>\n",
              "      async function quickchart(key) {\n",
              "        const containerElement = document.querySelector('#' + key);\n",
              "        const charts = await google.colab.kernel.invokeFunction(\n",
              "            'suggestCharts', [key], {});\n",
              "      }\n",
              "    </script>\n",
              "\n",
              "      <script>\n",
              "\n",
              "function displayQuickchartButton(domScope) {\n",
              "  let quickchartButtonEl =\n",
              "    domScope.querySelector('#df-e3519eef-4cc1-457a-913e-11c3cb1c3a12 button.colab-df-quickchart');\n",
              "  quickchartButtonEl.style.display =\n",
              "    google.colab.kernel.accessAllowed ? 'block' : 'none';\n",
              "}\n",
              "\n",
              "        displayQuickchartButton(document);\n",
              "      </script>\n",
              "      <style>\n",
              "    .colab-df-container {\n",
              "      display:flex;\n",
              "      flex-wrap:wrap;\n",
              "      gap: 12px;\n",
              "    }\n",
              "\n",
              "    .colab-df-convert {\n",
              "      background-color: #E8F0FE;\n",
              "      border: none;\n",
              "      border-radius: 50%;\n",
              "      cursor: pointer;\n",
              "      display: none;\n",
              "      fill: #1967D2;\n",
              "      height: 32px;\n",
              "      padding: 0 0 0 0;\n",
              "      width: 32px;\n",
              "    }\n",
              "\n",
              "    .colab-df-convert:hover {\n",
              "      background-color: #E2EBFA;\n",
              "      box-shadow: 0px 1px 2px rgba(60, 64, 67, 0.3), 0px 1px 3px 1px rgba(60, 64, 67, 0.15);\n",
              "      fill: #174EA6;\n",
              "    }\n",
              "\n",
              "    [theme=dark] .colab-df-convert {\n",
              "      background-color: #3B4455;\n",
              "      fill: #D2E3FC;\n",
              "    }\n",
              "\n",
              "    [theme=dark] .colab-df-convert:hover {\n",
              "      background-color: #434B5C;\n",
              "      box-shadow: 0px 1px 3px 1px rgba(0, 0, 0, 0.15);\n",
              "      filter: drop-shadow(0px 1px 2px rgba(0, 0, 0, 0.3));\n",
              "      fill: #FFFFFF;\n",
              "    }\n",
              "  </style>\n",
              "\n",
              "      <script>\n",
              "        const buttonEl =\n",
              "          document.querySelector('#df-7bad4e37-3190-4687-bada-fc4cf7f88e5e button.colab-df-convert');\n",
              "        buttonEl.style.display =\n",
              "          google.colab.kernel.accessAllowed ? 'block' : 'none';\n",
              "\n",
              "        async function convertToInteractive(key) {\n",
              "          const element = document.querySelector('#df-7bad4e37-3190-4687-bada-fc4cf7f88e5e');\n",
              "          const dataTable =\n",
              "            await google.colab.kernel.invokeFunction('convertToInteractive',\n",
              "                                                     [key], {});\n",
              "          if (!dataTable) return;\n",
              "\n",
              "          const docLinkHtml = 'Like what you see? Visit the ' +\n",
              "            '<a target=\"_blank\" href=https://colab.research.google.com/notebooks/data_table.ipynb>data table notebook</a>'\n",
              "            + ' to learn more about interactive tables.';\n",
              "          element.innerHTML = '';\n",
              "          dataTable['output_type'] = 'display_data';\n",
              "          await google.colab.output.renderOutput(dataTable, element);\n",
              "          const docLink = document.createElement('div');\n",
              "          docLink.innerHTML = docLinkHtml;\n",
              "          element.appendChild(docLink);\n",
              "        }\n",
              "      </script>\n",
              "    </div>\n",
              "  </div>\n"
            ]
          },
          "metadata": {},
          "execution_count": 17
        }
      ]
    },
    {
      "cell_type": "code",
      "source": [
        "df_labeled.groupby('score').size()"
      ],
      "metadata": {
        "colab": {
          "base_uri": "https://localhost:8080/"
        },
        "id": "H5icai4kdUpB",
        "outputId": "51e8ee66-b1d8-489a-b1e7-0c4a4e36865c"
      },
      "execution_count": 18,
      "outputs": [
        {
          "output_type": "execute_result",
          "data": {
            "text/plain": [
              "score\n",
              "1    33641\n",
              "2     5027\n",
              "3     5676\n",
              "4     7729\n",
              "5    47927\n",
              "dtype: int64"
            ]
          },
          "metadata": {},
          "execution_count": 18
        }
      ]
    },
    {
      "cell_type": "code",
      "source": [
        "df_labeled.groupby('sentiment').size()"
      ],
      "metadata": {
        "colab": {
          "base_uri": "https://localhost:8080/"
        },
        "id": "-wUOmc3S3r6_",
        "outputId": "8b8faf17-87ab-4e94-ab2a-016bcd2c864d"
      },
      "execution_count": 19,
      "outputs": [
        {
          "output_type": "execute_result",
          "data": {
            "text/plain": [
              "sentiment\n",
              "negative    38668\n",
              "neutral      5676\n",
              "positive    55656\n",
              "dtype: int64"
            ]
          },
          "metadata": {},
          "execution_count": 19
        }
      ]
    },
    {
      "cell_type": "markdown",
      "source": [
        "## Data Cleaning"
      ],
      "metadata": {
        "id": "jC2RVvA34Ek4"
      }
    },
    {
      "cell_type": "code",
      "source": [
        "import nltk\n",
        "nltk.download('punkt')"
      ],
      "metadata": {
        "colab": {
          "base_uri": "https://localhost:8080/"
        },
        "id": "Az7vtq9mBTbl",
        "outputId": "cae7fb79-5161-4a38-ba7a-130a322c3b67"
      },
      "execution_count": 20,
      "outputs": [
        {
          "output_type": "stream",
          "name": "stderr",
          "text": [
            "[nltk_data] Downloading package punkt to /root/nltk_data...\n",
            "[nltk_data]   Unzipping tokenizers/punkt.zip.\n"
          ]
        },
        {
          "output_type": "execute_result",
          "data": {
            "text/plain": [
              "True"
            ]
          },
          "metadata": {},
          "execution_count": 20
        }
      ]
    },
    {
      "cell_type": "code",
      "source": [
        "!pip install Sastrawi"
      ],
      "metadata": {
        "colab": {
          "base_uri": "https://localhost:8080/"
        },
        "id": "LtUwPDb8wJYN",
        "outputId": "ffbba5a3-a95d-45d7-82e9-07fb6e8a3121"
      },
      "execution_count": 21,
      "outputs": [
        {
          "output_type": "stream",
          "name": "stdout",
          "text": [
            "Collecting Sastrawi\n",
            "  Downloading Sastrawi-1.0.1-py2.py3-none-any.whl (209 kB)\n",
            "\u001b[?25l     \u001b[90m━━━━━━━━━━━━━━━━━━━━━━━━━━━━━━━━━━━━━━━━\u001b[0m \u001b[32m0.0/209.7 kB\u001b[0m \u001b[31m?\u001b[0m eta \u001b[36m-:--:--\u001b[0m\r\u001b[2K     \u001b[91m━━━━━━━━━━━━━\u001b[0m\u001b[91m╸\u001b[0m\u001b[90m━━━━━━━━━━━━━━━━━━━━━━━━━━\u001b[0m \u001b[32m71.7/209.7 kB\u001b[0m \u001b[31m2.0 MB/s\u001b[0m eta \u001b[36m0:00:01\u001b[0m\r\u001b[2K     \u001b[90m━━━━━━━━━━━━━━━━━━━━━━━━━━━━━━━━━━━━━━━\u001b[0m \u001b[32m209.7/209.7 kB\u001b[0m \u001b[31m3.4 MB/s\u001b[0m eta \u001b[36m0:00:00\u001b[0m\n",
            "\u001b[?25hInstalling collected packages: Sastrawi\n",
            "Successfully installed Sastrawi-1.0.1\n"
          ]
        }
      ]
    },
    {
      "cell_type": "code",
      "source": [
        "from Sastrawi.StopWordRemover.StopWordRemoverFactory import StopWordRemoverFactory\n",
        "stop_factory = StopWordRemoverFactory()\n",
        "sastrawi_sw = stop_factory.get_stop_words()"
      ],
      "metadata": {
        "id": "RMRa_lI9wM6c"
      },
      "execution_count": 22,
      "outputs": []
    },
    {
      "cell_type": "code",
      "source": [
        "df_labeled['content'] = df_labeled['content'].str.lower()"
      ],
      "metadata": {
        "id": "T91gkP9oESon"
      },
      "execution_count": 23,
      "outputs": []
    },
    {
      "cell_type": "code",
      "source": [
        "freq_word = pd.DataFrame()\n",
        "freq_word['word'] = df_labeled['content'].str.split().explode().value_counts().index\n",
        "freq_word['count'] = df_labeled['content'].str.split().explode().value_counts().values"
      ],
      "metadata": {
        "id": "ccuqrQO1C9ug"
      },
      "execution_count": 24,
      "outputs": []
    },
    {
      "cell_type": "code",
      "source": [
        "not_stop_words = ~freq_word['word'].isin(sastrawi_sw)"
      ],
      "metadata": {
        "id": "UoUyI9foQ-4c"
      },
      "execution_count": 25,
      "outputs": []
    },
    {
      "cell_type": "code",
      "source": [
        "freq_word[not_stop_words][:75]"
      ],
      "metadata": {
        "colab": {
          "base_uri": "https://localhost:8080/",
          "height": 423
        },
        "id": "dbbQDLUGR6Ir",
        "outputId": "648a0ebc-bd1b-4301-8a47-48ba4e7d8af1"
      },
      "execution_count": 26,
      "outputs": [
        {
          "output_type": "execute_result",
          "data": {
            "text/plain": [
              "        word  count\n",
              "2    twitter   9955\n",
              "3      bagus   9567\n",
              "5       akun   6642\n",
              "7   aplikasi   5926\n",
              "9        nya   5525\n",
              "..       ...    ...\n",
              "91       bgt   1185\n",
              "94       lah   1129\n",
              "95     jelas   1120\n",
              "97     fitur   1061\n",
              "98      nice   1047\n",
              "\n",
              "[75 rows x 2 columns]"
            ],
            "text/html": [
              "\n",
              "\n",
              "  <div id=\"df-bea05d08-417a-41ad-9e42-be0cd524c91b\">\n",
              "    <div class=\"colab-df-container\">\n",
              "      <div>\n",
              "<style scoped>\n",
              "    .dataframe tbody tr th:only-of-type {\n",
              "        vertical-align: middle;\n",
              "    }\n",
              "\n",
              "    .dataframe tbody tr th {\n",
              "        vertical-align: top;\n",
              "    }\n",
              "\n",
              "    .dataframe thead th {\n",
              "        text-align: right;\n",
              "    }\n",
              "</style>\n",
              "<table border=\"1\" class=\"dataframe\">\n",
              "  <thead>\n",
              "    <tr style=\"text-align: right;\">\n",
              "      <th></th>\n",
              "      <th>word</th>\n",
              "      <th>count</th>\n",
              "    </tr>\n",
              "  </thead>\n",
              "  <tbody>\n",
              "    <tr>\n",
              "      <th>2</th>\n",
              "      <td>twitter</td>\n",
              "      <td>9955</td>\n",
              "    </tr>\n",
              "    <tr>\n",
              "      <th>3</th>\n",
              "      <td>bagus</td>\n",
              "      <td>9567</td>\n",
              "    </tr>\n",
              "    <tr>\n",
              "      <th>5</th>\n",
              "      <td>akun</td>\n",
              "      <td>6642</td>\n",
              "    </tr>\n",
              "    <tr>\n",
              "      <th>7</th>\n",
              "      <td>aplikasi</td>\n",
              "      <td>5926</td>\n",
              "    </tr>\n",
              "    <tr>\n",
              "      <th>9</th>\n",
              "      <td>nya</td>\n",
              "      <td>5525</td>\n",
              "    </tr>\n",
              "    <tr>\n",
              "      <th>...</th>\n",
              "      <td>...</td>\n",
              "      <td>...</td>\n",
              "    </tr>\n",
              "    <tr>\n",
              "      <th>91</th>\n",
              "      <td>bgt</td>\n",
              "      <td>1185</td>\n",
              "    </tr>\n",
              "    <tr>\n",
              "      <th>94</th>\n",
              "      <td>lah</td>\n",
              "      <td>1129</td>\n",
              "    </tr>\n",
              "    <tr>\n",
              "      <th>95</th>\n",
              "      <td>jelas</td>\n",
              "      <td>1120</td>\n",
              "    </tr>\n",
              "    <tr>\n",
              "      <th>97</th>\n",
              "      <td>fitur</td>\n",
              "      <td>1061</td>\n",
              "    </tr>\n",
              "    <tr>\n",
              "      <th>98</th>\n",
              "      <td>nice</td>\n",
              "      <td>1047</td>\n",
              "    </tr>\n",
              "  </tbody>\n",
              "</table>\n",
              "<p>75 rows × 2 columns</p>\n",
              "</div>\n",
              "      <button class=\"colab-df-convert\" onclick=\"convertToInteractive('df-bea05d08-417a-41ad-9e42-be0cd524c91b')\"\n",
              "              title=\"Convert this dataframe to an interactive table.\"\n",
              "              style=\"display:none;\">\n",
              "\n",
              "  <svg xmlns=\"http://www.w3.org/2000/svg\" height=\"24px\"viewBox=\"0 0 24 24\"\n",
              "       width=\"24px\">\n",
              "    <path d=\"M0 0h24v24H0V0z\" fill=\"none\"/>\n",
              "    <path d=\"M18.56 5.44l.94 2.06.94-2.06 2.06-.94-2.06-.94-.94-2.06-.94 2.06-2.06.94zm-11 1L8.5 8.5l.94-2.06 2.06-.94-2.06-.94L8.5 2.5l-.94 2.06-2.06.94zm10 10l.94 2.06.94-2.06 2.06-.94-2.06-.94-.94-2.06-.94 2.06-2.06.94z\"/><path d=\"M17.41 7.96l-1.37-1.37c-.4-.4-.92-.59-1.43-.59-.52 0-1.04.2-1.43.59L10.3 9.45l-7.72 7.72c-.78.78-.78 2.05 0 2.83L4 21.41c.39.39.9.59 1.41.59.51 0 1.02-.2 1.41-.59l7.78-7.78 2.81-2.81c.8-.78.8-2.07 0-2.86zM5.41 20L4 18.59l7.72-7.72 1.47 1.35L5.41 20z\"/>\n",
              "  </svg>\n",
              "      </button>\n",
              "\n",
              "\n",
              "\n",
              "    <div id=\"df-7aa658fb-201c-4963-be0a-8aecc7a5a7ba\">\n",
              "      <button class=\"colab-df-quickchart\" onclick=\"quickchart('df-7aa658fb-201c-4963-be0a-8aecc7a5a7ba')\"\n",
              "              title=\"Suggest charts.\"\n",
              "              style=\"display:none;\">\n",
              "\n",
              "<svg xmlns=\"http://www.w3.org/2000/svg\" height=\"24px\"viewBox=\"0 0 24 24\"\n",
              "     width=\"24px\">\n",
              "    <g>\n",
              "        <path d=\"M19 3H5c-1.1 0-2 .9-2 2v14c0 1.1.9 2 2 2h14c1.1 0 2-.9 2-2V5c0-1.1-.9-2-2-2zM9 17H7v-7h2v7zm4 0h-2V7h2v10zm4 0h-2v-4h2v4z\"/>\n",
              "    </g>\n",
              "</svg>\n",
              "      </button>\n",
              "    </div>\n",
              "\n",
              "<style>\n",
              "  .colab-df-quickchart {\n",
              "    background-color: #E8F0FE;\n",
              "    border: none;\n",
              "    border-radius: 50%;\n",
              "    cursor: pointer;\n",
              "    display: none;\n",
              "    fill: #1967D2;\n",
              "    height: 32px;\n",
              "    padding: 0 0 0 0;\n",
              "    width: 32px;\n",
              "  }\n",
              "\n",
              "  .colab-df-quickchart:hover {\n",
              "    background-color: #E2EBFA;\n",
              "    box-shadow: 0px 1px 2px rgba(60, 64, 67, 0.3), 0px 1px 3px 1px rgba(60, 64, 67, 0.15);\n",
              "    fill: #174EA6;\n",
              "  }\n",
              "\n",
              "  [theme=dark] .colab-df-quickchart {\n",
              "    background-color: #3B4455;\n",
              "    fill: #D2E3FC;\n",
              "  }\n",
              "\n",
              "  [theme=dark] .colab-df-quickchart:hover {\n",
              "    background-color: #434B5C;\n",
              "    box-shadow: 0px 1px 3px 1px rgba(0, 0, 0, 0.15);\n",
              "    filter: drop-shadow(0px 1px 2px rgba(0, 0, 0, 0.3));\n",
              "    fill: #FFFFFF;\n",
              "  }\n",
              "</style>\n",
              "\n",
              "    <script>\n",
              "      async function quickchart(key) {\n",
              "        const containerElement = document.querySelector('#' + key);\n",
              "        const charts = await google.colab.kernel.invokeFunction(\n",
              "            'suggestCharts', [key], {});\n",
              "      }\n",
              "    </script>\n",
              "\n",
              "      <script>\n",
              "\n",
              "function displayQuickchartButton(domScope) {\n",
              "  let quickchartButtonEl =\n",
              "    domScope.querySelector('#df-7aa658fb-201c-4963-be0a-8aecc7a5a7ba button.colab-df-quickchart');\n",
              "  quickchartButtonEl.style.display =\n",
              "    google.colab.kernel.accessAllowed ? 'block' : 'none';\n",
              "}\n",
              "\n",
              "        displayQuickchartButton(document);\n",
              "      </script>\n",
              "      <style>\n",
              "    .colab-df-container {\n",
              "      display:flex;\n",
              "      flex-wrap:wrap;\n",
              "      gap: 12px;\n",
              "    }\n",
              "\n",
              "    .colab-df-convert {\n",
              "      background-color: #E8F0FE;\n",
              "      border: none;\n",
              "      border-radius: 50%;\n",
              "      cursor: pointer;\n",
              "      display: none;\n",
              "      fill: #1967D2;\n",
              "      height: 32px;\n",
              "      padding: 0 0 0 0;\n",
              "      width: 32px;\n",
              "    }\n",
              "\n",
              "    .colab-df-convert:hover {\n",
              "      background-color: #E2EBFA;\n",
              "      box-shadow: 0px 1px 2px rgba(60, 64, 67, 0.3), 0px 1px 3px 1px rgba(60, 64, 67, 0.15);\n",
              "      fill: #174EA6;\n",
              "    }\n",
              "\n",
              "    [theme=dark] .colab-df-convert {\n",
              "      background-color: #3B4455;\n",
              "      fill: #D2E3FC;\n",
              "    }\n",
              "\n",
              "    [theme=dark] .colab-df-convert:hover {\n",
              "      background-color: #434B5C;\n",
              "      box-shadow: 0px 1px 3px 1px rgba(0, 0, 0, 0.15);\n",
              "      filter: drop-shadow(0px 1px 2px rgba(0, 0, 0, 0.3));\n",
              "      fill: #FFFFFF;\n",
              "    }\n",
              "  </style>\n",
              "\n",
              "      <script>\n",
              "        const buttonEl =\n",
              "          document.querySelector('#df-bea05d08-417a-41ad-9e42-be0cd524c91b button.colab-df-convert');\n",
              "        buttonEl.style.display =\n",
              "          google.colab.kernel.accessAllowed ? 'block' : 'none';\n",
              "\n",
              "        async function convertToInteractive(key) {\n",
              "          const element = document.querySelector('#df-bea05d08-417a-41ad-9e42-be0cd524c91b');\n",
              "          const dataTable =\n",
              "            await google.colab.kernel.invokeFunction('convertToInteractive',\n",
              "                                                     [key], {});\n",
              "          if (!dataTable) return;\n",
              "\n",
              "          const docLinkHtml = 'Like what you see? Visit the ' +\n",
              "            '<a target=\"_blank\" href=https://colab.research.google.com/notebooks/data_table.ipynb>data table notebook</a>'\n",
              "            + ' to learn more about interactive tables.';\n",
              "          element.innerHTML = '';\n",
              "          dataTable['output_type'] = 'display_data';\n",
              "          await google.colab.output.renderOutput(dataTable, element);\n",
              "          const docLink = document.createElement('div');\n",
              "          docLink.innerHTML = docLinkHtml;\n",
              "          element.appendChild(docLink);\n",
              "        }\n",
              "      </script>\n",
              "    </div>\n",
              "  </div>\n"
            ]
          },
          "metadata": {},
          "execution_count": 26
        }
      ]
    },
    {
      "cell_type": "code",
      "source": [
        "freq_word[not_stop_words][:75]['word'].to_list()"
      ],
      "metadata": {
        "colab": {
          "base_uri": "https://localhost:8080/"
        },
        "id": "l1xM8H7MP4vw",
        "outputId": "5fcec541-6f14-4031-d60e-fffc7da4a427"
      },
      "execution_count": 27,
      "outputs": [
        {
          "output_type": "execute_result",
          "data": {
            "text/plain": [
              "['twitter',\n",
              " 'bagus',\n",
              " 'akun',\n",
              " 'aplikasi',\n",
              " 'nya',\n",
              " 'ga',\n",
              " 'gak',\n",
              " 'sangat',\n",
              " 'good',\n",
              " 'mau',\n",
              " 'aja',\n",
              " 'yg',\n",
              " 'mantap',\n",
              " 'padahal',\n",
              " 'banget',\n",
              " 'buat',\n",
              " 'update',\n",
              " 'login',\n",
              " 'apk',\n",
              " 'malah',\n",
              " 'makin',\n",
              " 'udah',\n",
              " 'banyak',\n",
              " 'suka',\n",
              " 'video',\n",
              " 'masuk',\n",
              " 'aku',\n",
              " 'jadi',\n",
              " 'gk',\n",
              " 'buka',\n",
              " 'kok',\n",
              " 'kode',\n",
              " 'jelek',\n",
              " 'baru',\n",
              " 'lama',\n",
              " 'susah',\n",
              " 'sekarang',\n",
              " 'nomor',\n",
              " 'daftar',\n",
              " 'terus',\n",
              " 'baik',\n",
              " 'verifikasi',\n",
              " 'sama',\n",
              " 'bintang',\n",
              " 'sering',\n",
              " 'apa',\n",
              " 'no',\n",
              " 'bikin',\n",
              " 'the',\n",
              " 'gabisa',\n",
              " 'pas',\n",
              " 'selalu',\n",
              " 'download',\n",
              " 'dulu',\n",
              " 'kasih',\n",
              " 'i',\n",
              " 'sih',\n",
              " 'pake',\n",
              " 'hp',\n",
              " 'keren',\n",
              " 'perbaiki',\n",
              " 'gw',\n",
              " 'kalo',\n",
              " 'sekali',\n",
              " 'lebih',\n",
              " 'sendiri',\n",
              " 'udh',\n",
              " 'keluar',\n",
              " 'coba',\n",
              " 'oke',\n",
              " 'bgt',\n",
              " 'lah',\n",
              " 'jelas',\n",
              " 'fitur',\n",
              " 'nice']"
            ]
          },
          "metadata": {},
          "execution_count": 27
        }
      ]
    },
    {
      "cell_type": "code",
      "source": [
        "more_stopwords = [\n",
        " 'twitter',\n",
        " 'aplikasi',\n",
        " 'nya',\n",
        " 'sangat',\n",
        " 'mau',\n",
        " 'aja',\n",
        " 'yg',\n",
        " 'padahal',\n",
        " 'banget',\n",
        " 'buat',\n",
        " 'apk',\n",
        " 'malah',\n",
        " 'makin',\n",
        " 'udah',\n",
        " 'banyak',\n",
        " 'aku',\n",
        " 'jadi',\n",
        " 'gk',\n",
        " 'kok',\n",
        " 'sekarang',\n",
        " 'nomor',\n",
        " 'terus',\n",
        " 'sama',\n",
        " 'bintang',\n",
        " 'sering',\n",
        " 'apa',\n",
        " 'no',\n",
        " 'bikin',\n",
        " 'the',\n",
        " 'pas',\n",
        " 'selalu',\n",
        " 'dulu',\n",
        " 'kasih',\n",
        " 'i',\n",
        " 'sih',\n",
        " 'pake',\n",
        " 'hp',\n",
        " 'gw',\n",
        " 'kalo',\n",
        " 'sekali',\n",
        " 'lebih',\n",
        " 'sendiri',\n",
        " 'udh',\n",
        " 'coba',\n",
        " 'bgt',\n",
        " 'lah',\n",
        " 'jelas'\n",
        " ]"
      ],
      "metadata": {
        "id": "i5CVCT90TmLC"
      },
      "execution_count": 28,
      "outputs": []
    },
    {
      "cell_type": "code",
      "source": [
        "import re\n",
        "def remove_emoji(string):\n",
        "    emoji_pattern = re.compile(\"[\"\n",
        "                           u\"\\U0001F600-\\U0001F999\" # emoticons\n",
        "                           u\"\\U0001F300-\\U0001F5FF\" # symbols & pictographs\n",
        "                           u\"\\U0001F680-\\U0001F6FF\" # transport & map symbols\n",
        "                           u\"\\U0001F1E0-\\U0001F1FF\" # flags (iOS)\n",
        "                           u\"\\U00002702-\\U000027B0\"\n",
        "                           u\"\\U000024C2-\\U0001F251\"\n",
        "                           \"]+\", flags=re.UNICODE)\n",
        "    return emoji_pattern.sub(r'', string)"
      ],
      "metadata": {
        "id": "w5hyQ8W0G_7t"
      },
      "execution_count": 29,
      "outputs": []
    },
    {
      "cell_type": "code",
      "source": [
        "import string\n",
        "def preprocess(text):\n",
        "\n",
        "    text = remove_emoji(text)\n",
        "    # remove numbers\n",
        "    text = ''.join(word for word in text if not word.isdigit())\n",
        "\n",
        "    # remove punctuation\n",
        "    text = ''.join(word for word in text if word not in string.punctuation)\n",
        "\n",
        "    # tokenization\n",
        "    tokens = nltk.word_tokenize(text)\n",
        "\n",
        "    # remove stopwords and additional stopwords\n",
        "    stop_words = set(sastrawi_sw + more_stopwords)\n",
        "    filtered_tokens = [word for word in tokens if word not in stop_words]\n",
        "\n",
        "    # remove extra whitespace\n",
        "    text = ' '.join(filtered_tokens)\n",
        "    text = ' '.join(text.split())\n",
        "\n",
        "    return text\n"
      ],
      "metadata": {
        "id": "bCqwCG1PCDuf"
      },
      "execution_count": 30,
      "outputs": []
    },
    {
      "cell_type": "code",
      "source": [
        "df_labeled['content_cleaned'] = df_labeled['content'].apply(preprocess)"
      ],
      "metadata": {
        "id": "h5VUV_IWCFZr"
      },
      "execution_count": 31,
      "outputs": []
    },
    {
      "cell_type": "code",
      "source": [
        "df_cleaned = df_labeled.copy()"
      ],
      "metadata": {
        "id": "PHIbrN8lJGyn"
      },
      "execution_count": 32,
      "outputs": []
    },
    {
      "cell_type": "code",
      "source": [
        "df_cleaned = df_cleaned.dropna()"
      ],
      "metadata": {
        "id": "QX0EmnBG4Yu4"
      },
      "execution_count": 33,
      "outputs": []
    },
    {
      "cell_type": "code",
      "source": [
        "df_cleaned['content_cleaned'].isna().value_counts()"
      ],
      "metadata": {
        "colab": {
          "base_uri": "https://localhost:8080/"
        },
        "id": "2K2Hsoh4G7Gp",
        "outputId": "7c54c0bc-99f3-4963-a7b3-a76d839377d2"
      },
      "execution_count": 34,
      "outputs": [
        {
          "output_type": "execute_result",
          "data": {
            "text/plain": [
              "False    100000\n",
              "Name: content_cleaned, dtype: int64"
            ]
          },
          "metadata": {},
          "execution_count": 34
        }
      ]
    },
    {
      "cell_type": "code",
      "source": [
        "df_cleaned.info()"
      ],
      "metadata": {
        "colab": {
          "base_uri": "https://localhost:8080/"
        },
        "id": "0z_bEYEmHMXv",
        "outputId": "1bd8cd13-ae81-4bda-a35b-32e4f1006a82"
      },
      "execution_count": 35,
      "outputs": [
        {
          "output_type": "stream",
          "name": "stdout",
          "text": [
            "<class 'pandas.core.frame.DataFrame'>\n",
            "RangeIndex: 100000 entries, 0 to 99999\n",
            "Data columns (total 4 columns):\n",
            " #   Column           Non-Null Count   Dtype \n",
            "---  ------           --------------   ----- \n",
            " 0   content          100000 non-null  object\n",
            " 1   score            100000 non-null  int64 \n",
            " 2   sentiment        100000 non-null  object\n",
            " 3   content_cleaned  100000 non-null  object\n",
            "dtypes: int64(1), object(3)\n",
            "memory usage: 3.1+ MB\n"
          ]
        }
      ]
    },
    {
      "cell_type": "code",
      "source": [
        "df_cleaned.head()"
      ],
      "metadata": {
        "colab": {
          "base_uri": "https://localhost:8080/",
          "height": 206
        },
        "id": "IfAQgH6uCRBm",
        "outputId": "c5efc4be-8c14-47de-aa2d-d4b5e3128a9d"
      },
      "execution_count": 36,
      "outputs": [
        {
          "output_type": "execute_result",
          "data": {
            "text/plain": [
              "                                  content  score sentiment  \\\n",
              "0                    hate x, love twitter      1  negative   \n",
              "1                       good good good 😘😘      5  positive   \n",
              "2  apk tolol ngk jelas login aja ngk bisa      1  negative   \n",
              "3                                   jelek      1  negative   \n",
              "4                         gabud ikut ikut      1  negative   \n",
              "\n",
              "       content_cleaned  \n",
              "0          hate x love  \n",
              "1       good good good  \n",
              "2  tolol ngk login ngk  \n",
              "3                jelek  \n",
              "4      gabud ikut ikut  "
            ],
            "text/html": [
              "\n",
              "\n",
              "  <div id=\"df-ab44d5e6-c6a8-4a61-8803-6aaa33f1ae1e\">\n",
              "    <div class=\"colab-df-container\">\n",
              "      <div>\n",
              "<style scoped>\n",
              "    .dataframe tbody tr th:only-of-type {\n",
              "        vertical-align: middle;\n",
              "    }\n",
              "\n",
              "    .dataframe tbody tr th {\n",
              "        vertical-align: top;\n",
              "    }\n",
              "\n",
              "    .dataframe thead th {\n",
              "        text-align: right;\n",
              "    }\n",
              "</style>\n",
              "<table border=\"1\" class=\"dataframe\">\n",
              "  <thead>\n",
              "    <tr style=\"text-align: right;\">\n",
              "      <th></th>\n",
              "      <th>content</th>\n",
              "      <th>score</th>\n",
              "      <th>sentiment</th>\n",
              "      <th>content_cleaned</th>\n",
              "    </tr>\n",
              "  </thead>\n",
              "  <tbody>\n",
              "    <tr>\n",
              "      <th>0</th>\n",
              "      <td>hate x, love twitter</td>\n",
              "      <td>1</td>\n",
              "      <td>negative</td>\n",
              "      <td>hate x love</td>\n",
              "    </tr>\n",
              "    <tr>\n",
              "      <th>1</th>\n",
              "      <td>good good good 😘😘</td>\n",
              "      <td>5</td>\n",
              "      <td>positive</td>\n",
              "      <td>good good good</td>\n",
              "    </tr>\n",
              "    <tr>\n",
              "      <th>2</th>\n",
              "      <td>apk tolol ngk jelas login aja ngk bisa</td>\n",
              "      <td>1</td>\n",
              "      <td>negative</td>\n",
              "      <td>tolol ngk login ngk</td>\n",
              "    </tr>\n",
              "    <tr>\n",
              "      <th>3</th>\n",
              "      <td>jelek</td>\n",
              "      <td>1</td>\n",
              "      <td>negative</td>\n",
              "      <td>jelek</td>\n",
              "    </tr>\n",
              "    <tr>\n",
              "      <th>4</th>\n",
              "      <td>gabud ikut ikut</td>\n",
              "      <td>1</td>\n",
              "      <td>negative</td>\n",
              "      <td>gabud ikut ikut</td>\n",
              "    </tr>\n",
              "  </tbody>\n",
              "</table>\n",
              "</div>\n",
              "      <button class=\"colab-df-convert\" onclick=\"convertToInteractive('df-ab44d5e6-c6a8-4a61-8803-6aaa33f1ae1e')\"\n",
              "              title=\"Convert this dataframe to an interactive table.\"\n",
              "              style=\"display:none;\">\n",
              "\n",
              "  <svg xmlns=\"http://www.w3.org/2000/svg\" height=\"24px\"viewBox=\"0 0 24 24\"\n",
              "       width=\"24px\">\n",
              "    <path d=\"M0 0h24v24H0V0z\" fill=\"none\"/>\n",
              "    <path d=\"M18.56 5.44l.94 2.06.94-2.06 2.06-.94-2.06-.94-.94-2.06-.94 2.06-2.06.94zm-11 1L8.5 8.5l.94-2.06 2.06-.94-2.06-.94L8.5 2.5l-.94 2.06-2.06.94zm10 10l.94 2.06.94-2.06 2.06-.94-2.06-.94-.94-2.06-.94 2.06-2.06.94z\"/><path d=\"M17.41 7.96l-1.37-1.37c-.4-.4-.92-.59-1.43-.59-.52 0-1.04.2-1.43.59L10.3 9.45l-7.72 7.72c-.78.78-.78 2.05 0 2.83L4 21.41c.39.39.9.59 1.41.59.51 0 1.02-.2 1.41-.59l7.78-7.78 2.81-2.81c.8-.78.8-2.07 0-2.86zM5.41 20L4 18.59l7.72-7.72 1.47 1.35L5.41 20z\"/>\n",
              "  </svg>\n",
              "      </button>\n",
              "\n",
              "\n",
              "\n",
              "    <div id=\"df-ed2ea037-388a-42d0-a752-829ebe1585d9\">\n",
              "      <button class=\"colab-df-quickchart\" onclick=\"quickchart('df-ed2ea037-388a-42d0-a752-829ebe1585d9')\"\n",
              "              title=\"Suggest charts.\"\n",
              "              style=\"display:none;\">\n",
              "\n",
              "<svg xmlns=\"http://www.w3.org/2000/svg\" height=\"24px\"viewBox=\"0 0 24 24\"\n",
              "     width=\"24px\">\n",
              "    <g>\n",
              "        <path d=\"M19 3H5c-1.1 0-2 .9-2 2v14c0 1.1.9 2 2 2h14c1.1 0 2-.9 2-2V5c0-1.1-.9-2-2-2zM9 17H7v-7h2v7zm4 0h-2V7h2v10zm4 0h-2v-4h2v4z\"/>\n",
              "    </g>\n",
              "</svg>\n",
              "      </button>\n",
              "    </div>\n",
              "\n",
              "<style>\n",
              "  .colab-df-quickchart {\n",
              "    background-color: #E8F0FE;\n",
              "    border: none;\n",
              "    border-radius: 50%;\n",
              "    cursor: pointer;\n",
              "    display: none;\n",
              "    fill: #1967D2;\n",
              "    height: 32px;\n",
              "    padding: 0 0 0 0;\n",
              "    width: 32px;\n",
              "  }\n",
              "\n",
              "  .colab-df-quickchart:hover {\n",
              "    background-color: #E2EBFA;\n",
              "    box-shadow: 0px 1px 2px rgba(60, 64, 67, 0.3), 0px 1px 3px 1px rgba(60, 64, 67, 0.15);\n",
              "    fill: #174EA6;\n",
              "  }\n",
              "\n",
              "  [theme=dark] .colab-df-quickchart {\n",
              "    background-color: #3B4455;\n",
              "    fill: #D2E3FC;\n",
              "  }\n",
              "\n",
              "  [theme=dark] .colab-df-quickchart:hover {\n",
              "    background-color: #434B5C;\n",
              "    box-shadow: 0px 1px 3px 1px rgba(0, 0, 0, 0.15);\n",
              "    filter: drop-shadow(0px 1px 2px rgba(0, 0, 0, 0.3));\n",
              "    fill: #FFFFFF;\n",
              "  }\n",
              "</style>\n",
              "\n",
              "    <script>\n",
              "      async function quickchart(key) {\n",
              "        const containerElement = document.querySelector('#' + key);\n",
              "        const charts = await google.colab.kernel.invokeFunction(\n",
              "            'suggestCharts', [key], {});\n",
              "      }\n",
              "    </script>\n",
              "\n",
              "      <script>\n",
              "\n",
              "function displayQuickchartButton(domScope) {\n",
              "  let quickchartButtonEl =\n",
              "    domScope.querySelector('#df-ed2ea037-388a-42d0-a752-829ebe1585d9 button.colab-df-quickchart');\n",
              "  quickchartButtonEl.style.display =\n",
              "    google.colab.kernel.accessAllowed ? 'block' : 'none';\n",
              "}\n",
              "\n",
              "        displayQuickchartButton(document);\n",
              "      </script>\n",
              "      <style>\n",
              "    .colab-df-container {\n",
              "      display:flex;\n",
              "      flex-wrap:wrap;\n",
              "      gap: 12px;\n",
              "    }\n",
              "\n",
              "    .colab-df-convert {\n",
              "      background-color: #E8F0FE;\n",
              "      border: none;\n",
              "      border-radius: 50%;\n",
              "      cursor: pointer;\n",
              "      display: none;\n",
              "      fill: #1967D2;\n",
              "      height: 32px;\n",
              "      padding: 0 0 0 0;\n",
              "      width: 32px;\n",
              "    }\n",
              "\n",
              "    .colab-df-convert:hover {\n",
              "      background-color: #E2EBFA;\n",
              "      box-shadow: 0px 1px 2px rgba(60, 64, 67, 0.3), 0px 1px 3px 1px rgba(60, 64, 67, 0.15);\n",
              "      fill: #174EA6;\n",
              "    }\n",
              "\n",
              "    [theme=dark] .colab-df-convert {\n",
              "      background-color: #3B4455;\n",
              "      fill: #D2E3FC;\n",
              "    }\n",
              "\n",
              "    [theme=dark] .colab-df-convert:hover {\n",
              "      background-color: #434B5C;\n",
              "      box-shadow: 0px 1px 3px 1px rgba(0, 0, 0, 0.15);\n",
              "      filter: drop-shadow(0px 1px 2px rgba(0, 0, 0, 0.3));\n",
              "      fill: #FFFFFF;\n",
              "    }\n",
              "  </style>\n",
              "\n",
              "      <script>\n",
              "        const buttonEl =\n",
              "          document.querySelector('#df-ab44d5e6-c6a8-4a61-8803-6aaa33f1ae1e button.colab-df-convert');\n",
              "        buttonEl.style.display =\n",
              "          google.colab.kernel.accessAllowed ? 'block' : 'none';\n",
              "\n",
              "        async function convertToInteractive(key) {\n",
              "          const element = document.querySelector('#df-ab44d5e6-c6a8-4a61-8803-6aaa33f1ae1e');\n",
              "          const dataTable =\n",
              "            await google.colab.kernel.invokeFunction('convertToInteractive',\n",
              "                                                     [key], {});\n",
              "          if (!dataTable) return;\n",
              "\n",
              "          const docLinkHtml = 'Like what you see? Visit the ' +\n",
              "            '<a target=\"_blank\" href=https://colab.research.google.com/notebooks/data_table.ipynb>data table notebook</a>'\n",
              "            + ' to learn more about interactive tables.';\n",
              "          element.innerHTML = '';\n",
              "          dataTable['output_type'] = 'display_data';\n",
              "          await google.colab.output.renderOutput(dataTable, element);\n",
              "          const docLink = document.createElement('div');\n",
              "          docLink.innerHTML = docLinkHtml;\n",
              "          element.appendChild(docLink);\n",
              "        }\n",
              "      </script>\n",
              "    </div>\n",
              "  </div>\n"
            ]
          },
          "metadata": {},
          "execution_count": 36
        }
      ]
    },
    {
      "cell_type": "code",
      "source": [
        "df_cleaned['content_cleaned'].tolist()"
      ],
      "metadata": {
        "colab": {
          "base_uri": "https://localhost:8080/"
        },
        "id": "5iq2G1uxDoZo",
        "outputId": "c9635d2e-ee07-43a5-e25d-5446ffe0a0b9"
      },
      "execution_count": 37,
      "outputs": [
        {
          "output_type": "execute_result",
          "data": {
            "text/plain": [
              "['hate x love',\n",
              " 'good good good',\n",
              " 'tolol ngk login ngk',\n",
              " 'jelek',\n",
              " 'gabud ikut ikut',\n",
              " 'males ah twt ga seasik mana logonya diganti',\n",
              " 'gak suka gua ni',\n",
              " 'x is bad',\n",
              " 'sejauh cukup memuaskan',\n",
              " 'kecowaa',\n",
              " 'register ga perbaiki',\n",
              " 'bokep',\n",
              " 'x logonya',\n",
              " 'semenjak update gaena',\n",
              " 'autentikasi membingungkan',\n",
              " 'keren',\n",
              " 'logonya kek anj minimal nonton ma ngetweet dikit bilangnya nge x gt liat x kan anjg elon you such a fucek',\n",
              " 'selamat tinggal blue bird',\n",
              " 'its not same anymore',\n",
              " 'x maksut',\n",
              " 'terlalu sensitif',\n",
              " '',\n",
              " 'hei kembalikan',\n",
              " 'kesini kurang nyaman pakai uninstall',\n",
              " 'woi balikin logo gwkenapa diplaystore msh burung xgk enak woi liatnyatukar hshebwowniwvehsoqow yw skapb',\n",
              " 'suka sma logo barunya gua blm update jdi gpp',\n",
              " 'jlek',\n",
              " 'sejak dikomersialkan usernya dijadikan alat jual beli berlalih menggunakan bluesky buatan si pencipta',\n",
              " 'mending u diem deh lon elon',\n",
              " 'rest is just memory',\n",
              " 'akun mama ku tersuspen',\n",
              " 'bagus',\n",
              " 'jgn pakai ngeselin',\n",
              " 'perbarui logonya berubah x warna hitam biasanya lambang burung warba biru',\n",
              " 'foto profil foto latar belakang aq hilang dasar developer bluk',\n",
              " 'bagus cocok pencoli handal mencari bahan bukan pengocok handal',\n",
              " 'ga sgala ubah logo nama x doang sumpah ksini ga asik kek dlu',\n",
              " 'twit se bagus twit dlu',\n",
              " 'ngga',\n",
              " 'belakangan update mengganggu kebijakan baru membuat pengguna nyaman ditambah beberapa error terjadi pemutaran videogambar menyimpan gambar jaringan internet baik berharap',\n",
              " 'seru',\n",
              " 'rebranding kurang nyaman',\n",
              " 'kebijakan baru membuat keterbatasan ekspresi',\n",
              " 'bring back blue bird way you change it to x is most stupidest thing ive ever see',\n",
              " 'senang',\n",
              " 'very good',\n",
              " 'apaan punya ga',\n",
              " 'mantap',\n",
              " 'males',\n",
              " 'jelek lo jelek benerbener jelek males gua ama lo',\n",
              " 'love x',\n",
              " 'bukan semakin baik semakin buruk',\n",
              " 'bermanfaat',\n",
              " 'ever',\n",
              " 'bagus',\n",
              " 'tak seindah',\n",
              " 'jelek',\n",
              " 'bagus nga kendala membantu',\n",
              " 'sejauh menjadi sosmed mengekspresikan dirinya kayak curhatsekedar berinteraksi orang tp akhir buka orang baca reply melewati pasar dagangan semakin update semakin fitur bagus nyaman tadinya ½',\n",
              " 'kecewa dg enggak asik lg',\n",
              " 'x gak asik',\n",
              " 'melon busuk',\n",
              " 'pler',\n",
              " 'sabar melihat berubah menjadi x',\n",
              " 'ngontol',\n",
              " 'with new policies that users cant understand instead suspends them and it doesnt explain what violations have been committed by users sent an appeal but they were still ignored finally im sorry uninstalled this application',\n",
              " 'buka video susah internet lancar',\n",
              " 'logo twiter ganti',\n",
              " 'dont know',\n",
              " 'anjayy banjj logo tweet luwh berubah ae kudu maksutnya cem mane ye minimal logo tetap burung dara banj apaan logo x luwh kira mao jd ultramenter',\n",
              " 'make twitt batasan',\n",
              " 'mengikuti seseorang diikuti kalimat akun sedang ditangguhkan memperbaiki secepatnya mungkin',\n",
              " 'logo ganti burung jangan x jelek anyingg gak suka ngeliat sat',\n",
              " 'kesini ngaco',\n",
              " 'suwek',\n",
              " 'toxic kumpulan orang sange',\n",
              " 'kangen',\n",
              " 'berbayar',\n",
              " 'ancur seminngu daftar didaftarkan erorlah parah',\n",
              " 'bagus',\n",
              " 'gabisa masuk semenjak update',\n",
              " 'tampilkan twit paling rame',\n",
              " 'memuaskan',\n",
              " 'semenjak berubah nama menjadi x kurang suka maaf bintangnya turun',\n",
              " 'gajelas',\n",
              " 'jelek',\n",
              " 'ga elon knt',\n",
              " 'kaya biasa',\n",
              " 'elon musk menghilangkan sejarah',\n",
              " 'gak se asik',\n",
              " 'babi gjlss dh bner kode ga masuk ribet bat lu taiii',\n",
              " 'pernh kehilangan akun stelh masuk skrg',\n",
              " 'susah dowload video',\n",
              " 'jauh awal t x',\n",
              " 'modal kuota yeah',\n",
              " 'perbanyak link bokepa',\n",
              " 'baik',\n",
              " 'ga buka tw unistall trus donwload lgi ttp ga jg',\n",
              " 'elon fetish huruf x',\n",
              " 'logo baru g bagus aturan baru menyulitkan pengguna contohnya limit dm',\n",
              " 'logo x',\n",
              " 'elon ad masalah ap',\n",
              " 'kesini buruktau akun d akses n tangguhkan gitu lbih baik uninstal dah',\n",
              " 'update mulu perbaikan kagak apaan logo legend bluebird diganti x situs porno judi jelek sejak ganti ceo terlalu aturan byk kebijakan gak berguna',\n",
              " 'mls sm twt skrg logo gantiberbayar semua limitnya',\n",
              " 'nub',\n",
              " 'gajelas',\n",
              " 'top',\n",
              " 'terbiasa twitterso whats on called this appxteror',\n",
              " 'verry good full open informasion',\n",
              " 'sue bat dah',\n",
              " 'elon taiiiiiii',\n",
              " 'buriq',\n",
              " 'woi elon musk',\n",
              " 'tinggalkan x',\n",
              " 'kurang nyaman',\n",
              " 'update aneh',\n",
              " 'berpindah tangan goodbye',\n",
              " 'akun ditangguhkan pernah posting beromentar apapun',\n",
              " 'keren',\n",
              " 'kesini gue muak cuman gue doang username gabisa digantiii tanda selesai centang hijaunya tuh gaak adaaa gakk bisaa anjirt smnjk si eln megang jd maless bwgt bukak tp y gmna gue ttp bukak karna cmn ngertiin dn ngehibur guetempat gue curhatt trs gimana dongg dannn logonya napa ganti x si tgnnya gatel gak diemm gue kasitau logo lama tetep pemenangnya',\n",
              " 'enak unt ribut sesuai suara burung',\n",
              " 'update tampilannya semakin bagus menarik dilihat',\n",
              " 'love elon',\n",
              " 'ganti logo gila ni update aplikasinya',\n",
              " 'rindu',\n",
              " 'oke',\n",
              " 'marai males logo diganti pdhl ak suda nyaman buwung',\n",
              " 'mantap',\n",
              " 'baik muaskan',\n",
              " 'mantap kalau komentar berlawanan pemerintah tutup',\n",
              " 'semua berubah semenjak ambil alih awal video lancar skrg menjadi eror buruk',\n",
              " 'bagus penggunaan pertama',\n",
              " 'butuh kebebasan berpendapat',\n",
              " 'kaga login lg susah kaga kek lupa password langsung make link verifikasi akun giliran ketemu gak',\n",
              " 'error bang nanpa nih bang',\n",
              " 'ganti logo',\n",
              " 'bad',\n",
              " 'logo ganti bang mending burung tetep',\n",
              " 'ga login weh gimana sii',\n",
              " 'gajelas ni',\n",
              " 'jels',\n",
              " 'good',\n",
              " 'mantap tuk bokep',\n",
              " 'xnxx tolol',\n",
              " 'kacaauuuuu kacau',\n",
              " 'membantu information terbaru',\n",
              " 'darisemua logo hidup x mending thread andai mark zuckerberg megang twit',\n",
              " 'bagus',\n",
              " 'bagus',\n",
              " 'menambah wawasan',\n",
              " 'tolol limit segala',\n",
              " 'jelek icon app apaan x bagusan burung',\n",
              " 'menjadi nyaman digunakan semenjak berganti kepemilikan menjengkelkan aturan lawak kepengurusan baru shame on x corp',\n",
              " 'gak kaya dah beda serba terbatas gak senyaman',\n",
              " 'baik',\n",
              " 'buruk',\n",
              " 'bagus',\n",
              " 'muantap',\n",
              " 'pemerintah kota san francisco membuka aduan meluncurkan penyelidikan tanda x raksasa dipasang salah satu gedung pusat kota gedung merupakan mantan markas dimiliki elon musk',\n",
              " 'suka padhal scrol bawah jauh',\n",
              " 'kesana kesini gjls',\n",
              " 'elon kejam seenak diganti good bye for tahun main aktif smpai bener kecewa rip',\n",
              " 'mengirim kode verifikasi gak muncul',\n",
              " 'seseru',\n",
              " 'sdh tak bagus lg',\n",
              " 'jeleg masa jd x',\n",
              " 'bad',\n",
              " '',\n",
              " 'eror anjinggggg',\n",
              " 'semoga menarik lagu',\n",
              " 'logo burung balikin kalau uninstall pindah threads memes',\n",
              " 'tida suka logo notification terbaru twt',\n",
              " 'semenjak elon pegang suka aneh aneh kembalikan lambang burung bukan x semoga elon tambah miskin rejekinya semua',\n",
              " 'ribet login payah',\n",
              " 'sampah logo barunya',\n",
              " 'if you dont like it dont use this app',\n",
              " 'kacau',\n",
              " 'semenjak diupdate susah buka',\n",
              " '',\n",
              " 'buruk',\n",
              " 'login verif telp gbsa mlu kntl',\n",
              " 'ganti niknem anjriiittttt',\n",
              " 'mantap',\n",
              " 'gg',\n",
              " 'akun tangguhkan oadahal ngapa ngapain benerin otak',\n",
              " 'tambah buruk asyik terlalu aturan busuk',\n",
              " 'terlalu ribet ga sprti',\n",
              " 'login',\n",
              " 'tahu letak kesalahan akun bangun sejak tahun tangguhkan kunci pakai disini merasa terpukul kecewa samasekali pernah memposting ketelanjangan pornografi pornoaksi kecewa kamu jahat kecewa',\n",
              " 'daftarnya ribettt lo kira gua setan sampek fitur manusia bukan',\n",
              " 'paling mantab menambah wawasan',\n",
              " 'baik',\n",
              " 'akun ditangguhkan dhl ga ngapain',\n",
              " 'eror',\n",
              " 'serba berbayar batasi berlangganan segala beli elon musk enak enak kaga batasan batasi scroll beranda batasan kaga kaya mana akun persulit eh sekalinya berhasil akun ban kocak',\n",
              " 'fitur hilang',\n",
              " 'layak',\n",
              " 'kurang baguss',\n",
              " 'bagaimana cara twitteruntuk melihat gunung tau utk mencari sahabat pertama kali masuk gampang masuk facebook elon asu ngerusak segi byk',\n",
              " 'masuk akun ribet',\n",
              " 'bagus facebook',\n",
              " 'manuke mati',\n",
              " 'just dont like new logo',\n",
              " 'balikin kaya please semenjak update mulu kek bug gt kaya suka keluar suka nggk pencet',\n",
              " 'masa t aneh',\n",
              " 'akun ribet bianget kek',\n",
              " 'twt gajelas',\n",
              " 'gajelas iconic logo burung biru ama nama ganti seenak jidat',\n",
              " 'susah log in',\n",
              " 'mayan',\n",
              " 'gembellllllllll',\n",
              " 'pihak kini suka sembaranganngaco masa tibatiba suspending akunakun tentubelum melanggar peraturanmana ajukan banding tahu respon selanjutnya gimana musk menjabat cto jadinya suka kebijakan penting fiturfiturnya ubah logolah limit harianlah pokoknya mengistimewakan akunakun bayar bulanan',\n",
              " 'elon pls elon jangan diganti logonya plssss mah pls cukup limit jangan burung biruku hilang lonnn',\n",
              " 'pengguna lama memprotes logo balikan semenjak berpindah pengembang semua lakukan bayar kamai huuuuuuu elon musk balikan lagiiii',\n",
              " 'error',\n",
              " 'p balap',\n",
              " 'seruuu',\n",
              " 'gak suka logo baru kata ghina mana burung ku kenal',\n",
              " 'update error',\n",
              " 'sejak ganti developer rasanya beda',\n",
              " 'elon ajg',\n",
              " 'xtod keren',\n",
              " 'gak',\n",
              " 'rusak sejak pindah kepemilikan si elon semuanya serba bayarcuma mentingin duit doangbanyak bug ga urusinmau ganti akun ga bisaudah rusak',\n",
              " 'bagus diteambang',\n",
              " 'kesini kesana gatau dikemanain',\n",
              " '',\n",
              " 'ribet login akun via google bagian suruh isi nomer verif gabisa aneh gajelas',\n",
              " 'a bird who adopted by wrong hands',\n",
              " 'bagus',\n",
              " 'akun tiba tangguhkan ga nglanggar aturan trus bkin akun baru brapa hari tangguhkan alesan aneh sekrang pengaduan gada respon',\n",
              " 'kejam akun d suspen',\n",
              " 'berulangkali kirim email login meminta kode email nomer kode dikirimkan tangapan',\n",
              " 'semoga',\n",
              " 'disebut x benarbenar menjadi media sosial aman rasa kenyamanan pengguna perubahanperubahan perlu blue entah namanya terkesan memaksa sungguh jatuh jurang',\n",
              " 'now its not just old joke',\n",
              " 'bagus',\n",
              " 'bagus',\n",
              " 'kurang suka logo',\n",
              " 'musk kntoolllmisk kntolllmusk kntoolllllmusk kntoolll',\n",
              " 'nonton',\n",
              " 'ga pernah postingkog ditangguhkan apaan',\n",
              " 'ganti logo kebanyakan bug lemot',\n",
              " 'akun baned daftar bisabaru x sosmed',\n",
              " 'sejak penggantian logo lag contoh tiba tiba keluar video lag aada perbaiki',\n",
              " 'suka nge bacot',\n",
              " 'goodbye',\n",
              " 'waduh',\n",
              " '',\n",
              " 'theres to much rule',\n",
              " 'sejak ganti pemilik menyenangkan kini menjadi',\n",
              " 'entah rasanya gak nyaman',\n",
              " 'besok twitt bayar',\n",
              " 'bagusan logo kemarin',\n",
              " 'kena banned akun guaawokawokawok',\n",
              " 'baik',\n",
              " 'semenjak ganti pemilik ambyarr segala fitur berbayar bug error hadeehh',\n",
              " '',\n",
              " 'elon musk is a destroyer',\n",
              " '',\n",
              " 'oke',\n",
              " 'resin ambil',\n",
              " 'bagusan logo burung biru',\n",
              " 'zzz',\n",
              " 'sebagus',\n",
              " 'skrng twitt ganti logo',\n",
              " 'mntap',\n",
              " 'bagus',\n",
              " 'gua ikonnya x',\n",
              " 'bokepnya',\n",
              " '',\n",
              " 'im sorry want to criticize developers please ive downloaded many times but in any way my phone number cant be verified its stressing me out ive used a google account but still have to use a phone number',\n",
              " 'spam notif ga trus',\n",
              " 'jelek ih',\n",
              " 'jelek gue rindu buyung birunya we elon mentang lu punya ye aaaa kembaliin burung biru semenjak update mikir ni ap woy kagak pernah instal baru nyadar klo emang logonya gnti mana muter vdio eror mulu',\n",
              " 'elon gak',\n",
              " 'bagus',\n",
              " 'jelek krn susah dmnya',\n",
              " 'bukan kenal knp logo ganti',\n",
              " 'waaauu',\n",
              " 'menurun yaa',\n",
              " 'elon musk merusak',\n",
              " 'peler',\n",
              " 'very downgrade',\n",
              " 'iklan ga tinggal singkirkan ga kuota abis update jangan update ga suka jangan download simple kan dikasih gratis protes',\n",
              " 'serba bayarrr ishhh ishh',\n",
              " 'gak masuk masuk',\n",
              " 'bagus ganti logo gua ga salah pencet traveloka',\n",
              " 'semenjak dipegang musk gajelas',\n",
              " 'ajg eln bangke ganti logo',\n",
              " 'gembel selama dipegang elon musk ga suka logo burung biru diganti jd x item ireng gtu',\n",
              " 'okelah mauk muye',\n",
              " 'semakin update semakin kembalikan lama',\n",
              " 'membantu',\n",
              " 'balasan gak diliat video ngelag terlaluuuu iklan',\n",
              " 'jelek',\n",
              " 'logo ne elek anj',\n",
              " 'biasanya gratis berbayar',\n",
              " 'update filem porno suka suka',\n",
              " 'mantap',\n",
              " 'verifikasi masuk baru ga',\n",
              " 'semenjak kang elont megang twetter bugnya',\n",
              " 'apik',\n",
              " 'ko update gabisa memuat tweet',\n",
              " 'kalian ngalamin errorlainnya kalian download versi dijamin lancar semua',\n",
              " 'kalau resign bug bahkan tak masuk',\n",
              " 'skrg bukann ngetweet ngex lawak akun gue tangguhkan gara bilang gitu',\n",
              " 'x suka',\n",
              " 'ga enak dibatasi',\n",
              " 'pengembang baru merusak',\n",
              " 'balikin ajalah gausah ngide',\n",
              " 'twiterr gini yamau login persulit',\n",
              " 'mohon maaf logo jangan diganti dong suka logo lama logo baru baru terlihat aneh mohon server ditingkatkan soalnya ngelag gitu sekian terimakasih',\n",
              " 'seru',\n",
              " 'tampilan jelek bangaet',\n",
              " 'gud cuma loading mohon dikurangi',\n",
              " 'hay admin kalau inbok jangan verifikasi dm langganan donk perbaiki',\n",
              " 'elon musk macam pentil kuda',\n",
              " 'bodo elah',\n",
              " 'intinya w kesel karna apdetan baru begini dibutuhin berbayar mana logo ganti anjirtlah gak ngerti',\n",
              " 'semenjak diakuisisi elon musk entah platform kacau arahnya salah orang hijrah bahkan delete akun twitternya kebijakan elon seenak udelnya',\n",
              " 'kesini kesana ckck balikin burung birunya lon',\n",
              " 'logo ganti',\n",
              " 'mending dah',\n",
              " 'ikutan ajadeh biar biarin',\n",
              " 'kesini semua fitur basic ubah berbayar bukan bagus jelek kecewa',\n",
              " 'perkembangan menarik',\n",
              " 'logo aneh masa jd x',\n",
              " 'ampas',\n",
              " 'suka lama buka pesan tau pesannya dibaca gak tau dibaca langsung dihapus twitternya tambah lama tambah gak enak lama donk',\n",
              " 'that x is very ugly',\n",
              " 'ribet',\n",
              " 'impresive',\n",
              " '',\n",
              " 'elon musk tai',\n",
              " 'update mulu dah biarin napa kyk semula jangan dirubah ckckk orang kaya gabut',\n",
              " 'emang logonya ganti kayak huruf x btw apl bagus manteman makasih',\n",
              " 'selamat datang',\n",
              " 'mulai dibatasin malesin',\n",
              " 'nice',\n",
              " 'logonya gantii x bagusan duluuu plssss',\n",
              " 'x apaan dah anjir kembalikan burung biruuuu',\n",
              " 'suka klo logo buwung biru x',\n",
              " 'gak',\n",
              " 'terlalu bertele login akun pakai nama klw lupa auto masuk semenjak pindah hak perusahaan sampah aplikasinya',\n",
              " 'gajelas',\n",
              " 'fc g gg tugu bp',\n",
              " 'gak ku update menjadi x corp pemutaran video eror komentar tdk muncul translate eror',\n",
              " 'apl tdk bagusssssssjelekk jelekkk bangettttt',\n",
              " 'x gak membagikan cerita',\n",
              " 'bug',\n",
              " 'busuk kesini parah akun tangguhkan ga ga mutar video',\n",
              " 'akun kelasalahan teknis mulu',\n",
              " 'jelek logonyaaaaaaaaaaaaaaaaa',\n",
              " 'bagus',\n",
              " 'elon musk pleeeerrr',\n",
              " 'bye',\n",
              " '',\n",
              " 'bokep',\n",
              " 'netizen toxic',\n",
              " 'mengaggu nga make skrg jelek',\n",
              " 'akun masuk telpon gak',\n",
              " 'lembeh pokoknya',\n",
              " 'ga sumpah gada pembatasan lag ga update ga biasanya langsung lancar',\n",
              " 'gausah tau palingan tau rate segini',\n",
              " 'sampah',\n",
              " 'dicekel elon aneh payah',\n",
              " 'goodbye',\n",
              " 'logo berbeda kembalikan logo menjadi huruf x bukannya logo bertanda burung',\n",
              " 'suka logo bluebird',\n",
              " 'wow syekali',\n",
              " 'bagus',\n",
              " 'logo napa ganti bagus logo burung',\n",
              " 'perubahan',\n",
              " 'xwitter',\n",
              " 'login berkalikali tetep gabisa',\n",
              " 'jangan ubah x',\n",
              " 'ribet',\n",
              " 'sejak pindah pemilik gak seru gak nyaman',\n",
              " 'bukannya bagus buruk bagus icon burung biru dikasih x jelek',\n",
              " 'kecewa update kali',\n",
              " 'bagus jaringan ngelag',\n",
              " 'baik jangan ganti nama x deh ntar dikira app nonton bok',\n",
              " 'kaget ni x perasaan download eeeh ternyata ku perbaharui ku buka ternyata logonya ku bagusan kemarin',\n",
              " 'hate youkembaliin logo duluu',\n",
              " 'baik',\n",
              " 'elon musk aneh dah',\n",
              " 'best apps',\n",
              " 'good',\n",
              " 'berbayar trs',\n",
              " 'membantu ketertinggalan membaca postingan orang terkenal duniatidak pernah lepas',\n",
              " 'mulai daftarkita keluar lagidaftar keluar lagipokony semenjak update ga sebagus',\n",
              " 'lelet bos',\n",
              " 'logo baru semoga al elon musk baik sebelumnya semangat elon',\n",
              " 'good',\n",
              " 'balikin burung biru anjjj',\n",
              " '',\n",
              " 'elon kntl',\n",
              " 'tangguhkan',\n",
              " 'kembalikan logo burung biruu',\n",
              " 'jelek',\n",
              " 'kesana kesini lu anjir',\n",
              " 'elon musk tai',\n",
              " 'capek sm ex ex ex eeexxxxxxxxx',\n",
              " 'lanang tanda x hitam',\n",
              " 'gak akun',\n",
              " 'baik',\n",
              " 'gak update twit',\n",
              " 'goood',\n",
              " 'blue ga',\n",
              " 'akun ditangguhkan alasan',\n",
              " 'desain logo jelek anak playgrup cuman nulis x propaganda politik akun pornografi iklannya tiap hari',\n",
              " 'elon musk aneh',\n",
              " 'jaringan bagus nyetel video ngelag ga karuan',\n",
              " 'logonya digantiiiiiiiiiiii',\n",
              " 'jelek',\n",
              " 'jelek anjir logo x gitu dah lo punya duit lo punya kuasa taiiii',\n",
              " 'bagus bermamfaat',\n",
              " 'aneh x account dikit kena suspend makinnn aneh',\n",
              " 'app setres',\n",
              " 'apaan akun',\n",
              " 'update mulu',\n",
              " 'intinya ni dah jelek g kaya',\n",
              " 'jelek',\n",
              " 'tingkah ownernya',\n",
              " 'suka logo burung',\n",
              " 'bgs',\n",
              " 'madep wel',\n",
              " 'gemana si akun baru susah beut',\n",
              " 'gamau update logonya jelek mirip sebelah baru muncul',\n",
              " 'why logo is x',\n",
              " 'jelek',\n",
              " 'daftarnya sulit masukan nomer telefon dimasukan tetep ga dong deperbaiki',\n",
              " 'yilongma',\n",
              " 'kurang',\n",
              " 'tiga',\n",
              " 'x x x',\n",
              " 'suka fresh atas ga ngapangapain',\n",
              " 'bagus',\n",
              " 'logonya jelek',\n",
              " 'woy diganti elon musk kek logonya kiyowo menyenangkan',\n",
              " 'logonya aneh x balik kek bukan ciri khasnya gtu baik bang bagus aselii',\n",
              " 'awalnya bagus dibeli elon musk semua jelek semuanya batasi logo diganti buka serasa buka porn logonya x',\n",
              " 'good',\n",
              " 'gak',\n",
              " 'gak nyaman',\n",
              " 'sejauh membantu pekerjaan membutuhkan media sosial salah satu semakin baik semakin fitur baru',\n",
              " 'very good',\n",
              " 'ringan mudah digunakan',\n",
              " 'very good',\n",
              " 'very good',\n",
              " 'mudah mencari teman',\n",
              " 'usefull for update information',\n",
              " 'bagus',\n",
              " 'just change logo back',\n",
              " 'favorit',\n",
              " 'medsos kayaknya kurang lengkap kalu',\n",
              " 'serruu verry good',\n",
              " 'terbaik gampang dipergunakan dpat menemukan teman',\n",
              " 'bagus tau trend',\n",
              " 'please bring back to how it used to be',\n",
              " 'aplnya bagus tentunya',\n",
              " 'bagus',\n",
              " 'good',\n",
              " 'good',\n",
              " 'baik puas verry good',\n",
              " 'mantap',\n",
              " 'good',\n",
              " 'baru akun langsung tangguhkan emang ni lama twiter',\n",
              " 'x sekian kalinya membuat orang kecewatidak harapkan lagiingin membuat akun baru sulit telepon ku daftarkan benar benci orang menciptakan elon musksetelah lihat keluhan macam muncul',\n",
              " 'kangen',\n",
              " 'your mom',\n",
              " 'terlalu peraturan',\n",
              " 'suka twiter update',\n",
              " 'huu jelek bener burung gendut diganti tp tetap twitteran',\n",
              " 'cocok',\n",
              " 'semenjak pegang elon buruk',\n",
              " 'good',\n",
              " 'elon mending mundur balik tempat lu platform rusak semenjak pegang lu',\n",
              " 'semenjak pindahnya tangan elon smua jd aneh tdk masuk akal',\n",
              " '',\n",
              " 'just why elon',\n",
              " 'login susah knol',\n",
              " 'gabisa akun',\n",
              " 'logonya jelek',\n",
              " 'orang aneh udahlah limit ni dah ubah logo nama kek tau gak perjuangan orang awal lu seenaknya aje datang ngubah kek babwi emang ko elon',\n",
              " 'elon jelek',\n",
              " 'verry good pertahankan kinerja aplksi ny yah',\n",
              " 'kurang nyaman pindah tangan',\n",
              " 'elon becus',\n",
              " 'gabisa login',\n",
              " 'update bukan bagus eror huh',\n",
              " 'tweet foto menjadi blur pemutaran video tersendat jaringan lancar harap elon mengubah logo burung mengutak atik menurunkan peminat',\n",
              " 'semua keluhan dirangkum kata jelek',\n",
              " 'anjay elon musk',\n",
              " 'kembalikan duluuuu',\n",
              " 'daftar masa memasukan nomer tulisannya maaf didaftarkan maksutnya',\n",
              " 'gabisa login',\n",
              " 'logonya jelek balikin burung gendut plis',\n",
              " 'why this app cant get a better management',\n",
              " 'xpresion',\n",
              " 'kangen twt dlu',\n",
              " 'baca au susah',\n",
              " 'cari disini',\n",
              " 'update jelek bngt ga gunanya pdhl kn madia sosial bayar suka banding jelek bngt',\n",
              " 'jelek',\n",
              " 'fitur baru sayangnya fitur kurang menarik',\n",
              " 'klo membaik tambahin bintangnya',\n",
              " 'semenjak elon musk megang jd gajelas',\n",
              " 'hadeh',\n",
              " 'jangan make ponsel masa masukin gunakan aneh aneh aneh',\n",
              " 'ga sebaik duluuu sini aneh',\n",
              " 'elon',\n",
              " 'jangan ganti logo donggg',\n",
              " 'makasi minbanya bokebnya awikwok',\n",
              " 'p bs gnti burung biru lg icon minkurang bgus masa item x doang',\n",
              " 'rese',\n",
              " 'oke',\n",
              " 'rebranding image hingga kebijakan kebijakan baru terasa kurang nyaman rasa lama baik',\n",
              " 'this whole rebranding is a stupid move',\n",
              " 'selamat tinggal blue bird x apantu gajelas',\n",
              " 'pegang elon rusak dah',\n",
              " 'mending rate bagus facebook ig lucu gini',\n",
              " 'perbaiki developer update menambahkan nomer telpon email baru klik keluar tulisan kesalahan teknis',\n",
              " 'semenjak beli elon twt rungkad',\n",
              " 'dah kurang mantap',\n",
              " 'jelek ah semuanya mesti bayar',\n",
              " 'update makinn anehhhh',\n",
              " 'keep it up thanks team x',\n",
              " 'elon musk memegang kendali app sampah',\n",
              " 'buruk logo jelek pemutaran video error masalah diupdate kembalikan semula lama ditinggalkan penggunanya',\n",
              " 'menyenangkan menggunakan',\n",
              " 'gue update kalau update gue login gue tahu kedepannya kayak bagus buruk ges',\n",
              " 'keren',\n",
              " 'sampah',\n",
              " 'jelek lo elon bayar fitur hilangin logo dah ganti',\n",
              " 'beda pemilik beda kenyamanan pengguna ternyata',\n",
              " 'bacotjd jlek skrg',\n",
              " 'kesini down grade akun pernah ditangguhkan gak pernah update macemmacem akun updatean gak senonoh dibiarkan penggantian logo jauh ciri khas notabene logonya burung biru ngerubah segala',\n",
              " 'ga anjir balikin fitur elon lu ga asli',\n",
              " 'bagusan logo burung biru om elonlogo x hitam kelihatan anehtidak family friendly',\n",
              " 'login update kata sandi salah pilih lupa kata sandi ganti baru masuk dibilang suspicious payah',\n",
              " 'perubahan membuat pengguna menjadi keluh kesah dg twiitter',\n",
              " 'akun aktif anggap bot tangguhkan',\n",
              " 'ra guno',\n",
              " 'masa daftar gak ngirim kode verifikasi lewat hpapa pulsanya abis tulisan jaringan stabil wifi loh',\n",
              " 'semua utak atik bagus namanya eh diganti x namanya diganti x kek apaan anjr ga trs ak translate gabisa sllu tulisan gagal menerjemahkan tweet jadinya repot hrs bolak balik google translate',\n",
              " 'g',\n",
              " 'jelek x',\n",
              " 'pengen liat mark vs elon ring titik',\n",
              " 'please elon bt jangan lo rubah namanya x lo ganti logonya adek gue cowok ngiranya x exekexek sampe lo rubah nama x ntah btw identik burung biru nan lucu meskipun gue kesel gak bs gue ancam lo gak main twitteraduh sedih dah rakjel',\n",
              " 'aneh sejak elon musk ceo',\n",
              " 'give my bird back',\n",
              " 'ko logo ngga berubah x',\n",
              " 'bagus kurang suka',\n",
              " 'waaw',\n",
              " 'huuu elon huuuu',\n",
              " 'ganti logoooo kembalikan logonya burung',\n",
              " 'namanya ganti x kurang nyaman sebut aneh jadinya mohon kembalikan semula ajahh',\n",
              " 'kembalikan lagiii please',\n",
              " 'kelon mas',\n",
              " 'ikon jlk buset',\n",
              " 'buka akun akun terkunci dibuka membutuhkan',\n",
              " 'pokoknya satu',\n",
              " 'diubah ikon aplikasinya burungnya ikonic',\n",
              " 'logo baru jelek bet anyinggg',\n",
              " 'kurang suka waktu updatemasa logo x sii',\n",
              " 'updete mulai kacau nih',\n",
              " 'rawrr',\n",
              " 'semoga menyenangkan pengguna',\n",
              " 'baru ditangguhkananeh',\n",
              " 'mantap',\n",
              " 'uninstall\\u200d',\n",
              " 'kesini jelek',\n",
              " 'elon is kanyut',\n",
              " 'mark zuckerberg',\n",
              " 'bagus',\n",
              " 'melakukan pelanggaran akun disuspend',\n",
              " 'paan berbayar gini katanya elon musk uda kaya tah ko berbayar bodoh',\n",
              " 'mas elon fetish huruf x yaudaaah',\n",
              " 'gajelas dah',\n",
              " 'uninstall',\n",
              " 'this is elon musk he was a co founder and ceo',\n",
              " 'bagus info uploud',\n",
              " 'elon ajg',\n",
              " 'bgus logo twiter ganti ama elon musk jelek deh',\n",
              " 'menarik durasi vidio panjang',\n",
              " 'melon melon hadeh',\n",
              " 'aneh pasca berubah x',\n",
              " 'ora urus koen seng penteng iso bacot asu bosen nang omah ae',\n",
              " 'gambar vulgar diizinkan mengganggu berselancar',\n",
              " 'bagusan',\n",
              " 'terlalu menarik perbaiki yaa',\n",
              " 'pindah tangan jelek gila uang lu',\n",
              " 'blog',\n",
              " 'mantap meski beberapa kendala kecil trimakasih memberi layanan sejauh baik penting komunikasi informasi lancar sebesar sebagus sulit',\n",
              " 'good bye bird',\n",
              " 'jelek anjir grgr dipegang sm melon',\n",
              " 'terjadi bug perbaiki ngelag sedang scroll kadang halaman awal kadang melihat gambar video diputar',\n",
              " 'update bagus',\n",
              " 'gajelas skrg twt dipegang elonnnn gajelas lu',\n",
              " 'bayar',\n",
              " 'paling regristrasi gagal pebisnis cocok developer developer cocok pebisnis',\n",
              " 'good',\n",
              " 'perlu diperbaiki',\n",
              " 'mantap',\n",
              " 'pengaruh pindahnya baiknya investor dogecoin crypto thanks elon musk',\n",
              " 'bgs',\n",
              " 'bug everywhere',\n",
              " 'yok yok balikin kek lg aneh bgttt woi terbiasa dlu dlu menarik',\n",
              " 'hey elon musk bukan tak mungkin orangorang berpindah threads',\n",
              " 'punya terserah diapain',\n",
              " 'kurang menarik',\n",
              " 'males ah logonya x asing',\n",
              " 'semenjak berganti developer pembaharuan membuat pengguna nyaman bahkan bersifat merugikan',\n",
              " 'whatsup',\n",
              " 'is much better now hope get bounty',\n",
              " 'sorry kurang baguss semenjak update',\n",
              " 'uuu jelek',\n",
              " 'habis perbarui mutar vidio',\n",
              " 'sini jelek',\n",
              " 'rebranding jelek',\n",
              " 'punya ga ramah',\n",
              " 'good',\n",
              " 'x',\n",
              " 'kecewa twiter semudah akun tangguh kan',\n",
              " 'log in gak email sm bener aneh jaringan bermasalah buka ytb lancar',\n",
              " 'gjls asuu suspend pdhl gak buka bokep',\n",
              " 'puji tuhan',\n",
              " 'akun tiba tiba tangguhkan jelek beud twiter',\n",
              " 'elon tolol gak seru',\n",
              " 'mengecewakan',\n",
              " 'gak semenjak melon megang nih preet kapitalis server bosok',\n",
              " 'gak suka rasanya pen hapus aturan ganti logomana jelek',\n",
              " 'mampus',\n",
              " 'give me old tweeter lets move to threads side',\n",
              " 'kesini kesana',\n",
              " 'akun suspended sepihak tau alasanya ajukan banding balas via email akun memang suspended pwrmanen hadeh why mas elon why',\n",
              " 'seru orang berantem',\n",
              " 'gagal semua daftar baru',\n",
              " 'bagus jangan disuspen mulu fyp',\n",
              " 'lu kudu pergi elon',\n",
              " 'skrg gajelas dgn updatean ga gapenting kembalikan lama',\n",
              " 'baik',\n",
              " 'just not like it used to',\n",
              " 'bring back old dont like name x iwhhh disgusting',\n",
              " 'jdi x anjirr',\n",
              " 'bad change icon like blue bird',\n",
              " 'ga tau pingin b',\n",
              " 'wow',\n",
              " 'terlalu kapitalis kembalikan',\n",
              " 'lambang burung diganti lambang x',\n",
              " 'perubahan buruk',\n",
              " 'akun berkalikali ditangguhkan update profil posting retweet koment like jelek',\n",
              " 'good',\n",
              " 'elon ga',\n",
              " 'update an jelek logo terbarunya kayak logo situs bokep',\n",
              " 'ga kaya bang elon samain plus minjem cepe bang',\n",
              " 'busuk',\n",
              " 'kurang bagus',\n",
              " 'logo rubah x ribet login akun lama susah baru susah bangsrattt',\n",
              " 'elon kntwol',\n",
              " 'top markotoplah kalau dri anak bibik pamansepupu dri nenek tetangganya suami temanta tema tetangga ku',\n",
              " 'video error mulu',\n",
              " 'ga suka',\n",
              " 'jeleksoalnya kalau dm wajib berlangganan blue',\n",
              " 'omaikyut membantu ak giat menghalu krn baca alternatif universe',\n",
              " 'aplikasinya oke elon ngeselin',\n",
              " 'beda',\n",
              " 'sejak dipegang elon t kacau ga bukannya upgrade downgrade\\u200d\\u200d\\u200d',\n",
              " 'gak akun ku gak pelanggaran tangguhkan',\n",
              " 'enakan versi',\n",
              " 'ah gaje dikit bayar',\n",
              " 'sukaaa nyaa fitur lengkapmungkin beberapa bug perbaiki',\n",
              " 'mulai',\n",
              " 'good',\n",
              " 'tbh dont like new logo bring my cute blue bird back to me its really annoying',\n",
              " 'jelek',\n",
              " 'suspend teroossss',\n",
              " 'bagus',\n",
              " 'its nothing personal but idk why when he rich people in world buy this app its not make any good to this app but this app becoming worst and worst',\n",
              " 'elon elon ck ck ck',\n",
              " 'aneh',\n",
              " 'alasan akun tangguhkan',\n",
              " 'baik bagus',\n",
              " 'bagusan sebelah',\n",
              " 'pendaftaran pekei email kimrim kodenya lama',\n",
              " 'bang eloon kembaliin dong burung',\n",
              " 'alright say goodbye for',\n",
              " 'tolol',\n",
              " 'kecewa',\n",
              " 'salah satu terbaik kelasnya aliran berita pembaruan langsung berbagai topik tetap terhubung informasi terbaru seluruh dunia interaksi pengguna lainnya menjadi mudah berkat fitur like retweet reply antarmuka sederhana mudah dinavigasi membuatnya nyaman digunakan menyukai pengalaman merekomendasikannya siapa',\n",
              " 'logo baru jelek',\n",
              " 'twetter jd x bgni',\n",
              " 'sesukanya akun gue g napa g tiba tangguhkan',\n",
              " 'top',\n",
              " 'balikin kaya ga',\n",
              " 'cape ama om melon',\n",
              " 'masuk hdehhh',\n",
              " 'sini sana dasar elon musk',\n",
              " 'perubahan nyaman pengguna',\n",
              " 'komen',\n",
              " 'tadi ku ksih rate skrng ku ksih krna ga ga prnah nge tweet anehkalimat biasa klo nge tweet dri smpe aman ajaeh kmren buka akun twtter ku tiba suspendkek salah anjir ga bnget',\n",
              " 'suka logo lama jaringan ngelagngebug load lama',\n",
              " 'elon dirimu tega',\n",
              " 'full of sjw',\n",
              " 'ko gini',\n",
              " 'bagus terimakasih',\n",
              " 'twt aneh',\n",
              " 'bagus tp elon kaya eek',\n",
              " 'gak lama tutup nih platform kalau kebanyakan acara',\n",
              " 'apalah elon',\n",
              " 'hi x',\n",
              " 'peraturan semenjak dipegang lon',\n",
              " 'burukk',\n",
              " 'gaenak suka lemot wifi full lancar buka twit lemot',\n",
              " 'cupu susah login',\n",
              " 'bring back',\n",
              " 'logonya jelek',\n",
              " 'pegang elon musk jelek nih app',\n",
              " 'logonya jelek',\n",
              " 'harusnya katanya kayaaaaa dah kenangan dr jaman elon masuk diacakacak jelek',\n",
              " 'update jelek',\n",
              " 'masukkan merepotkan',\n",
              " 'seru',\n",
              " '',\n",
              " 'ntaps',\n",
              " 'login akun lama maupun akun baru',\n",
              " 'x x gila becanda lu elon burung iconic lu ganti x kecewa beratt',\n",
              " 'memuaskan',\n",
              " 'bukannya ikutikutan emang benerbener kecewa jauh jauh ekspektasi pertama kali denger saham diboyong elon musk corp',\n",
              " 'jelek',\n",
              " 'update x jelek terutama fitur nonton videonya kebanyakan ngelag susah muternya kecewa hahaha',\n",
              " 'akun baru',\n",
              " 'am',\n",
              " 'semenjak update masalah kali terkenal limit dm baru beberapa mengirim pesan',\n",
              " 'buruk betul pengembangan si elon',\n",
              " 'x',\n",
              " 'stand with elon but love more instagram p',\n",
              " 'goodbye',\n",
              " 'aneh sulit memutar video menggunakan jaringan wifi diputar data internet',\n",
              " 'logo jelek bagusan',\n",
              " '',\n",
              " 'jd beda gska elon terlalu maksain bngt ibarat lu punya duit lu punya kuasa iwww max read jg logo burung menjadi ciri khas diganti x apaan x xilytol emangnya dah bye mas elon ubah orang orang kecewa lu elon eh iya lu rating eumm transfer m cukup ywdh bye',\n",
              " 'aneh',\n",
              " 'x ga',\n",
              " 'tolonglah jangan ubah gara si elon dah macam ni',\n",
              " 'telon',\n",
              " 'cuiiihhh',\n",
              " 'minusnya akuisisi mang elon',\n",
              " 'uninstallvery bad this is x app not twitterbird',\n",
              " 'lu punya lu punya kuasa',\n",
              " 'elonte musk tolol',\n",
              " 'ga bug',\n",
              " 'sejak pindah pengembang tak semenarik',\n",
              " 'bagus',\n",
              " 'elon payah',\n",
              " 'elon musk kontoool',\n",
              " 'my error',\n",
              " 'rip burung biru',\n",
              " 'woy elon balikin logo woy jelek anjirrr kek logo bkp anying',\n",
              " 'bodoh',\n",
              " 'internet lemot trus berbayar tampilan berubah ga menarik cape',\n",
              " 'good',\n",
              " 'jd asik',\n",
              " 'duel ring jagoan kang musk mas mark',\n",
              " 'sampah',\n",
              " 'huaee picahh',\n",
              " 'download cuma follow bmkg doang',\n",
              " 'bagusan burung biru iconic',\n",
              " 'ngapain ubah logo legend',\n",
              " 'gaje ni telek',\n",
              " 'mantap kembangkan',\n",
              " 'sibuk',\n",
              " 'lama kelamaan gaseru',\n",
              " 'please dont change logos',\n",
              " 'kecewa updatean terbaru bukannya semakin bagus membuat load vidio foto lama jaringan bagus',\n",
              " 'jelek',\n",
              " 'jlk',\n",
              " 'ga down ihhdan fitur berbayar',\n",
              " 'ksih dllu blum nyoba',\n",
              " 'like kegiatan pak presiden langsung akun ditangguhkan',\n",
              " 'rindu cerita hati bersama membantu segala berkomunikasi tetap eksis sejalan perkembangan dunia',\n",
              " 'peh',\n",
              " 'update mantap',\n",
              " 'bagusan logo lama',\n",
              " 'jelek',\n",
              " 'jelek logo x nyajadi muales iklan',\n",
              " 'booo',\n",
              " 'x',\n",
              " 'bye lets get threads',\n",
              " 'bagus kanao diganti si aneh',\n",
              " 'mengembalikan akun susah lupa username password memasukkan username lupa',\n",
              " 'kembalikan buruuung dluu woee',\n",
              " 'maaf berubah berharap semula',\n",
              " 'elon youre so weird when was replaced with x',\n",
              " 'stupid gua ditangguhkan ga ngapain limit tweet lama gubluk developernya njir',\n",
              " 'kecewa',\n",
              " 'logo jelek kek jamet',\n",
              " 'komen cape',\n",
              " 'ni knp diubah menjadi x seru njirr lihatnya',\n",
              " 'entah karuan akun tangguhkan alasan',\n",
              " 'menurun',\n",
              " 'back to home',\n",
              " 'sharing pengalaman seruu yaa disini',\n",
              " 'mantep dapet duit twiter',\n",
              " 'logo burik cct',\n",
              " 'ga burung kutilang jadinya ilang tanda x au maknanya kaga sangkut pautnya perasaan ama nama',\n",
              " 'aneh update ntar kalau masalah menggunakan balik bagus kemarin x gini',\n",
              " 'enak fersi',\n",
              " 'pegang bang elon rada gimana gitu',\n",
              " 'jelek',\n",
              " 'susah upload video gagal ntah masalahnya upload ig bentar doang selesai hmmm',\n",
              " 'elon anj',\n",
              " 'parah parahparah bayar kirim direct massage',\n",
              " 'kaget ganti logo x hitam kirain kena hack ngga nyaman logo x kangen si burung putih biru mungil',\n",
              " 'kangen icon lama',\n",
              " 'kesalahan memutar jaringan lancar kouta banyakk buang buang waktu nunggu ny jauh nge scroll suruh login ulang',\n",
              " 'lama pensi twiter install ribet stengah mati beda kaya poko',\n",
              " 'semenjak update masalah pls balikin kaya limit kesel gue',\n",
              " 'its getting worst',\n",
              " 'baik',\n",
              " 'seminggu gak buka akunpas buka barusan akun langsung tangguhkan permanen',\n",
              " 'gak',\n",
              " 'bagus',\n",
              " 'gak semenjak pegang si elon',\n",
              " 'akun tiba tiba ditangguhkan',\n",
              " 'logo jelek gasuka om elon benerin dong',\n",
              " 'mas elon logo twitternya balikin masa cuma x',\n",
              " '',\n",
              " 'duit mulu jing',\n",
              " 'lama jdi tolol',\n",
              " 'yooooo thatsss fire elon x',\n",
              " 'nyesel update logonya jelekkk',\n",
              " 'w h waduh waduuuh waduuuuh waduuuuuh waduuuuuuuuh hadeh',\n",
              " 'membantu imformasi terbaru',\n",
              " 'nice nice',\n",
              " 'not bad',\n",
              " 'skip',\n",
              " 'jelek elon boooooooooooo',\n",
              " 'jelek logo berubah x',\n",
              " 'fitur tambah parah ga keberatan suruh bayar blue gunanya',\n",
              " 'update terbarunya memuaskan melihat video langsung putar videonya ngelag aplikasinya saran perbaiki fungsi fungsi',\n",
              " 'bagus',\n",
              " 'goodbye logo burung biru ikonik belasan tahun',\n",
              " 'bener logo huruf x background hitam jadinya terlihat aneh bingung resmi dimasuki unsur berbahaya mohon pencerahannya suhu',\n",
              " '',\n",
              " 'logonya ganti',\n",
              " 'please return old logo because old logo is already good please return old logo',\n",
              " 'login susah',\n",
              " 'usah',\n",
              " 'terbaik',\n",
              " 'bring back blue bird',\n",
              " 'update logo berubah logo x pribadi logo memiliki ketertarikan pengguna setia logo blue bird mohon kembalikan logo lama',\n",
              " 'mkin kesini mkin kacau hampir minggu gue ga pencarian',\n",
              " 'susah log in bro gimana mah',\n",
              " 'kembalikan',\n",
              " 'krn logonya ganti sy ksh satu',\n",
              " 'elon musk has to go to indonesia to discuss this world',\n",
              " 'hhhanyingggg',\n",
              " 'berubah',\n",
              " 'rip',\n",
              " 'balikin logo tweet',\n",
              " 'not ate',\n",
              " 'x akunku tangguhkan pernah posting negatif',\n",
              " 'gabisa ganti username',\n",
              " 'x tampilan',\n",
              " 'dont like twitterx now',\n",
              " 'hate elon',\n",
              " 'semenjak dibeli bang elon gak nyaman mulai kebijakan batas limit',\n",
              " 'still too much bug and think we need mute option so we can choose people who followed us to not seeing my tweetpost',\n",
              " 'suka',\n",
              " '',\n",
              " 'elon babik',\n",
              " 'logonya jelek x',\n",
              " 'plss bnyk bnget kebijakan ramah user balikin pemilik asal',\n",
              " 'isinya bokep doang',\n",
              " 'suka',\n",
              " 'ga masuk daftarkan',\n",
              " 'mantap',\n",
              " 'ganti logo lama dong bagus lama',\n",
              " 'pak elon asik jangan ditemenin guys',\n",
              " 'jlek hampir semua berbayar pdahal main twet mnt ban akunnya kyak berbayar good bye burung kecil',\n",
              " 'dasar si emon logo bagus diganti',\n",
              " 'eror',\n",
              " 'l for loser l for elon beli elin kacau tau ga',\n",
              " 'puqi lo elon musk',\n",
              " 'taiii',\n",
              " 'x',\n",
              " 'elon ga beres ga seseru',\n",
              " 'gjels',\n",
              " 'terlalu perubahan aneh semenjak diambil alih elon menyebalkan',\n",
              " '',\n",
              " 'hapus ah jelek app sjw',\n",
              " 'suka',\n",
              " 'akun tiba tiba ditangguhkan pernah posting berbau spam pornografi akun baru ribet minta ampun kesalahan teknis',\n",
              " 'segi fitur nyaman sebelumnya',\n",
              " 'jangan x',\n",
              " 'nangis gaya logo ganti',\n",
              " 'd update sihhh lucu lgi jdi ny',\n",
              " 'good bye semenjak berganti logo x resmi uninstall',\n",
              " 'jelek',\n",
              " 'burik daftar beli kartu baru',\n",
              " 'ampas',\n",
              " 'beda daftar biasanya daftar errormulu dong devoloper',\n",
              " 'begitulah',\n",
              " 'ampas fitur baru berguna',\n",
              " 'kembalikan logo',\n",
              " 'logo xtpi namanya',\n",
              " 'jelek',\n",
              " '',\n",
              " 'semenjak pindah pengembang menjadi berbayar',\n",
              " 'kebijakan baru mas elon musk membeli masa melihat tweet batasi',\n",
              " 'drama developer nyet',\n",
              " 'nice',\n",
              " 'elon blokkkk',\n",
              " 'good',\n",
              " 'pakai semenjak suka waktu jack pemilik ganti pemilik elon musk jelek kecewa berat',\n",
              " 'dong balikin logo biasa masak serasa apl prno gituuu dong ubah lagiiiiiii logo kyk biasa lagiiii',\n",
              " 'x or xxx lucu',\n",
              " 'busuk',\n",
              " 'ga sebagus',\n",
              " 'protes jelek logo where is my favorite blue bird logo benci update an twitternya gak suka logo x jelek kembalikan kesayangan diubahubah menjadi jelek begini',\n",
              " 'elon',\n",
              " 'bad',\n",
              " 'ga masukin telepon bener nomer tolak rusak',\n",
              " 'isinya orang gila semua',\n",
              " 'tolol masukin telpon w bego lu',\n",
              " 'jelek grgr elon',\n",
              " 'bad app',\n",
              " 'gajelas semenjak dipegang elon',\n",
              " 'yth bapak elon plis gweh rakyat jelata merasa terbebani vitur twit blue alias ga kirimin gwe duit segepok beli twit blue gwe cuma nyaman malas kena limit anjir mksh',\n",
              " 'hapus akun akun bersifat politik menggangu blokir',\n",
              " 'mannnntap',\n",
              " 'logonya ganti',\n",
              " 'just going along',\n",
              " 'gak login',\n",
              " 'bagus nicebowleh',\n",
              " 'kembalikan logo menjadi burung gagal respect elon musk',\n",
              " 'lolo',\n",
              " 'pen login error',\n",
              " 'dikasih duit baru',\n",
              " 'terupdate wkwk penggunanya dah gitu notif lancarrr jaya',\n",
              " 'jd jelek gara elonelon',\n",
              " '',\n",
              " 'jele',\n",
              " 'paling benci klo error ku login game',\n",
              " 'too troublesome due to having to pay for a few things',\n",
              " 'bukan',\n",
              " 'bagusan',\n",
              " 'elon jelek wkwk',\n",
              " 'bros switched to x',\n",
              " '',\n",
              " 'ganti logo iconic logo burung putih background biru bukan logo x background hitam ubah semula',\n",
              " 'logo burung biru jangan diganti anj',\n",
              " 'logo bruny jlek',\n",
              " 'kecewa berat',\n",
              " 'tambah gajelas nih error sumpahh',\n",
              " 'lets go elon',\n",
              " 'aneh gabisa verifikasi telpon',\n",
              " 'lambang tiba berubah menjadi x',\n",
              " 'elon taiii',\n",
              " 'ribet cuy bagus burung biru knp diganti x segala',\n",
              " 'noooo developer please jangan ganti logonyaaaaaa bagus kembalikan logo duluuuu huhu',\n",
              " 'bagus menarik',\n",
              " 'gausah diganti ganti ga',\n",
              " 'jelek bener heran yok elon yok gausah ubah ubah',\n",
              " '',\n",
              " 'hilih',\n",
              " 'jelek tangguhkan',\n",
              " 'semenjak diakuisisi xcorp aneh',\n",
              " 'akun ditanggung ngelike konten melanggar pedoman komunitas cuman menyukai akun ditangguhkan banned akun posting negatif like bukan akun',\n",
              " 'gak daftar anj',\n",
              " 'benerin oy kesel tiap update batesin gak pindah threads kayak gini buwat',\n",
              " 'gamau lambang x maunya tetep gambar burung',\n",
              " 'nice experienc',\n",
              " 'sumpah apasih ngapain post tiba tiba akun ditangguhkan akun baru sebulan ditangguhkan keren thollol',\n",
              " 'diambil alih elon musk bukannya tambah bagus tambah hancur',\n",
              " 'ga ngelakuin aneh tiba tangguhkan tolol',\n",
              " 'gabakal ku update jelek logonyaa',\n",
              " 'aussi amusant quavant',\n",
              " '',\n",
              " 'gj',\n",
              " 'rusak asal ban akun orang akun diban semua',\n",
              " 'bagus',\n",
              " 'susah kot',\n",
              " 'semakin update semakin ga dasar elon mask hadrhh alay',\n",
              " 'stres lu elon gabikin baru ngacak ngacak twt',\n",
              " 'asik kayak',\n",
              " 'semenjak update mengganti profil',\n",
              " 'bye burung gembrot',\n",
              " 'semenjak ganti pemilik twtsemua isinya berubah semua',\n",
              " 'netral',\n",
              " 'ga pernah gue apdet',\n",
              " 'elon asw usn twit gue ga ganti',\n",
              " 'terlalu pembatasan semua fitur berbayar',\n",
              " 'knp jd jelek',\n",
              " 'pengembang membawa kemunduran',\n",
              " 'jelek semenjak dipegang elon',\n",
              " ...]"
            ]
          },
          "metadata": {},
          "execution_count": 37
        }
      ]
    },
    {
      "cell_type": "code",
      "source": [
        "df_cleaned.shape"
      ],
      "metadata": {
        "colab": {
          "base_uri": "https://localhost:8080/"
        },
        "id": "bSkBTwskEhgG",
        "outputId": "cf82b6f2-9f78-4350-b454-334e9110a2d7"
      },
      "execution_count": 38,
      "outputs": [
        {
          "output_type": "execute_result",
          "data": {
            "text/plain": [
              "(100000, 4)"
            ]
          },
          "metadata": {},
          "execution_count": 38
        }
      ]
    },
    {
      "cell_type": "code",
      "source": [
        "df_cleaned.to_csv('twitter_reviews_cleaned.csv', index=False, encoding=\"\", na_rep=\"\")"
      ],
      "metadata": {
        "id": "DED-j7UDI1S_"
      },
      "execution_count": 39,
      "outputs": []
    },
    {
      "cell_type": "markdown",
      "source": [
        "## Data Splitting"
      ],
      "metadata": {
        "id": "1tRr-dIF4I5F"
      }
    },
    {
      "cell_type": "code",
      "source": [
        "df_model = pd.read_csv(\"twitter_reviews_cleaned.csv\")"
      ],
      "metadata": {
        "id": "JlcMMJsqRD__"
      },
      "execution_count": 37,
      "outputs": []
    },
    {
      "cell_type": "code",
      "source": [
        "df_model = df_model.dropna()"
      ],
      "metadata": {
        "id": "_gxV5RqKTw38"
      },
      "execution_count": 38,
      "outputs": []
    },
    {
      "cell_type": "code",
      "source": [
        "df_model = df_model.drop(['content','score'],axis=1)"
      ],
      "metadata": {
        "id": "_OZqczsRNivM"
      },
      "execution_count": 39,
      "outputs": []
    },
    {
      "cell_type": "code",
      "source": [
        "df_model = df_model.rename(columns={'content_cleaned':'text'})"
      ],
      "metadata": {
        "id": "tRSzXNsCNoGg"
      },
      "execution_count": 40,
      "outputs": []
    },
    {
      "cell_type": "code",
      "source": [
        "df_model = df_model.reindex(columns=['text','sentiment'])"
      ],
      "metadata": {
        "id": "oGXlhrx9OWwv"
      },
      "execution_count": 41,
      "outputs": []
    },
    {
      "cell_type": "code",
      "source": [
        "from sklearn.model_selection import train_test_split\n",
        "\n",
        "df_trainVal, df_test = train_test_split(df_model, shuffle=True, test_size=0.2)"
      ],
      "metadata": {
        "id": "2koD9idjJXk1"
      },
      "execution_count": 42,
      "outputs": []
    },
    {
      "cell_type": "code",
      "source": [
        "df_trainVal.shape"
      ],
      "metadata": {
        "colab": {
          "base_uri": "https://localhost:8080/"
        },
        "id": "pnwZcaqxJnlX",
        "outputId": "4fccc627-579f-4d10-9acf-8754b6d6aa7f"
      },
      "execution_count": 43,
      "outputs": [
        {
          "output_type": "execute_result",
          "data": {
            "text/plain": [
              "(74316, 2)"
            ]
          },
          "metadata": {},
          "execution_count": 43
        }
      ]
    },
    {
      "cell_type": "code",
      "source": [
        "df_test.shape"
      ],
      "metadata": {
        "colab": {
          "base_uri": "https://localhost:8080/"
        },
        "id": "Ovd7EufRJp5U",
        "outputId": "7b901dff-8dc7-46f7-930b-7245fb523ec0"
      },
      "execution_count": 44,
      "outputs": [
        {
          "output_type": "execute_result",
          "data": {
            "text/plain": [
              "(18580, 2)"
            ]
          },
          "metadata": {},
          "execution_count": 44
        }
      ]
    },
    {
      "cell_type": "code",
      "source": [
        "df_train, df_val = train_test_split(df_trainVal, shuffle=True, test_size=0.3)"
      ],
      "metadata": {
        "id": "-fUe4bcALS4M"
      },
      "execution_count": 45,
      "outputs": []
    },
    {
      "cell_type": "code",
      "source": [
        "df_train.shape"
      ],
      "metadata": {
        "colab": {
          "base_uri": "https://localhost:8080/"
        },
        "id": "c-a3gpMXLWhG",
        "outputId": "79038763-007f-4a81-88ef-785da5dca209"
      },
      "execution_count": 46,
      "outputs": [
        {
          "output_type": "execute_result",
          "data": {
            "text/plain": [
              "(52021, 2)"
            ]
          },
          "metadata": {},
          "execution_count": 46
        }
      ]
    },
    {
      "cell_type": "code",
      "source": [
        "df_val.shape"
      ],
      "metadata": {
        "colab": {
          "base_uri": "https://localhost:8080/"
        },
        "id": "5pFzm-lELYcZ",
        "outputId": "93c81356-a693-4ee5-cc63-cb0f19a4ed75"
      },
      "execution_count": 47,
      "outputs": [
        {
          "output_type": "execute_result",
          "data": {
            "text/plain": [
              "(22295, 2)"
            ]
          },
          "metadata": {},
          "execution_count": 47
        }
      ]
    },
    {
      "cell_type": "code",
      "source": [
        "df_train.to_csv(\"train.tsv\", sep=\"\\t\", index=False, header=None)\n",
        "df_val.to_csv(\"eval.tsv\", sep=\"\\t\", index=False, header=None)\n",
        "df_test.to_csv(\"test.tsv\", sep=\"\\t\", index=False, header=None)"
      ],
      "metadata": {
        "id": "oR-yNAFhJsrO"
      },
      "execution_count": 48,
      "outputs": []
    },
    {
      "cell_type": "markdown",
      "source": [
        "# Exploratory Data Analysis"
      ],
      "metadata": {
        "id": "cYam9Jj_KAz_"
      }
    },
    {
      "cell_type": "code",
      "source": [
        "import seaborn as sns"
      ],
      "metadata": {
        "id": "_-jGcqYJMjzN"
      },
      "execution_count": 50,
      "outputs": []
    },
    {
      "cell_type": "code",
      "source": [
        "df_explored = pd.read_csv('twitter_reviews_cleaned.csv')"
      ],
      "metadata": {
        "id": "hNz1TfUpANY3"
      },
      "execution_count": 51,
      "outputs": []
    },
    {
      "cell_type": "code",
      "source": [
        "df_explored.info()"
      ],
      "metadata": {
        "colab": {
          "base_uri": "https://localhost:8080/"
        },
        "id": "Wh744AivApwV",
        "outputId": "56fe5faf-eadc-42f3-b45d-0cde9beefdd8"
      },
      "execution_count": 52,
      "outputs": [
        {
          "output_type": "stream",
          "name": "stdout",
          "text": [
            "<class 'pandas.core.frame.DataFrame'>\n",
            "RangeIndex: 100000 entries, 0 to 99999\n",
            "Data columns (total 4 columns):\n",
            " #   Column           Non-Null Count   Dtype \n",
            "---  ------           --------------   ----- \n",
            " 0   content          100000 non-null  object\n",
            " 1   score            100000 non-null  int64 \n",
            " 2   sentiment        100000 non-null  object\n",
            " 3   content_cleaned  92896 non-null   object\n",
            "dtypes: int64(1), object(3)\n",
            "memory usage: 3.1+ MB\n"
          ]
        }
      ]
    },
    {
      "cell_type": "code",
      "source": [
        "df_explored['content_cleaned'].isna().value_counts()"
      ],
      "metadata": {
        "colab": {
          "base_uri": "https://localhost:8080/"
        },
        "outputId": "82d12b0f-11e5-455b-f47f-5908fb61de20",
        "id": "MLXCFLtMJ0QF"
      },
      "execution_count": 53,
      "outputs": [
        {
          "output_type": "execute_result",
          "data": {
            "text/plain": [
              "False    92896\n",
              "True      7104\n",
              "Name: content_cleaned, dtype: int64"
            ]
          },
          "metadata": {},
          "execution_count": 53
        }
      ]
    },
    {
      "cell_type": "code",
      "source": [
        "df_explored = df_explored.dropna()"
      ],
      "metadata": {
        "id": "wTLgqIo5J0QE"
      },
      "execution_count": 54,
      "outputs": []
    },
    {
      "cell_type": "code",
      "source": [
        "df_explored['content_cleaned'].isna().value_counts()"
      ],
      "metadata": {
        "colab": {
          "base_uri": "https://localhost:8080/"
        },
        "id": "tv77qYBsJ6-D",
        "outputId": "31fecd6f-a5af-40c1-c94d-3ac70f71ab4c"
      },
      "execution_count": 55,
      "outputs": [
        {
          "output_type": "execute_result",
          "data": {
            "text/plain": [
              "False    92896\n",
              "Name: content_cleaned, dtype: int64"
            ]
          },
          "metadata": {},
          "execution_count": 55
        }
      ]
    },
    {
      "cell_type": "markdown",
      "source": [
        "## General"
      ],
      "metadata": {
        "id": "7GD61gIQ7Qd2"
      }
    },
    {
      "cell_type": "markdown",
      "source": [
        "Distribusi Rating"
      ],
      "metadata": {
        "id": "e04Iuf2-6KcW"
      }
    },
    {
      "cell_type": "code",
      "source": [
        "sns.countplot(data = df_explored, x = 'score')"
      ],
      "metadata": {
        "colab": {
          "base_uri": "https://localhost:8080/",
          "height": 467
        },
        "id": "INAqnZaP6MuO",
        "outputId": "04d6677c-2745-4b6e-d4d8-a23446f05cad"
      },
      "execution_count": 56,
      "outputs": [
        {
          "output_type": "execute_result",
          "data": {
            "text/plain": [
              "<Axes: xlabel='score', ylabel='count'>"
            ]
          },
          "metadata": {},
          "execution_count": 56
        },
        {
          "output_type": "display_data",
          "data": {
            "text/plain": [
              "<Figure size 640x480 with 1 Axes>"
            ],
            "image/png": "[encoded data removed]"
          },
          "metadata": {}
        }
      ]
    },
    {
      "cell_type": "markdown",
      "source": [
        "Distribusi Sentimen"
      ],
      "metadata": {
        "id": "_Je4EQ0N2SU2"
      }
    },
    {
      "cell_type": "code",
      "source": [
        "sns.countplot(data = df_explored, x = 'sentiment')"
      ],
      "metadata": {
        "colab": {
          "base_uri": "https://localhost:8080/",
          "height": 467
        },
        "id": "5eY22hPhArkB",
        "outputId": "0f84a1c7-9eb3-4355-e31f-aaa21e6e5cc4"
      },
      "execution_count": 57,
      "outputs": [
        {
          "output_type": "execute_result",
          "data": {
            "text/plain": [
              "<Axes: xlabel='sentiment', ylabel='count'>"
            ]
          },
          "metadata": {},
          "execution_count": 57
        },
        {
          "output_type": "display_data",
          "data": {
            "text/plain": [
              "<Figure size 640x480 with 1 Axes>"
            ],
            "image/png": "[encoded data removed]"
          },
          "metadata": {}
        }
      ]
    },
    {
      "cell_type": "code",
      "source": [
        "df_explored['review_len'] = df_explored['content'].astype(str).apply(len)\n",
        "df_explored['word_count'] = df_explored['content'].apply(lambda x: len(str(x).split()))"
      ],
      "metadata": {
        "id": "bzKKu32N7UgO"
      },
      "execution_count": 58,
      "outputs": []
    },
    {
      "cell_type": "code",
      "source": [
        "df_explored[[\"review_len\", \"word_count\"]].hist(bins=20, figsize=(10, 5))"
      ],
      "metadata": {
        "colab": {
          "base_uri": "https://localhost:8080/",
          "height": 504
        },
        "id": "Sx2uTgpU8UjN",
        "outputId": "bd33d72e-9bfa-48d4-96d3-0d6e492cf58e"
      },
      "execution_count": 59,
      "outputs": [
        {
          "output_type": "execute_result",
          "data": {
            "text/plain": [
              "array([[<Axes: title={'center': 'review_len'}>,\n",
              "        <Axes: title={'center': 'word_count'}>]], dtype=object)"
            ]
          },
          "metadata": {},
          "execution_count": 59
        },
        {
          "output_type": "display_data",
          "data": {
            "text/plain": [
              "<Figure size 1000x500 with 2 Axes>"
            ],
            "image/png": "[encoded data removed]"
          },
          "metadata": {}
        }
      ]
    },
    {
      "cell_type": "code",
      "source": [
        "import matplotlib.pyplot as plt\n",
        "\n",
        "plt.figure(figsize=(10, 6))\n",
        "sns.pointplot(x = \"score\", y = \"review_len\", data = df_explored)\n",
        "plt.xlabel(\"Score\")\n",
        "plt.ylabel(\"Review Length\")\n",
        "plt.title(\"Score vs Review Length\")\n",
        "plt.show()"
      ],
      "metadata": {
        "colab": {
          "base_uri": "https://localhost:8080/",
          "height": 564
        },
        "id": "y4QA7FeZ89ai",
        "outputId": "3dace1ed-c34d-4fac-b7e8-807f2abebbaf"
      },
      "execution_count": 60,
      "outputs": [
        {
          "output_type": "display_data",
          "data": {
            "text/plain": [
              "<Figure size 1000x600 with 1 Axes>"
            ],
            "image/png": "[encoded data removed]"
          },
          "metadata": {}
        }
      ]
    },
    {
      "cell_type": "code",
      "source": [
        "all_word = df_explored['content_cleaned'].str.split().explode().value_counts().index\n",
        "all_word_freq = df_explored['content_cleaned'].str.split().explode().value_counts().values"
      ],
      "metadata": {
        "id": "Y5uJKRvC_0xi"
      },
      "execution_count": 61,
      "outputs": []
    },
    {
      "cell_type": "code",
      "source": [
        "sns.barplot(y=all_word[:15], x=all_word_freq[:15], palette = \"viridis\")"
      ],
      "metadata": {
        "colab": {
          "base_uri": "https://localhost:8080/",
          "height": 448
        },
        "id": "Hkzn93ok9I3s",
        "outputId": "d1180597-d2ca-447a-e10a-8d82a5641e3d"
      },
      "execution_count": 62,
      "outputs": [
        {
          "output_type": "execute_result",
          "data": {
            "text/plain": [
              "<Axes: >"
            ]
          },
          "metadata": {},
          "execution_count": 62
        },
        {
          "output_type": "display_data",
          "data": {
            "text/plain": [
              "<Figure size 640x480 with 1 Axes>"
            ],
            "image/png": "[encoded data removed]"
          },
          "metadata": {}
        }
      ]
    },
    {
      "cell_type": "code",
      "source": [
        "from sklearn.feature_extraction.text import CountVectorizer\n",
        "def get_top_n_bigram(corpus, n=None):\n",
        "    vec = CountVectorizer(ngram_range=(2,2)).fit(corpus)\n",
        "    bag_of_words = vec.transform(corpus)\n",
        "    sum_words = bag_of_words.sum(axis=0)\n",
        "    words_freq = [(word, sum_words[0, idx]) for word, idx in vec.vocabulary_.items()]\n",
        "    words_freq =sorted(words_freq, key = lambda x: x[1], reverse=True)\n",
        "    return words_freq[:n]"
      ],
      "metadata": {
        "id": "VpTRs_VZFypd"
      },
      "execution_count": 66,
      "outputs": []
    },
    {
      "cell_type": "code",
      "source": [
        "all_bigram = get_top_n_bigram(df_explored['content_cleaned'], 20)\n",
        "df_all_bigram = pd.DataFrame(all_bigram, columns=['Review', \"Count\"])"
      ],
      "metadata": {
        "id": "AGvN6frXKMrQ"
      },
      "execution_count": 67,
      "outputs": []
    },
    {
      "cell_type": "code",
      "source": [
        "sns.barplot(y=df_all_bigram['Review'], x=df_all_bigram['Count'], palette = \"viridis\")"
      ],
      "metadata": {
        "colab": {
          "base_uri": "https://localhost:8080/",
          "height": 467
        },
        "id": "cVtBTjTZKdaA",
        "outputId": "ddc315dd-6c2c-4dd9-8e7d-047a25527403"
      },
      "execution_count": 68,
      "outputs": [
        {
          "output_type": "execute_result",
          "data": {
            "text/plain": [
              "<Axes: xlabel='Count', ylabel='Review'>"
            ]
          },
          "metadata": {},
          "execution_count": 68
        },
        {
          "output_type": "display_data",
          "data": {
            "text/plain": [
              "<Figure size 640x480 with 1 Axes>"
            ],
            "image/png": "[encoded data removed]"
          },
          "metadata": {}
        }
      ]
    },
    {
      "cell_type": "code",
      "source": [
        "def get_top_n_trigram(corpus, n=None):\n",
        "    vec = CountVectorizer(ngram_range=(3,3)).fit(corpus)\n",
        "    bag_of_words = vec.transform(corpus)\n",
        "    sum_words = bag_of_words.sum(axis=0)\n",
        "    words_freq = [(word, sum_words[0, idx]) for word, idx in vec.vocabulary_.items()]\n",
        "    words_freq =sorted(words_freq, key = lambda x: x[1], reverse=True)\n",
        "    return words_freq[:n]"
      ],
      "metadata": {
        "id": "i2O9ufAPKrXD"
      },
      "execution_count": 69,
      "outputs": []
    },
    {
      "cell_type": "code",
      "source": [
        "all_trigram = get_top_n_trigram(df_explored['content_cleaned'], 20)\n",
        "df_all_trigram = pd.DataFrame(all_trigram, columns=['Review', \"Count\"])"
      ],
      "metadata": {
        "id": "n8IbFrDVKy7x"
      },
      "execution_count": 70,
      "outputs": []
    },
    {
      "cell_type": "code",
      "source": [
        "sns.barplot(y=df_all_trigram['Review'], x=df_all_trigram['Count'], palette = \"viridis\")"
      ],
      "metadata": {
        "colab": {
          "base_uri": "https://localhost:8080/",
          "height": 467
        },
        "outputId": "528f6411-2ef4-4aa5-ff07-77651e752f88",
        "id": "S_jygCe4Ky7y"
      },
      "execution_count": 71,
      "outputs": [
        {
          "output_type": "execute_result",
          "data": {
            "text/plain": [
              "<Axes: xlabel='Count', ylabel='Review'>"
            ]
          },
          "metadata": {},
          "execution_count": 71
        },
        {
          "output_type": "display_data",
          "data": {
            "text/plain": [
              "<Figure size 640x480 with 1 Axes>"
            ],
            "image/png": "[encoded data removed]"
          },
          "metadata": {}
        }
      ]
    },
    {
      "cell_type": "code",
      "source": [
        "df_pos = df_explored[df_explored['sentiment']=='positive']\n",
        "df_neu = df_explored[df_explored['sentiment']=='neutral']\n",
        "df_neg = df_explored[df_explored['sentiment']=='negative']"
      ],
      "metadata": {
        "id": "rLEzfZmEVxPZ"
      },
      "execution_count": 72,
      "outputs": []
    },
    {
      "cell_type": "markdown",
      "source": [
        "## Positive"
      ],
      "metadata": {
        "id": "beuZLpWB_-cl"
      }
    },
    {
      "cell_type": "code",
      "source": [
        "pos_word = df_pos['content_cleaned'].str.split().explode().value_counts().index\n",
        "pos_word_freq = df_pos['content_cleaned'].str.split().explode().value_counts().values"
      ],
      "metadata": {
        "id": "-_enAP7rLNAO"
      },
      "execution_count": 73,
      "outputs": []
    },
    {
      "cell_type": "code",
      "source": [
        "sns.barplot(y=pos_word[:15], x=pos_word_freq[:15], palette = \"viridis\")"
      ],
      "metadata": {
        "colab": {
          "base_uri": "https://localhost:8080/",
          "height": 448
        },
        "outputId": "ce514a2a-77f6-4b7e-fbe4-5349958d93c7",
        "id": "IvP4YSlZLNAZ"
      },
      "execution_count": 74,
      "outputs": [
        {
          "output_type": "execute_result",
          "data": {
            "text/plain": [
              "<Axes: >"
            ]
          },
          "metadata": {},
          "execution_count": 74
        },
        {
          "output_type": "display_data",
          "data": {
            "text/plain": [
              "<Figure size 640x480 with 1 Axes>"
            ],
            "image/png": "[encoded data removed]"
          },
          "metadata": {}
        }
      ]
    },
    {
      "cell_type": "code",
      "source": [
        "pos_bigram = get_top_n_bigram(df_pos['content_cleaned'], 20)\n",
        "df_pos_bigram = pd.DataFrame(all_bigram, columns=['Review', \"Count\"])"
      ],
      "metadata": {
        "id": "CVIj0xuyLNAa"
      },
      "execution_count": 75,
      "outputs": []
    },
    {
      "cell_type": "code",
      "source": [
        "sns.barplot(y=df_pos_bigram['Review'], x=df_pos_bigram['Count'], palette = \"viridis\")"
      ],
      "metadata": {
        "colab": {
          "base_uri": "https://localhost:8080/",
          "height": 467
        },
        "outputId": "41c0ccaf-9621-40a2-fd64-63c90e95522c",
        "id": "uBvalEJ-LNAa"
      },
      "execution_count": 76,
      "outputs": [
        {
          "output_type": "execute_result",
          "data": {
            "text/plain": [
              "<Axes: xlabel='Count', ylabel='Review'>"
            ]
          },
          "metadata": {},
          "execution_count": 76
        },
        {
          "output_type": "display_data",
          "data": {
            "text/plain": [
              "<Figure size 640x480 with 1 Axes>"
            ],
            "image/png": "[encoded data removed]"
          },
          "metadata": {}
        }
      ]
    },
    {
      "cell_type": "code",
      "source": [
        "pos_trigram = get_top_n_trigram(df_pos['content_cleaned'], 20)\n",
        "df_pos_trigram = pd.DataFrame(pos_trigram, columns=['Review', \"Count\"])"
      ],
      "metadata": {
        "id": "TEG8iVF_LNAb"
      },
      "execution_count": 77,
      "outputs": []
    },
    {
      "cell_type": "code",
      "source": [
        "sns.barplot(y=df_pos_trigram['Review'], x=df_pos_trigram['Count'], palette = \"viridis\")"
      ],
      "metadata": {
        "colab": {
          "base_uri": "https://localhost:8080/",
          "height": 467
        },
        "outputId": "d448e156-cbaf-4ca4-bbc6-08320ed08b90",
        "id": "nAoFsmJMLNAb"
      },
      "execution_count": 79,
      "outputs": [
        {
          "output_type": "execute_result",
          "data": {
            "text/plain": [
              "<Axes: xlabel='Count', ylabel='Review'>"
            ]
          },
          "metadata": {},
          "execution_count": 79
        },
        {
          "output_type": "display_data",
          "data": {
            "text/plain": [
              "<Figure size 640x480 with 1 Axes>"
            ],
            "image/png": "[encoded data removed]"
          },
          "metadata": {}
        }
      ]
    },
    {
      "cell_type": "markdown",
      "source": [
        "## Neutral"
      ],
      "metadata": {
        "id": "TQauY1KNCi_z"
      }
    },
    {
      "cell_type": "code",
      "source": [
        "neu_word = df_neu['content_cleaned'].str.split().explode().value_counts().index\n",
        "neu_word_freq = df_neu['content_cleaned'].str.split().explode().value_counts().values"
      ],
      "metadata": {
        "id": "uniM25rcLq5M"
      },
      "execution_count": 80,
      "outputs": []
    },
    {
      "cell_type": "code",
      "source": [
        "sns.barplot(y=neu_word[:15], x=neu_word_freq[:15], palette = \"viridis\")"
      ],
      "metadata": {
        "colab": {
          "base_uri": "https://localhost:8080/",
          "height": 448
        },
        "outputId": "c064c086-76b4-4d7b-fb35-e5f41c4894d2",
        "id": "OPc8sWyOLq5Y"
      },
      "execution_count": 81,
      "outputs": [
        {
          "output_type": "execute_result",
          "data": {
            "text/plain": [
              "<Axes: >"
            ]
          },
          "metadata": {},
          "execution_count": 81
        },
        {
          "output_type": "display_data",
          "data": {
            "text/plain": [
              "<Figure size 640x480 with 1 Axes>"
            ],
            "image/png": "[encoded data removed]"
          },
          "metadata": {}
        }
      ]
    },
    {
      "cell_type": "code",
      "source": [
        "neu_bigram = get_top_n_bigram(df_neu['content_cleaned'], 20)\n",
        "df_neu_bigram = pd.DataFrame(neu_bigram, columns=['Review', \"Count\"])"
      ],
      "metadata": {
        "id": "c19i1ZJrLq5Z"
      },
      "execution_count": 82,
      "outputs": []
    },
    {
      "cell_type": "code",
      "source": [
        "sns.barplot(y=df_neu_bigram['Review'], x=df_neu_bigram['Count'], palette = \"viridis\")"
      ],
      "metadata": {
        "colab": {
          "base_uri": "https://localhost:8080/",
          "height": 467
        },
        "outputId": "23800273-fde0-4c10-cb11-79b597a43378",
        "id": "UNLRCvP6Lq5Z"
      },
      "execution_count": 83,
      "outputs": [
        {
          "output_type": "execute_result",
          "data": {
            "text/plain": [
              "<Axes: xlabel='Count', ylabel='Review'>"
            ]
          },
          "metadata": {},
          "execution_count": 83
        },
        {
          "output_type": "display_data",
          "data": {
            "text/plain": [
              "<Figure size 640x480 with 1 Axes>"
            ],
            "image/png": "[encoded data removed]"
          },
          "metadata": {}
        }
      ]
    },
    {
      "cell_type": "code",
      "source": [
        "neu_trigram = get_top_n_trigram(df_neu['content_cleaned'], 20)\n",
        "df_neu_trigram = pd.DataFrame(neu_trigram, columns=['Review', \"Count\"])"
      ],
      "metadata": {
        "id": "BTD6syAGLq5Z"
      },
      "execution_count": 84,
      "outputs": []
    },
    {
      "cell_type": "code",
      "source": [
        "sns.barplot(y=df_neu_trigram['Review'], x=df_neu_trigram['Count'], palette = \"viridis\")"
      ],
      "metadata": {
        "colab": {
          "base_uri": "https://localhost:8080/",
          "height": 467
        },
        "outputId": "80b70d4d-8889-46e1-d516-d54a5cbb5ca2",
        "id": "HhVOiOGLLq5a"
      },
      "execution_count": 85,
      "outputs": [
        {
          "output_type": "execute_result",
          "data": {
            "text/plain": [
              "<Axes: xlabel='Count', ylabel='Review'>"
            ]
          },
          "metadata": {},
          "execution_count": 85
        },
        {
          "output_type": "display_data",
          "data": {
            "text/plain": [
              "<Figure size 640x480 with 1 Axes>"
            ],
            "image/png": "[encoded data removed]"
          },
          "metadata": {}
        }
      ]
    },
    {
      "cell_type": "markdown",
      "source": [
        "## Negative"
      ],
      "metadata": {
        "id": "8ZLXotOYCmn4"
      }
    },
    {
      "cell_type": "code",
      "source": [
        "neg_word = df_neg['content_cleaned'].str.split().explode().value_counts().index\n",
        "neg_word_freq = df_neg['content_cleaned'].str.split().explode().value_counts().values"
      ],
      "metadata": {
        "id": "-PCWTIZgMNss"
      },
      "execution_count": 86,
      "outputs": []
    },
    {
      "cell_type": "code",
      "source": [
        "sns.barplot(y=neg_word[:15], x=neg_word_freq[:15], palette = \"viridis\")"
      ],
      "metadata": {
        "colab": {
          "base_uri": "https://localhost:8080/",
          "height": 448
        },
        "outputId": "e6968fb5-0c05-4da1-9c9d-c896140523ad",
        "id": "NiZMMVi3MNs4"
      },
      "execution_count": 87,
      "outputs": [
        {
          "output_type": "execute_result",
          "data": {
            "text/plain": [
              "<Axes: >"
            ]
          },
          "metadata": {},
          "execution_count": 87
        },
        {
          "output_type": "display_data",
          "data": {
            "text/plain": [
              "<Figure size 640x480 with 1 Axes>"
            ],
            "image/png": "[encoded data removed]"
          },
          "metadata": {}
        }
      ]
    },
    {
      "cell_type": "code",
      "source": [
        "neg_bigram = get_top_n_bigram(df_neg['content_cleaned'], 20)\n",
        "df_neg_bigram = pd.DataFrame(neg_bigram, columns=['Review', \"Count\"])"
      ],
      "metadata": {
        "id": "AE7o6mlEMNs5"
      },
      "execution_count": 88,
      "outputs": []
    },
    {
      "cell_type": "code",
      "source": [
        "sns.barplot(y=df_neg_bigram['Review'], x=df_neg_bigram['Count'], palette = \"viridis\")"
      ],
      "metadata": {
        "colab": {
          "base_uri": "https://localhost:8080/",
          "height": 467
        },
        "outputId": "320ce4ba-0978-46c2-f9a6-bb5cc6c03a5c",
        "id": "g4Fq4oZKMNs5"
      },
      "execution_count": 89,
      "outputs": [
        {
          "output_type": "execute_result",
          "data": {
            "text/plain": [
              "<Axes: xlabel='Count', ylabel='Review'>"
            ]
          },
          "metadata": {},
          "execution_count": 89
        },
        {
          "output_type": "display_data",
          "data": {
            "text/plain": [
              "<Figure size 640x480 with 1 Axes>"
            ],
            "image/png": "[encoded data removed]"
          },
          "metadata": {}
        }
      ]
    },
    {
      "cell_type": "code",
      "source": [
        "neg_trigram = get_top_n_trigram(df_neg['content_cleaned'], 20)\n",
        "df_neg_trigram = pd.DataFrame(neg_trigram, columns=['Review', \"Count\"])"
      ],
      "metadata": {
        "id": "xu_kPRwQMNs6"
      },
      "execution_count": 90,
      "outputs": []
    },
    {
      "cell_type": "code",
      "source": [
        "sns.barplot(y=df_neg_trigram['Review'], x=df_neg_trigram['Count'], palette = \"viridis\")"
      ],
      "metadata": {
        "colab": {
          "base_uri": "https://localhost:8080/",
          "height": 467
        },
        "outputId": "07440e21-fa95-484d-e41e-7044a5daf8a2",
        "id": "itFi9DTxMNs6"
      },
      "execution_count": 91,
      "outputs": [
        {
          "output_type": "execute_result",
          "data": {
            "text/plain": [
              "<Axes: xlabel='Count', ylabel='Review'>"
            ]
          },
          "metadata": {},
          "execution_count": 91
        },
        {
          "output_type": "display_data",
          "data": {
            "text/plain": [
              "<Figure size 640x480 with 1 Axes>"
            ],
            "image/png": "[encoded data removed]"
          },
          "metadata": {}
        }
      ]
    },
    {
      "cell_type": "markdown",
      "source": [
        "# Model Development"
      ],
      "metadata": {
        "id": "3V7NWuiQbpi6"
      }
    },
    {
      "cell_type": "code",
      "source": [
        "!pip install transformers"
      ],
      "metadata": {
        "id": "p4gfWqs1X5Kx",
        "colab": {
          "base_uri": "https://localhost:8080/"
        },
        "outputId": "305bda7f-2e83-4a1c-cdce-6c05ed7b380c"
      },
      "execution_count": 15,
      "outputs": [
        {
          "output_type": "stream",
          "name": "stdout",
          "text": [
            "Collecting transformers\n",
            "  Downloading transformers-4.31.0-py3-none-any.whl (7.4 MB)\n",
            "\u001b[2K     \u001b[90m━━━━━━━━━━━━━━━━━━━━━━━━━━━━━━━━━━━━━━━━\u001b[0m \u001b[32m7.4/7.4 MB\u001b[0m \u001b[31m19.0 MB/s\u001b[0m eta \u001b[36m0:00:00\u001b[0m\n",
            "\u001b[?25hRequirement already satisfied: filelock in /usr/local/lib/python3.10/dist-packages (from transformers) (3.12.2)\n",
            "Collecting huggingface-hub<1.0,>=0.14.1 (from transformers)\n",
            "  Downloading huggingface_hub-0.16.4-py3-none-any.whl (268 kB)\n",
            "\u001b[2K     \u001b[90m━━━━━━━━━━━━━━━━━━━━━━━━━━━━━━━━━━━━━━\u001b[0m \u001b[32m268.8/268.8 kB\u001b[0m \u001b[31m20.3 MB/s\u001b[0m eta \u001b[36m0:00:00\u001b[0m\n",
            "\u001b[?25hRequirement already satisfied: numpy>=1.17 in /usr/local/lib/python3.10/dist-packages (from transformers) (1.22.4)\n",
            "Requirement already satisfied: packaging>=20.0 in /usr/local/lib/python3.10/dist-packages (from transformers) (23.1)\n",
            "Requirement already satisfied: pyyaml>=5.1 in /usr/local/lib/python3.10/dist-packages (from transformers) (6.0.1)\n",
            "Requirement already satisfied: regex!=2019.12.17 in /usr/local/lib/python3.10/dist-packages (from transformers) (2022.10.31)\n",
            "Requirement already satisfied: requests in /usr/local/lib/python3.10/dist-packages (from transformers) (2.27.1)\n",
            "Collecting tokenizers!=0.11.3,<0.14,>=0.11.1 (from transformers)\n",
            "  Downloading tokenizers-0.13.3-cp310-cp310-manylinux_2_17_x86_64.manylinux2014_x86_64.whl (7.8 MB)\n",
            "\u001b[2K     \u001b[90m━━━━━━━━━━━━━━━━━━━━━━━━━━━━━━━━━━━━━━━━\u001b[0m \u001b[32m7.8/7.8 MB\u001b[0m \u001b[31m44.3 MB/s\u001b[0m eta \u001b[36m0:00:00\u001b[0m\n",
            "\u001b[?25hCollecting safetensors>=0.3.1 (from transformers)\n",
            "  Downloading safetensors-0.3.1-cp310-cp310-manylinux_2_17_x86_64.manylinux2014_x86_64.whl (1.3 MB)\n",
            "\u001b[2K     \u001b[90m━━━━━━━━━━━━━━━━━━━━━━━━━━━━━━━━━━━━━━━━\u001b[0m \u001b[32m1.3/1.3 MB\u001b[0m \u001b[31m60.6 MB/s\u001b[0m eta \u001b[36m0:00:00\u001b[0m\n",
            "\u001b[?25hRequirement already satisfied: tqdm>=4.27 in /usr/local/lib/python3.10/dist-packages (from transformers) (4.65.0)\n",
            "Requirement already satisfied: fsspec in /usr/local/lib/python3.10/dist-packages (from huggingface-hub<1.0,>=0.14.1->transformers) (2023.6.0)\n",
            "Requirement already satisfied: typing-extensions>=3.7.4.3 in /usr/local/lib/python3.10/dist-packages (from huggingface-hub<1.0,>=0.14.1->transformers) (4.7.1)\n",
            "Requirement already satisfied: urllib3<1.27,>=1.21.1 in /usr/local/lib/python3.10/dist-packages (from requests->transformers) (1.26.16)\n",
            "Requirement already satisfied: certifi>=2017.4.17 in /usr/local/lib/python3.10/dist-packages (from requests->transformers) (2023.7.22)\n",
            "Requirement already satisfied: charset-normalizer~=2.0.0 in /usr/local/lib/python3.10/dist-packages (from requests->transformers) (2.0.12)\n",
            "Requirement already satisfied: idna<4,>=2.5 in /usr/local/lib/python3.10/dist-packages (from requests->transformers) (3.4)\n",
            "Installing collected packages: tokenizers, safetensors, huggingface-hub, transformers\n",
            "Successfully installed huggingface-hub-0.16.4 safetensors-0.3.1 tokenizers-0.13.3 transformers-4.31.0\n"
          ]
        }
      ]
    },
    {
      "cell_type": "markdown",
      "source": [
        "## Model Load"
      ],
      "metadata": {
        "id": "Cjo_QJnBgz67"
      }
    },
    {
      "cell_type": "code",
      "source": [
        "#Clone repositori berisi dataset dan model indobenchmark untuk proses NLP\n",
        "!git clone https://github.com/indobenchmark/indonlu.git"
      ],
      "metadata": {
        "colab": {
          "base_uri": "https://localhost:8080/"
        },
        "id": "iQETuywpITsG",
        "outputId": "9dff72f2-8602-41d5-828c-a99dc65a3ea1"
      },
      "execution_count": 16,
      "outputs": [
        {
          "output_type": "stream",
          "name": "stdout",
          "text": [
            "Cloning into 'indonlu'...\n",
            "remote: Enumerating objects: 500, done.\u001b[K\n",
            "remote: Counting objects: 100% (184/184), done.\u001b[K\n",
            "remote: Compressing objects: 100% (74/74), done.\u001b[K\n",
            "remote: Total 500 (delta 115), reused 139 (delta 110), pack-reused 316\u001b[K\n",
            "Receiving objects: 100% (500/500), 9.45 MiB | 16.35 MiB/s, done.\n",
            "Resolving deltas: 100% (235/235), done.\n"
          ]
        }
      ]
    },
    {
      "cell_type": "code",
      "source": [
        "from transformers import BertForSequenceClassification, BertConfig, BertTokenizer\n",
        "import torch\n",
        "import random\n",
        "from torch import optim\n",
        "import torch.nn.functional as F\n",
        "from tqdm import tqdm\n",
        "from indonlu.utils.forward_fn import forward_sequence_classification\n",
        "from sklearn.metrics import accuracy_score, f1_score, recall_score, precision_score\n",
        "from indonlu.utils.data_utils import DocumentSentimentDataset, DocumentSentimentDataLoader"
      ],
      "metadata": {
        "id": "kSIBCHa6IclI"
      },
      "execution_count": 68,
      "outputs": []
    },
    {
      "cell_type": "code",
      "source": [
        "def document_sentiment_metrics_fn(list_hyp, list_label):\n",
        "    metrics = {}\n",
        "    metrics[\"ACC\"] = accuracy_score(list_label, list_hyp)\n",
        "    metrics[\"F1\"] = f1_score(list_label, list_hyp, average='macro', zero_division = 1)\n",
        "    metrics[\"REC\"] = recall_score(list_label, list_hyp, average='macro', zero_division = 1)\n",
        "    metrics[\"PRE\"] = precision_score(list_label, list_hyp, average='macro', zero_division = 1)\n",
        "    return metrics"
      ],
      "metadata": {
        "id": "w1PckYCJVKV_"
      },
      "execution_count": 69,
      "outputs": []
    },
    {
      "cell_type": "code",
      "source": [
        "###\n",
        "# common functions\n",
        "###\n",
        "def set_seed(seed):\n",
        "    random.seed(seed)\n",
        "    np.random.seed(seed)\n",
        "    torch.manual_seed(seed)\n",
        "    torch.cuda.manual_seed(seed)\n",
        "\n",
        "def count_param(module, trainable=False):\n",
        "    if trainable:\n",
        "        return sum(p.numel() for p in module.parameters() if p.requires_grad)\n",
        "    else:\n",
        "        return sum(p.numel() for p in module.parameters())\n",
        "\n",
        "def get_lr(optimizer):\n",
        "    for param_group in optimizer.param_groups:\n",
        "        return param_group['lr']\n",
        "\n",
        "def metrics_to_string(metric_dict):\n",
        "    string_list = []\n",
        "    for key, value in metric_dict.items():\n",
        "        string_list.append('{}:{:.2f}'.format(key, value))\n",
        "    return ' '.join(string_list)"
      ],
      "metadata": {
        "id": "2ilX8LFPgc-W"
      },
      "execution_count": 60,
      "outputs": []
    },
    {
      "cell_type": "code",
      "source": [
        "# Set random seed\n",
        "set_seed(20062001)"
      ],
      "metadata": {
        "id": "Jg9z7ByQgxCe"
      },
      "execution_count": 61,
      "outputs": []
    },
    {
      "cell_type": "code",
      "source": [
        "# Load Tokenizer and Config\n",
        "tokenizer = BertTokenizer.from_pretrained('indobenchmark/indobert-base-p1')\n",
        "config = BertConfig.from_pretrained('indobenchmark/indobert-base-p1')\n",
        "config.num_labels = DocumentSentimentDataset.NUM_LABELS\n",
        "\n",
        "# Instantiate model\n",
        "model = BertForSequenceClassification.from_pretrained('indobenchmark/indobert-base-p1', config=config)"
      ],
      "metadata": {
        "colab": {
          "base_uri": "https://localhost:8080/"
        },
        "id": "2o4fCRm3hCKg",
        "outputId": "4a757615-d6c7-4415-9e25-1e1c59127d14"
      },
      "execution_count": 62,
      "outputs": [
        {
          "output_type": "stream",
          "name": "stderr",
          "text": [
            "Some weights of BertForSequenceClassification were not initialized from the model checkpoint at indobenchmark/indobert-base-p1 and are newly initialized: ['classifier.bias', 'classifier.weight']\n",
            "You should probably TRAIN this model on a down-stream task to be able to use it for predictions and inference.\n"
          ]
        }
      ]
    },
    {
      "cell_type": "code",
      "source": [
        "train_dataset_path = '/content/train.tsv'\n",
        "valid_dataset_path = '/content/eval.tsv'\n",
        "test_dataset_path = '/content/test.tsv'"
      ],
      "metadata": {
        "id": "T1VJMNyLhCC8"
      },
      "execution_count": 63,
      "outputs": []
    },
    {
      "cell_type": "code",
      "source": [
        "train_dataset = DocumentSentimentDataset(train_dataset_path, tokenizer, lowercase=True)\n",
        "valid_dataset = DocumentSentimentDataset(valid_dataset_path, tokenizer, lowercase=True)\n",
        "test_dataset = DocumentSentimentDataset(test_dataset_path, tokenizer, lowercase=True)\n",
        "\n",
        "train_loader = DocumentSentimentDataLoader(dataset=train_dataset, max_seq_len=512, batch_size=32, num_workers=2, shuffle=True)\n",
        "valid_loader = DocumentSentimentDataLoader(dataset=valid_dataset, max_seq_len=512, batch_size=32, num_workers=2, shuffle=False)\n",
        "test_loader = DocumentSentimentDataLoader(dataset=test_dataset, max_seq_len=512, batch_size=32, num_workers=2, shuffle=False)"
      ],
      "metadata": {
        "id": "bPgwPdXAha0Z"
      },
      "execution_count": 72,
      "outputs": []
    },
    {
      "cell_type": "code",
      "source": [
        "w2i, i2w = DocumentSentimentDataset.LABEL2INDEX, DocumentSentimentDataset.INDEX2LABEL\n",
        "print(w2i)\n",
        "print(i2w)"
      ],
      "metadata": {
        "colab": {
          "base_uri": "https://localhost:8080/"
        },
        "id": "Eg5lLh5zhaui",
        "outputId": "ce28b457-e706-44c2-893e-56eb51bce22e"
      },
      "execution_count": 65,
      "outputs": [
        {
          "output_type": "stream",
          "name": "stdout",
          "text": [
            "{'positive': 0, 'neutral': 1, 'negative': 2}\n",
            "{0: 'positive', 1: 'neutral', 2: 'negative'}\n"
          ]
        }
      ]
    },
    {
      "cell_type": "markdown",
      "source": [
        "## Fine Tuning"
      ],
      "metadata": {
        "id": "4PNlVJB-if2a"
      }
    },
    {
      "cell_type": "code",
      "source": [
        "optimizer = optim.Adam(model.parameters(), lr=3e-6)\n",
        "model = model.cuda()"
      ],
      "metadata": {
        "id": "qPAPLLO4iiw1"
      },
      "execution_count": 66,
      "outputs": []
    },
    {
      "cell_type": "code",
      "source": [
        "# Train\n",
        "n_epochs = 5\n",
        "for epoch in range(n_epochs):\n",
        "    model.train()\n",
        "    torch.set_grad_enabled(True)\n",
        "\n",
        "    total_train_loss = 0\n",
        "    list_hyp, list_label = [], []\n",
        "\n",
        "    train_pbar = tqdm(train_loader, leave=True, total=len(train_loader))\n",
        "    for i, batch_data in enumerate(train_pbar):\n",
        "        # Forward model\n",
        "        loss, batch_hyp, batch_label = forward_sequence_classification(model, batch_data[:-1], i2w=i2w, device='cuda')\n",
        "\n",
        "        # Update model\n",
        "        optimizer.zero_grad()\n",
        "        loss.backward()\n",
        "        optimizer.step()\n",
        "\n",
        "        tr_loss = loss.item()\n",
        "        total_train_loss = total_train_loss + tr_loss\n",
        "\n",
        "        # Calculate metrics\n",
        "        list_hyp += batch_hyp\n",
        "        list_label += batch_label\n",
        "\n",
        "        train_pbar.set_description(\"(Epoch {}) TRAIN LOSS:{:.4f} LR:{:.8f}\".format((epoch+1),\n",
        "            total_train_loss/(i+1), get_lr(optimizer)))\n",
        "\n",
        "    # Calculate train metric\n",
        "    metrics = document_sentiment_metrics_fn(list_hyp, list_label)\n",
        "    print(\"(Epoch {}) TRAIN LOSS:{:.4f} {} LR:{:.8f}\".format((epoch+1),\n",
        "        total_train_loss/(i+1), metrics_to_string(metrics), get_lr(optimizer)))\n",
        "\n",
        "    # Evaluate on validation\n",
        "    model.eval()\n",
        "    torch.set_grad_enabled(False)\n",
        "\n",
        "    total_loss, total_correct, total_labels = 0, 0, 0\n",
        "    list_hyp, list_label = [], []\n",
        "\n",
        "    pbar = tqdm(valid_loader, leave=True, total=len(valid_loader))\n",
        "    for i, batch_data in enumerate(pbar):\n",
        "        batch_seq = batch_data[-1]\n",
        "        loss, batch_hyp, batch_label = forward_sequence_classification(model, batch_data[:-1], i2w=i2w, device='cuda')\n",
        "\n",
        "        # Calculate total loss\n",
        "        valid_loss = loss.item()\n",
        "        total_loss = total_loss + valid_loss\n",
        "\n",
        "        # Calculate evaluation metrics\n",
        "        list_hyp += batch_hyp\n",
        "        list_label += batch_label\n",
        "        metrics = document_sentiment_metrics_fn(list_hyp, list_label)\n",
        "\n",
        "        pbar.set_description(\"VALID LOSS:{:.4f} {}\".format(total_loss/(i+1), metrics_to_string(metrics)))\n",
        "\n",
        "    metrics = document_sentiment_metrics_fn(list_hyp, list_label)\n",
        "    print(\"(Epoch {}) VALID LOSS:{:.4f} {}\".format((epoch+1),\n",
        "        total_loss/(i+1), metrics_to_string(metrics)))\n"
      ],
      "metadata": {
        "colab": {
          "base_uri": "https://localhost:8080/"
        },
        "id": "Ovb9o9rRipnU",
        "outputId": "93549a9f-420d-4150-fd2b-7ae52b7833b0"
      },
      "execution_count": 73,
      "outputs": [
        {
          "output_type": "stream",
          "name": "stderr",
          "text": [
            "(Epoch 1) TRAIN LOSS:0.4585 LR:0.00000300: 100%|██████████| 1626/1626 [05:53<00:00,  4.60it/s]\n"
          ]
        },
        {
          "output_type": "stream",
          "name": "stdout",
          "text": [
            "(Epoch 1) TRAIN LOSS:0.4585 ACC:0.84 F1:0.58 REC:0.60 PRE:0.73 LR:0.00000300\n"
          ]
        },
        {
          "output_type": "stream",
          "name": "stderr",
          "text": [
            "VALID LOSS:0.4641 ACC:0.84 F1:0.58 REC:0.60 PRE:0.71: 100%|██████████| 697/697 [02:46<00:00,  4.18it/s]\n"
          ]
        },
        {
          "output_type": "stream",
          "name": "stdout",
          "text": [
            "(Epoch 1) VALID LOSS:0.4641 ACC:0.84 F1:0.58 REC:0.60 PRE:0.71\n"
          ]
        },
        {
          "output_type": "stream",
          "name": "stderr",
          "text": [
            "(Epoch 2) TRAIN LOSS:0.4323 LR:0.00000300: 100%|██████████| 1626/1626 [05:51<00:00,  4.62it/s]\n"
          ]
        },
        {
          "output_type": "stream",
          "name": "stdout",
          "text": [
            "(Epoch 2) TRAIN LOSS:0.4323 ACC:0.85 F1:0.60 REC:0.61 PRE:0.74 LR:0.00000300\n"
          ]
        },
        {
          "output_type": "stream",
          "name": "stderr",
          "text": [
            "VALID LOSS:0.4676 ACC:0.84 F1:0.59 REC:0.60 PRE:0.73: 100%|██████████| 697/697 [02:46<00:00,  4.20it/s]\n"
          ]
        },
        {
          "output_type": "stream",
          "name": "stdout",
          "text": [
            "(Epoch 2) VALID LOSS:0.4676 ACC:0.84 F1:0.59 REC:0.60 PRE:0.73\n"
          ]
        },
        {
          "output_type": "stream",
          "name": "stderr",
          "text": [
            "(Epoch 3) TRAIN LOSS:0.4064 LR:0.00000300: 100%|██████████| 1626/1626 [05:51<00:00,  4.63it/s]\n"
          ]
        },
        {
          "output_type": "stream",
          "name": "stdout",
          "text": [
            "(Epoch 3) TRAIN LOSS:0.4064 ACC:0.86 F1:0.62 REC:0.62 PRE:0.74 LR:0.00000300\n"
          ]
        },
        {
          "output_type": "stream",
          "name": "stderr",
          "text": [
            "VALID LOSS:0.4785 ACC:0.84 F1:0.59 REC:0.60 PRE:0.65: 100%|██████████| 697/697 [02:44<00:00,  4.23it/s]\n"
          ]
        },
        {
          "output_type": "stream",
          "name": "stdout",
          "text": [
            "(Epoch 3) VALID LOSS:0.4785 ACC:0.84 F1:0.59 REC:0.60 PRE:0.65\n"
          ]
        },
        {
          "output_type": "stream",
          "name": "stderr",
          "text": [
            "(Epoch 4) TRAIN LOSS:0.3782 LR:0.00000300: 100%|██████████| 1626/1626 [05:50<00:00,  4.64it/s]\n"
          ]
        },
        {
          "output_type": "stream",
          "name": "stdout",
          "text": [
            "(Epoch 4) TRAIN LOSS:0.3782 ACC:0.87 F1:0.64 REC:0.64 PRE:0.76 LR:0.00000300\n"
          ]
        },
        {
          "output_type": "stream",
          "name": "stderr",
          "text": [
            "VALID LOSS:0.4939 ACC:0.84 F1:0.60 REC:0.60 PRE:0.65: 100%|██████████| 697/697 [02:43<00:00,  4.25it/s]\n"
          ]
        },
        {
          "output_type": "stream",
          "name": "stdout",
          "text": [
            "(Epoch 4) VALID LOSS:0.4939 ACC:0.84 F1:0.60 REC:0.60 PRE:0.65\n"
          ]
        },
        {
          "output_type": "stream",
          "name": "stderr",
          "text": [
            "(Epoch 5) TRAIN LOSS:0.3499 LR:0.00000300: 100%|██████████| 1626/1626 [05:52<00:00,  4.61it/s]\n"
          ]
        },
        {
          "output_type": "stream",
          "name": "stdout",
          "text": [
            "(Epoch 5) TRAIN LOSS:0.3499 ACC:0.88 F1:0.67 REC:0.66 PRE:0.78 LR:0.00000300\n"
          ]
        },
        {
          "output_type": "stream",
          "name": "stderr",
          "text": [
            "VALID LOSS:0.5146 ACC:0.83 F1:0.60 REC:0.60 PRE:0.62: 100%|██████████| 697/697 [02:47<00:00,  4.17it/s]\n"
          ]
        },
        {
          "output_type": "stream",
          "name": "stdout",
          "text": [
            "(Epoch 5) VALID LOSS:0.5146 ACC:0.83 F1:0.60 REC:0.60 PRE:0.62\n"
          ]
        }
      ]
    },
    {
      "cell_type": "code",
      "source": [
        "# Evaluate on test\n",
        "model.eval()\n",
        "torch.set_grad_enabled(False)\n",
        "\n",
        "total_loss, total_correct, total_labels = 0, 0, 0\n",
        "list_hyp, list_label = [], []\n",
        "\n",
        "pbar = tqdm(test_loader, leave=True, total=len(test_loader))\n",
        "for i, batch_data in enumerate(pbar):\n",
        "    _, batch_hyp, _ = forward_sequence_classification(model, batch_data[:-1], i2w=i2w, device='cuda')\n",
        "    list_hyp += batch_hyp\n",
        "\n",
        "# Save prediction\n",
        "df_pred = pd.DataFrame({'label':list_hyp}).reset_index()"
      ],
      "metadata": {
        "colab": {
          "base_uri": "https://localhost:8080/"
        },
        "id": "qqTjwWvoizHl",
        "outputId": "8b159d8b-5520-48d8-eac1-0a1f8cba063b"
      },
      "execution_count": 74,
      "outputs": [
        {
          "output_type": "stream",
          "name": "stderr",
          "text": [
            "100%|██████████| 581/581 [00:43<00:00, 13.28it/s]\n"
          ]
        }
      ]
    },
    {
      "cell_type": "code",
      "source": [
        "df_pred"
      ],
      "metadata": {
        "colab": {
          "base_uri": "https://localhost:8080/",
          "height": 423
        },
        "id": "RvmIEkQri907",
        "outputId": "6802cc48-43e4-4f34-b170-5f79d6044027"
      },
      "execution_count": 75,
      "outputs": [
        {
          "output_type": "execute_result",
          "data": {
            "text/plain": [
              "       index     label\n",
              "0          0  negative\n",
              "1          1  negative\n",
              "2          2  negative\n",
              "3          3  positive\n",
              "4          4  negative\n",
              "...      ...       ...\n",
              "18575  18575  positive\n",
              "18576  18576  positive\n",
              "18577  18577  positive\n",
              "18578  18578  negative\n",
              "18579  18579  positive\n",
              "\n",
              "[18580 rows x 2 columns]"
            ],
            "text/html": [
              "\n",
              "\n",
              "  <div id=\"df-7edd67be-098e-4d88-b325-ec3af42ff177\">\n",
              "    <div class=\"colab-df-container\">\n",
              "      <div>\n",
              "<style scoped>\n",
              "    .dataframe tbody tr th:only-of-type {\n",
              "        vertical-align: middle;\n",
              "    }\n",
              "\n",
              "    .dataframe tbody tr th {\n",
              "        vertical-align: top;\n",
              "    }\n",
              "\n",
              "    .dataframe thead th {\n",
              "        text-align: right;\n",
              "    }\n",
              "</style>\n",
              "<table border=\"1\" class=\"dataframe\">\n",
              "  <thead>\n",
              "    <tr style=\"text-align: right;\">\n",
              "      <th></th>\n",
              "      <th>index</th>\n",
              "      <th>label</th>\n",
              "    </tr>\n",
              "  </thead>\n",
              "  <tbody>\n",
              "    <tr>\n",
              "      <th>0</th>\n",
              "      <td>0</td>\n",
              "      <td>negative</td>\n",
              "    </tr>\n",
              "    <tr>\n",
              "      <th>1</th>\n",
              "      <td>1</td>\n",
              "      <td>negative</td>\n",
              "    </tr>\n",
              "    <tr>\n",
              "      <th>2</th>\n",
              "      <td>2</td>\n",
              "      <td>negative</td>\n",
              "    </tr>\n",
              "    <tr>\n",
              "      <th>3</th>\n",
              "      <td>3</td>\n",
              "      <td>positive</td>\n",
              "    </tr>\n",
              "    <tr>\n",
              "      <th>4</th>\n",
              "      <td>4</td>\n",
              "      <td>negative</td>\n",
              "    </tr>\n",
              "    <tr>\n",
              "      <th>...</th>\n",
              "      <td>...</td>\n",
              "      <td>...</td>\n",
              "    </tr>\n",
              "    <tr>\n",
              "      <th>18575</th>\n",
              "      <td>18575</td>\n",
              "      <td>positive</td>\n",
              "    </tr>\n",
              "    <tr>\n",
              "      <th>18576</th>\n",
              "      <td>18576</td>\n",
              "      <td>positive</td>\n",
              "    </tr>\n",
              "    <tr>\n",
              "      <th>18577</th>\n",
              "      <td>18577</td>\n",
              "      <td>positive</td>\n",
              "    </tr>\n",
              "    <tr>\n",
              "      <th>18578</th>\n",
              "      <td>18578</td>\n",
              "      <td>negative</td>\n",
              "    </tr>\n",
              "    <tr>\n",
              "      <th>18579</th>\n",
              "      <td>18579</td>\n",
              "      <td>positive</td>\n",
              "    </tr>\n",
              "  </tbody>\n",
              "</table>\n",
              "<p>18580 rows × 2 columns</p>\n",
              "</div>\n",
              "      <button class=\"colab-df-convert\" onclick=\"convertToInteractive('df-7edd67be-098e-4d88-b325-ec3af42ff177')\"\n",
              "              title=\"Convert this dataframe to an interactive table.\"\n",
              "              style=\"display:none;\">\n",
              "\n",
              "  <svg xmlns=\"http://www.w3.org/2000/svg\" height=\"24px\"viewBox=\"0 0 24 24\"\n",
              "       width=\"24px\">\n",
              "    <path d=\"M0 0h24v24H0V0z\" fill=\"none\"/>\n",
              "    <path d=\"M18.56 5.44l.94 2.06.94-2.06 2.06-.94-2.06-.94-.94-2.06-.94 2.06-2.06.94zm-11 1L8.5 8.5l.94-2.06 2.06-.94-2.06-.94L8.5 2.5l-.94 2.06-2.06.94zm10 10l.94 2.06.94-2.06 2.06-.94-2.06-.94-.94-2.06-.94 2.06-2.06.94z\"/><path d=\"M17.41 7.96l-1.37-1.37c-.4-.4-.92-.59-1.43-.59-.52 0-1.04.2-1.43.59L10.3 9.45l-7.72 7.72c-.78.78-.78 2.05 0 2.83L4 21.41c.39.39.9.59 1.41.59.51 0 1.02-.2 1.41-.59l7.78-7.78 2.81-2.81c.8-.78.8-2.07 0-2.86zM5.41 20L4 18.59l7.72-7.72 1.47 1.35L5.41 20z\"/>\n",
              "  </svg>\n",
              "      </button>\n",
              "\n",
              "\n",
              "\n",
              "    <div id=\"df-99b46202-d550-4fd0-bfe5-5e4b7179a66b\">\n",
              "      <button class=\"colab-df-quickchart\" onclick=\"quickchart('df-99b46202-d550-4fd0-bfe5-5e4b7179a66b')\"\n",
              "              title=\"Suggest charts.\"\n",
              "              style=\"display:none;\">\n",
              "\n",
              "<svg xmlns=\"http://www.w3.org/2000/svg\" height=\"24px\"viewBox=\"0 0 24 24\"\n",
              "     width=\"24px\">\n",
              "    <g>\n",
              "        <path d=\"M19 3H5c-1.1 0-2 .9-2 2v14c0 1.1.9 2 2 2h14c1.1 0 2-.9 2-2V5c0-1.1-.9-2-2-2zM9 17H7v-7h2v7zm4 0h-2V7h2v10zm4 0h-2v-4h2v4z\"/>\n",
              "    </g>\n",
              "</svg>\n",
              "      </button>\n",
              "    </div>\n",
              "\n",
              "<style>\n",
              "  .colab-df-quickchart {\n",
              "    background-color: #E8F0FE;\n",
              "    border: none;\n",
              "    border-radius: 50%;\n",
              "    cursor: pointer;\n",
              "    display: none;\n",
              "    fill: #1967D2;\n",
              "    height: 32px;\n",
              "    padding: 0 0 0 0;\n",
              "    width: 32px;\n",
              "  }\n",
              "\n",
              "  .colab-df-quickchart:hover {\n",
              "    background-color: #E2EBFA;\n",
              "    box-shadow: 0px 1px 2px rgba(60, 64, 67, 0.3), 0px 1px 3px 1px rgba(60, 64, 67, 0.15);\n",
              "    fill: #174EA6;\n",
              "  }\n",
              "\n",
              "  [theme=dark] .colab-df-quickchart {\n",
              "    background-color: #3B4455;\n",
              "    fill: #D2E3FC;\n",
              "  }\n",
              "\n",
              "  [theme=dark] .colab-df-quickchart:hover {\n",
              "    background-color: #434B5C;\n",
              "    box-shadow: 0px 1px 3px 1px rgba(0, 0, 0, 0.15);\n",
              "    filter: drop-shadow(0px 1px 2px rgba(0, 0, 0, 0.3));\n",
              "    fill: #FFFFFF;\n",
              "  }\n",
              "</style>\n",
              "\n",
              "    <script>\n",
              "      async function quickchart(key) {\n",
              "        const containerElement = document.querySelector('#' + key);\n",
              "        const charts = await google.colab.kernel.invokeFunction(\n",
              "            'suggestCharts', [key], {});\n",
              "      }\n",
              "    </script>\n",
              "\n",
              "      <script>\n",
              "\n",
              "function displayQuickchartButton(domScope) {\n",
              "  let quickchartButtonEl =\n",
              "    domScope.querySelector('#df-99b46202-d550-4fd0-bfe5-5e4b7179a66b button.colab-df-quickchart');\n",
              "  quickchartButtonEl.style.display =\n",
              "    google.colab.kernel.accessAllowed ? 'block' : 'none';\n",
              "}\n",
              "\n",
              "        displayQuickchartButton(document);\n",
              "      </script>\n",
              "      <style>\n",
              "    .colab-df-container {\n",
              "      display:flex;\n",
              "      flex-wrap:wrap;\n",
              "      gap: 12px;\n",
              "    }\n",
              "\n",
              "    .colab-df-convert {\n",
              "      background-color: #E8F0FE;\n",
              "      border: none;\n",
              "      border-radius: 50%;\n",
              "      cursor: pointer;\n",
              "      display: none;\n",
              "      fill: #1967D2;\n",
              "      height: 32px;\n",
              "      padding: 0 0 0 0;\n",
              "      width: 32px;\n",
              "    }\n",
              "\n",
              "    .colab-df-convert:hover {\n",
              "      background-color: #E2EBFA;\n",
              "      box-shadow: 0px 1px 2px rgba(60, 64, 67, 0.3), 0px 1px 3px 1px rgba(60, 64, 67, 0.15);\n",
              "      fill: #174EA6;\n",
              "    }\n",
              "\n",
              "    [theme=dark] .colab-df-convert {\n",
              "      background-color: #3B4455;\n",
              "      fill: #D2E3FC;\n",
              "    }\n",
              "\n",
              "    [theme=dark] .colab-df-convert:hover {\n",
              "      background-color: #434B5C;\n",
              "      box-shadow: 0px 1px 3px 1px rgba(0, 0, 0, 0.15);\n",
              "      filter: drop-shadow(0px 1px 2px rgba(0, 0, 0, 0.3));\n",
              "      fill: #FFFFFF;\n",
              "    }\n",
              "  </style>\n",
              "\n",
              "      <script>\n",
              "        const buttonEl =\n",
              "          document.querySelector('#df-7edd67be-098e-4d88-b325-ec3af42ff177 button.colab-df-convert');\n",
              "        buttonEl.style.display =\n",
              "          google.colab.kernel.accessAllowed ? 'block' : 'none';\n",
              "\n",
              "        async function convertToInteractive(key) {\n",
              "          const element = document.querySelector('#df-7edd67be-098e-4d88-b325-ec3af42ff177');\n",
              "          const dataTable =\n",
              "            await google.colab.kernel.invokeFunction('convertToInteractive',\n",
              "                                                     [key], {});\n",
              "          if (!dataTable) return;\n",
              "\n",
              "          const docLinkHtml = 'Like what you see? Visit the ' +\n",
              "            '<a target=\"_blank\" href=https://colab.research.google.com/notebooks/data_table.ipynb>data table notebook</a>'\n",
              "            + ' to learn more about interactive tables.';\n",
              "          element.innerHTML = '';\n",
              "          dataTable['output_type'] = 'display_data';\n",
              "          await google.colab.output.renderOutput(dataTable, element);\n",
              "          const docLink = document.createElement('div');\n",
              "          docLink.innerHTML = docLinkHtml;\n",
              "          element.appendChild(docLink);\n",
              "        }\n",
              "      </script>\n",
              "    </div>\n",
              "  </div>\n"
            ]
          },
          "metadata": {},
          "execution_count": 75
        }
      ]
    },
    {
      "cell_type": "code",
      "source": [
        "df_pred.to_csv('pred.txt', index=False)"
      ],
      "metadata": {
        "id": "Fnl7ueqKhuAV"
      },
      "execution_count": 76,
      "outputs": []
    },
    {
      "cell_type": "markdown",
      "source": [
        "## Model Testing"
      ],
      "metadata": {
        "id": "pEeggF9rjAW-"
      }
    },
    {
      "cell_type": "code",
      "source": [
        "text = 'loading mulu nih, lama'\n",
        "subwords = tokenizer.encode(text)\n",
        "subwords = torch.LongTensor(subwords).view(1, -1).to(model.device)\n",
        "\n",
        "logits = model(subwords)[0]\n",
        "label = torch.topk(logits, k=1, dim=-1)[1].squeeze().item()\n",
        "\n",
        "print(f'Text: {text} | Label : {i2w[label]} ({F.softmax(logits, dim=-1).squeeze()[label] * 100:.3f}%)')"
      ],
      "metadata": {
        "colab": {
          "base_uri": "https://localhost:8080/"
        },
        "id": "sm-9tFN_hRIN",
        "outputId": "870bb64a-f4c5-4afc-cf7f-f2c73e6b71fe"
      },
      "execution_count": 77,
      "outputs": [
        {
          "output_type": "stream",
          "name": "stdout",
          "text": [
            "Text: loading mulu nih, lama | Label : negative (83.590%)\n"
          ]
        }
      ]
    },
    {
      "cell_type": "code",
      "source": [
        "text = 'berguna banget buat cari info up to date'\n",
        "subwords = tokenizer.encode(text)\n",
        "subwords = torch.LongTensor(subwords).view(1, -1).to(model.device)\n",
        "\n",
        "logits = model(subwords)[0]\n",
        "label = torch.topk(logits, k=1, dim=-1)[1].squeeze().item()\n",
        "\n",
        "print(f'Text: {text} | Label : {i2w[label]} ({F.softmax(logits, dim=-1).squeeze()[label] * 100:.3f}%)')"
      ],
      "metadata": {
        "colab": {
          "base_uri": "https://localhost:8080/"
        },
        "id": "PlRfsQCIh_Rs",
        "outputId": "aef88602-56e9-495a-b18e-5dd877dcf34f"
      },
      "execution_count": 79,
      "outputs": [
        {
          "output_type": "stream",
          "name": "stdout",
          "text": [
            "Text: berguna banget buat cari info up to date | Label : positive (98.231%)\n"
          ]
        }
      ]
    },
    {
      "cell_type": "markdown",
      "source": [
        "# Model Export"
      ],
      "metadata": {
        "id": "Y4iUPR88ithn"
      }
    },
    {
      "cell_type": "code",
      "source": [
        "import pickle\n",
        "pickle.dump(model, open('model.pkl', 'wb'))"
      ],
      "metadata": {
        "id": "vjWp9BAWiMmj"
      },
      "execution_count": 88,
      "outputs": []
    }
  ]
}